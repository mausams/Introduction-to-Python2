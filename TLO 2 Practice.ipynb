{
 "cells": [
  {
   "cell_type": "markdown",
   "id": "97555296",
   "metadata": {},
   "source": [
    "Q1. Creating variables of different data types (integer, float, string, and boolean)"
   ]
  },
  {
   "cell_type": "code",
   "execution_count": 1,
   "id": "4f69e368",
   "metadata": {},
   "outputs": [
    {
     "name": "stdout",
     "output_type": "stream",
     "text": [
      "30 35.0 2.857142857142857\n"
     ]
    }
   ],
   "source": [
    "a = 10\n",
    "b = 3.5\n",
    "c = \"20\"\n",
    "result1 = a + int(c)\n",
    "result2 = a * b\n",
    "result3 = a / b\n",
    "print(result1, result2, result3)\n"
   ]
  },
  {
   "cell_type": "code",
   "execution_count": 2,
   "id": "ca8c5551",
   "metadata": {},
   "outputs": [
    {
     "name": "stdout",
     "output_type": "stream",
     "text": [
      "40 50.0 8.0\n"
     ]
    }
   ],
   "source": [
    "x=20\n",
    "y=2.5\n",
    "z=\"40\"\n",
    "result1 = x+int(c)\n",
    "result2 = x*y\n",
    "result3= x/y\n",
    "print (result1, result2, result3)"
   ]
  },
  {
   "cell_type": "raw",
   "id": "89ad3232",
   "metadata": {},
   "source": [
    "Q2. Given a string s = \"Programming is fun!\", extract the word \"is\" using slicing.\n",
    "Solution:\n"
   ]
  },
  {
   "cell_type": "code",
   "execution_count": 3,
   "id": "f0141312",
   "metadata": {},
   "outputs": [
    {
     "name": "stdout",
     "output_type": "stream",
     "text": [
      "is\n"
     ]
    }
   ],
   "source": [
    "s = \"Programming is fun!\"\n",
    "extracted_word = s[12:14]\n",
    "print(extracted_word)\n"
   ]
  },
  {
   "cell_type": "markdown",
   "id": "d986f352",
   "metadata": {},
   "source": [
    "Q3.Calculate the area of a rectangle with length l and width w using the multiplication operator.\n"
   ]
  },
  {
   "cell_type": "code",
   "execution_count": 4,
   "id": "dbbc23a2",
   "metadata": {},
   "outputs": [
    {
     "name": "stdout",
     "output_type": "stream",
     "text": [
      "The area of the rectangle is: 50\n"
     ]
    }
   ],
   "source": [
    "l = 10\n",
    "w = 5\n",
    "area = l*w\n",
    "print(\"The area of the rectangle is:\", area)\n"
   ]
  },
  {
   "cell_type": "code",
   "execution_count": 5,
   "id": "d4bee11b",
   "metadata": {},
   "outputs": [
    {
     "name": "stdout",
     "output_type": "stream",
     "text": [
      "The area of the rectangle is: 180\n"
     ]
    }
   ],
   "source": [
    "l = 30\n",
    "w = 6\n",
    "area = l*w\n",
    "print(\"The area of the rectangle is:\", area)\n"
   ]
  },
  {
   "cell_type": "markdown",
   "id": "545824d5",
   "metadata": {},
   "source": [
    "Q4.Given two numbers x and y, calculate their sum, difference, product, and quotient using arithmetic operators.\n"
   ]
  },
  {
   "cell_type": "code",
   "execution_count": 6,
   "id": "b5b63709",
   "metadata": {},
   "outputs": [
    {
     "name": "stdout",
     "output_type": "stream",
     "text": [
      "Sum: 15\n",
      "Difference: -5\n",
      "Product: 50\n",
      "Quotient: 0.5\n"
     ]
    }
   ],
   "source": [
    "x = 5\n",
    "y = 10\n",
    "sum_result = x + y\n",
    "diff_result = x - y\n",
    "prod_result = x * y\n",
    "quot_result = x / y\n",
    "print(\"Sum:\", sum_result)\n",
    "print(\"Difference:\", diff_result)\n",
    "print(\"Product:\", prod_result)\n",
    "print(\"Quotient:\", quot_result)"
   ]
  },
  {
   "cell_type": "markdown",
   "id": "d7717ea8",
   "metadata": {},
   "source": [
    "Q6.Determine the remainder of the division of two numbers a and b using the modulo operator.\n",
    "Solution:\n"
   ]
  },
  {
   "cell_type": "code",
   "execution_count": 7,
   "id": "a0f25046",
   "metadata": {},
   "outputs": [
    {
     "name": "stdout",
     "output_type": "stream",
     "text": [
      "The remainder of the division is: 3\n"
     ]
    }
   ],
   "source": [
    "a = 15\n",
    "b = 4\n",
    "remainder = a % b\n",
    "print(\"The remainder of the division is:\", remainder)\n"
   ]
  },
  {
   "cell_type": "code",
   "execution_count": 8,
   "id": "30153e19",
   "metadata": {},
   "outputs": [
    {
     "name": "stdout",
     "output_type": "stream",
     "text": [
      "The remainder of the division is: 6\n"
     ]
    }
   ],
   "source": [
    "a = 20\n",
    "b= 7\n",
    "remainder = a%b\n",
    "print(\"The remainder of the division is:\", remainder)"
   ]
  },
  {
   "cell_type": "code",
   "execution_count": 9,
   "id": "a2af9327",
   "metadata": {},
   "outputs": [],
   "source": [
    "#Taking Input in Python:-"
   ]
  },
  {
   "cell_type": "code",
   "execution_count": 10,
   "id": "05ca3a18",
   "metadata": {},
   "outputs": [
    {
     "name": "stdout",
     "output_type": "stream",
     "text": [
      "Enter the first number: 90\n",
      "Enter the second number: 80\n",
      "Sum: 170.0\n",
      "Difference: 10.0\n",
      "Product: 7200.0\n",
      "Quotient: 1.125\n"
     ]
    }
   ],
   "source": [
    "x = float(input(\"Enter the first number: \"))\n",
    "y = float(input(\"Enter the second number: \"))\n",
    "\n",
    "\n",
    "sum_result = x + y\n",
    "diff_result = x - y\n",
    "prod_result = x * y\n",
    "quot_result = x / y\n",
    "\n",
    "\n",
    "print(\"Sum:\", sum_result)\n",
    "print(\"Difference:\", diff_result)\n",
    "print(\"Product:\", prod_result)\n",
    "print(\"Quotient:\", quot_result)\n"
   ]
  },
  {
   "cell_type": "markdown",
   "id": "60ca4079",
   "metadata": {},
   "source": [
    "Q. Take the length and width of a rectangle as input from the user and calculate its area.\n"
   ]
  },
  {
   "cell_type": "code",
   "execution_count": 11,
   "id": "c3d721b1",
   "metadata": {},
   "outputs": [
    {
     "name": "stdout",
     "output_type": "stream",
     "text": [
      "Enter the length of the rectangle: 70\n",
      "Enter the width of the rectangle: 40\n",
      "The area of the rectangle is: 2800.0\n"
     ]
    }
   ],
   "source": [
    "l = float(input(\"Enter the length of the rectangle: \"))\n",
    "w = float(input(\"Enter the width of the rectangle: \"))\n",
    "area = l * w\n",
    "print(\"The area of the rectangle is:\", area)\n"
   ]
  },
  {
   "cell_type": "code",
   "execution_count": null,
   "id": "bb65e15a",
   "metadata": {},
   "outputs": [],
   "source": []
  }
 ],
 "metadata": {
  "kernelspec": {
   "display_name": "Python 3 (ipykernel)",
   "language": "python",
   "name": "python3"
  },
  "language_info": {
   "codemirror_mode": {
    "name": "ipython",
    "version": 3
   },
   "file_extension": ".py",
   "mimetype": "text/x-python",
   "name": "python",
   "nbconvert_exporter": "python",
   "pygments_lexer": "ipython3",
   "version": "3.9.12"
  }
 },
 "nbformat": 4,
 "nbformat_minor": 5
}
