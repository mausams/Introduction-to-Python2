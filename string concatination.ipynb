{
 "cells": [
  {
   "cell_type": "code",
   "execution_count": 1,
   "id": "83b99935",
   "metadata": {},
   "outputs": [
    {
     "data": {
      "text/plain": [
       "'4043'"
      ]
     },
     "execution_count": 1,
     "metadata": {},
     "output_type": "execute_result"
    }
   ],
   "source": [
    "'40' +'43'"
   ]
  },
  {
   "cell_type": "code",
   "execution_count": 2,
   "id": "722d434d",
   "metadata": {},
   "outputs": [],
   "source": [
    "#String concatination"
   ]
  },
  {
   "cell_type": "code",
   "execution_count": 3,
   "id": "54bca1c2",
   "metadata": {},
   "outputs": [],
   "source": [
    "x = 'Hello World'"
   ]
  },
  {
   "cell_type": "code",
   "execution_count": 4,
   "id": "25bda7ce",
   "metadata": {},
   "outputs": [
    {
     "data": {
      "text/plain": [
       "str"
      ]
     },
     "execution_count": 4,
     "metadata": {},
     "output_type": "execute_result"
    }
   ],
   "source": [
    "type(x)"
   ]
  },
  {
   "cell_type": "code",
   "execution_count": 6,
   "id": "77cbfca5",
   "metadata": {},
   "outputs": [
    {
     "data": {
      "text/plain": [
       "'Hello World its beautiful life, beautiful day!'"
      ]
     },
     "execution_count": 6,
     "metadata": {},
     "output_type": "execute_result"
    }
   ],
   "source": [
    "x + ' its beautiful life, beautiful day!'"
   ]
  },
  {
   "cell_type": "code",
   "execution_count": 15,
   "id": "4e127ae6",
   "metadata": {},
   "outputs": [],
   "source": [
    "letter = 'h'"
   ]
  },
  {
   "cell_type": "raw",
   "id": "913d843b",
   "metadata": {},
   "source": []
  },
  {
   "cell_type": "code",
   "execution_count": 16,
   "id": "c544557f",
   "metadata": {},
   "outputs": [
    {
     "data": {
      "text/plain": [
       "'hhhhhhhhhhhhhhhhhhhh'"
      ]
     },
     "execution_count": 16,
     "metadata": {},
     "output_type": "execute_result"
    }
   ],
   "source": [
    "letter * 20"
   ]
  },
  {
   "cell_type": "code",
   "execution_count": null,
   "id": "6d3fb03d",
   "metadata": {},
   "outputs": [],
   "source": []
  },
  {
   "cell_type": "code",
   "execution_count": 18,
   "id": "db44fd6a",
   "metadata": {},
   "outputs": [],
   "source": [
    "x = 'hello world'"
   ]
  },
  {
   "cell_type": "code",
   "execution_count": 20,
   "id": "b1c8acbe",
   "metadata": {},
   "outputs": [
    {
     "data": {
      "text/plain": [
       "'HELLO WORLD'"
      ]
     },
     "execution_count": 20,
     "metadata": {},
     "output_type": "execute_result"
    }
   ],
   "source": [
    "x.upper()"
   ]
  },
  {
   "cell_type": "code",
   "execution_count": 23,
   "id": "a51f474a",
   "metadata": {},
   "outputs": [
    {
     "data": {
      "text/plain": [
       "['he', '', 'o wor', 'd']"
      ]
     },
     "execution_count": 23,
     "metadata": {},
     "output_type": "execute_result"
    }
   ],
   "source": [
    "x.split('l')"
   ]
  },
  {
   "cell_type": "code",
   "execution_count": 24,
   "id": "f31a3d9a",
   "metadata": {},
   "outputs": [
    {
     "data": {
      "text/plain": [
       "'hello world'"
      ]
     },
     "execution_count": 24,
     "metadata": {},
     "output_type": "execute_result"
    }
   ],
   "source": [
    "x.lower()"
   ]
  },
  {
   "cell_type": "code",
   "execution_count": 25,
   "id": "b6ddb198",
   "metadata": {},
   "outputs": [
    {
     "data": {
      "text/plain": [
       "'\\nHEY THIS IS MULYILINE COMMENT\\nIM A MULTILINE\\n'"
      ]
     },
     "execution_count": 25,
     "metadata": {},
     "output_type": "execute_result"
    }
   ],
   "source": [
    "'''\n",
    "HEY THIS IS MULYILINE COMMENT\n",
    "IM A MULTILINE\n",
    "'''"
   ]
  },
  {
   "cell_type": "code",
   "execution_count": 28,
   "id": "ce08e604",
   "metadata": {},
   "outputs": [
    {
     "name": "stdout",
     "output_type": "stream",
     "text": [
      "Hello my name is mausam\n"
     ]
    }
   ],
   "source": [
    "my_name = 'mausam'\n",
    "print('Hello my name is ' + my_name )"
   ]
  },
  {
   "cell_type": "code",
   "execution_count": 30,
   "id": "204107fd",
   "metadata": {},
   "outputs": [],
   "source": [
    "#.format method"
   ]
  },
  {
   "cell_type": "code",
   "execution_count": 31,
   "id": "c2d94d06",
   "metadata": {},
   "outputs": [],
   "source": [
    "#'String here {} {} {}'.format(something1, someething2, something3)\n"
   ]
  },
  {
   "cell_type": "code",
   "execution_count": 33,
   "id": "01233ccc",
   "metadata": {},
   "outputs": [
    {
     "name": "stdout",
     "output_type": "stream",
     "text": [
      "I am a student of Mrdhavi Skills University\n"
     ]
    }
   ],
   "source": [
    "print('I am a student of {}'.format ('Mrdhavi Skills University'))"
   ]
  },
  {
   "cell_type": "code",
   "execution_count": 40,
   "id": "02a943a6",
   "metadata": {},
   "outputs": [
    {
     "name": "stdout",
     "output_type": "stream",
     "text": [
      "The quick brown fox\n"
     ]
    }
   ],
   "source": [
    "print('The {q} {b} {f}'.format(b='brown',q='quick',f='fox'))"
   ]
  },
  {
   "cell_type": "code",
   "execution_count": 66,
   "id": "f4c7df75",
   "metadata": {},
   "outputs": [
    {
     "name": "stdout",
     "output_type": "stream",
     "text": [
      "The fox brown quick\n"
     ]
    }
   ],
   "source": [
    "print('The {2} {0} {1}'.format('brown','quick','fox'))"
   ]
  },
  {
   "cell_type": "code",
   "execution_count": 48,
   "id": "037bf76c",
   "metadata": {},
   "outputs": [],
   "source": [
    "#Float formatting(Value:width.precision f)"
   ]
  },
  {
   "cell_type": "code",
   "execution_count": 43,
   "id": "f935cdf4",
   "metadata": {},
   "outputs": [],
   "source": [
    "result = 160/77"
   ]
  },
  {
   "cell_type": "code",
   "execution_count": 44,
   "id": "653d4465",
   "metadata": {},
   "outputs": [
    {
     "data": {
      "text/plain": [
       "2.0779220779220777"
      ]
     },
     "execution_count": 44,
     "metadata": {},
     "output_type": "execute_result"
    }
   ],
   "source": [
    "result"
   ]
  },
  {
   "cell_type": "code",
   "execution_count": 47,
   "id": "56c3662d",
   "metadata": {},
   "outputs": [
    {
     "name": "stdout",
     "output_type": "stream",
     "text": [
      "The result is 2.07792\n"
     ]
    }
   ],
   "source": [
    "print('The result is {r:1.5f}'.format(r=result))"
   ]
  },
  {
   "cell_type": "code",
   "execution_count": 49,
   "id": "7dff6ca0",
   "metadata": {
    "scrolled": true
   },
   "outputs": [
    {
     "name": "stdout",
     "output_type": "stream",
     "text": [
      "The result is 2.077922\n"
     ]
    }
   ],
   "source": [
    "print('The result is {r:2.6f}'.format(r=result))"
   ]
  },
  {
   "cell_type": "code",
   "execution_count": 59,
   "id": "9d75119f",
   "metadata": {},
   "outputs": [],
   "source": [
    "#Class task "
   ]
  },
  {
   "cell_type": "code",
   "execution_count": 50,
   "id": "2a2bffef",
   "metadata": {},
   "outputs": [],
   "source": [
    "c = 'going'"
   ]
  },
  {
   "cell_type": "code",
   "execution_count": 52,
   "id": "467ab992",
   "metadata": {},
   "outputs": [
    {
     "data": {
      "text/plain": [
       "'going'"
      ]
     },
     "execution_count": 52,
     "metadata": {},
     "output_type": "execute_result"
    }
   ],
   "source": [
    "c "
   ]
  },
  {
   "cell_type": "code",
   "execution_count": 54,
   "id": "5c93b87c",
   "metadata": {},
   "outputs": [
    {
     "data": {
      "text/plain": [
       "str"
      ]
     },
     "execution_count": 54,
     "metadata": {},
     "output_type": "execute_result"
    }
   ],
   "source": [
    "type(c)"
   ]
  },
  {
   "cell_type": "code",
   "execution_count": 57,
   "id": "a8f9c706",
   "metadata": {},
   "outputs": [],
   "source": [
    "s1 = 'hello'\n",
    "s2 = ' im a '\n",
    "s3 = \"python programmer\""
   ]
  },
  {
   "cell_type": "code",
   "execution_count": 58,
   "id": "f1a459d9",
   "metadata": {},
   "outputs": [
    {
     "data": {
      "text/plain": [
       "'hello im a python programmer'"
      ]
     },
     "execution_count": 58,
     "metadata": {},
     "output_type": "execute_result"
    }
   ],
   "source": [
    "s1+s2+s3"
   ]
  },
  {
   "cell_type": "code",
   "execution_count": 60,
   "id": "e653825d",
   "metadata": {},
   "outputs": [],
   "source": [
    "x = \"the quick brown fox\""
   ]
  },
  {
   "cell_type": "code",
   "execution_count": 61,
   "id": "b0f58fda",
   "metadata": {},
   "outputs": [
    {
     "data": {
      "text/plain": [
       "str"
      ]
     },
     "execution_count": 61,
     "metadata": {},
     "output_type": "execute_result"
    }
   ],
   "source": [
    "type(x)"
   ]
  },
  {
   "cell_type": "code",
   "execution_count": 65,
   "id": "bc1065ca",
   "metadata": {},
   "outputs": [
    {
     "data": {
      "text/plain": [
       "'THE QUICK BROWN FOX'"
      ]
     },
     "execution_count": 65,
     "metadata": {},
     "output_type": "execute_result"
    }
   ],
   "source": [
    "x.upper()"
   ]
  },
  {
   "cell_type": "code",
   "execution_count": 1,
   "id": "98818e96",
   "metadata": {},
   "outputs": [
    {
     "name": "stdout",
     "output_type": "stream",
     "text": [
      "The   \n"
     ]
    }
   ],
   "source": [
    "print('The {} {} {}'.format('','',''))\n"
   ]
  },
  {
   "cell_type": "code",
   "execution_count": 2,
   "id": "df52ffed",
   "metadata": {},
   "outputs": [],
   "source": [
    "#6"
   ]
  },
  {
   "cell_type": "code",
   "execution_count": 3,
   "id": "4e81abd4",
   "metadata": {},
   "outputs": [],
   "source": [
    "mystring=\"i love programming in python\""
   ]
  },
  {
   "cell_type": "code",
   "execution_count": 4,
   "id": "ffaf3308",
   "metadata": {},
   "outputs": [
    {
     "data": {
      "text/plain": [
       "'i love programming in python'"
      ]
     },
     "execution_count": 4,
     "metadata": {},
     "output_type": "execute_result"
    }
   ],
   "source": [
    "mystring"
   ]
  },
  {
   "cell_type": "code",
   "execution_count": 5,
   "id": "1d6edbb9",
   "metadata": {},
   "outputs": [
    {
     "data": {
      "text/plain": [
       "'i l'"
      ]
     },
     "execution_count": 5,
     "metadata": {},
     "output_type": "execute_result"
    }
   ],
   "source": [
    "mystring[0:3]"
   ]
  },
  {
   "cell_type": "code",
   "execution_count": 6,
   "id": "04db2ce8",
   "metadata": {},
   "outputs": [
    {
     "data": {
      "text/plain": [
       "'love'"
      ]
     },
     "execution_count": 6,
     "metadata": {},
     "output_type": "execute_result"
    }
   ],
   "source": [
    "mystring[2:6]"
   ]
  },
  {
   "cell_type": "code",
   "execution_count": 7,
   "id": "be74ec77",
   "metadata": {},
   "outputs": [],
   "source": [
    "#7"
   ]
  },
  {
   "cell_type": "code",
   "execution_count": 8,
   "id": "569657da",
   "metadata": {},
   "outputs": [],
   "source": [
    "PI=3.1415926525"
   ]
  },
  {
   "cell_type": "code",
   "execution_count": null,
   "id": "6224a283",
   "metadata": {},
   "outputs": [],
   "source": [
    "print"
   ]
  }
 ],
 "metadata": {
  "kernelspec": {
   "display_name": "Python 3 (ipykernel)",
   "language": "python",
   "name": "python3"
  },
  "language_info": {
   "codemirror_mode": {
    "name": "ipython",
    "version": 3
   },
   "file_extension": ".py",
   "mimetype": "text/x-python",
   "name": "python",
   "nbconvert_exporter": "python",
   "pygments_lexer": "ipython3",
   "version": "3.9.12"
  }
 },
 "nbformat": 4,
 "nbformat_minor": 5
}
