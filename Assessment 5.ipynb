{
 "cells": [
  {
   "cell_type": "markdown",
   "id": "b0009f8d",
   "metadata": {},
   "source": [
    "1. Write a Python program function that inputs a number and prints the multiplication\n",
    "table of that number"
   ]
  },
  {
   "cell_type": "code",
   "execution_count": 18,
   "id": "84e261ab",
   "metadata": {},
   "outputs": [
    {
     "name": "stdout",
     "output_type": "stream",
     "text": [
      "Enter the number 9\n",
      "9 x 1 = 9\n",
      "9 x 2 = 18\n",
      "9 x 3 = 27\n",
      "9 x 4 = 36\n",
      "9 x 5 = 45\n",
      "9 x 6 = 54\n",
      "9 x 7 = 63\n",
      "9 x 8 = 72\n",
      "9 x 9 = 81\n",
      "9 x 10 = 90\n"
     ]
    }
   ],
   "source": [
    "n = int(input(\"Enter the number \"))\n",
    "for num in range(1,11):\n",
    "    print(n,'x', num, '=', n*num)"
   ]
  },
  {
   "cell_type": "markdown",
   "id": "b6994372",
   "metadata": {},
   "source": [
    "2. Write a Python function to find the maximum and minimum of three numbers."
   ]
  },
  {
   "cell_type": "code",
   "execution_count": 19,
   "id": "397a9a1e",
   "metadata": {},
   "outputs": [
    {
     "name": "stdout",
     "output_type": "stream",
     "text": [
      "The maximum of three num is 14\n",
      "and the minimum of three num is 10\n"
     ]
    }
   ],
   "source": [
    "a = 10\n",
    "b = 14\n",
    "c = 12\n",
    "\n",
    "maximum = (max(a, b, c))\n",
    "minimum = (min(a, b, c))\n",
    "print('The maximum of three num is',maximum)\n",
    "print('and the minimum of three num is',minimum)"
   ]
  },
  {
   "cell_type": "markdown",
   "id": "af09f33f",
   "metadata": {},
   "source": [
    "Q3. Write a function that takes in a list of floats and returns True if the list contains\n",
    "duplicates and False if the list does not contain duplicates\n",
    "\n",
    "\n",
    "Sample List : [1, 2, 3, 4, 5, 2, 7, 8, 9]\n",
    "\n",
    "\n",
    "Result : True, Duplicate Number is : 2"
   ]
  },
  {
   "cell_type": "code",
   "execution_count": 58,
   "id": "9c0184d9",
   "metadata": {},
   "outputs": [],
   "source": [
    "mylist1 = [1, 2, 3, 4, 5, 2, 7, 8, 9] \n"
   ]
  },
  {
   "cell_type": "markdown",
   "id": "f1b18fc5",
   "metadata": {},
   "source": [
    "Q4. Write a LAMBDA function that takes in a list of floats and returns True if the list\n",
    "contains duplicates and False if the list does not contain duplicates\n",
    "\n",
    "Sample List : [1, 2, 3, 4, 5, 10, 7, 8, 10]\n",
    "    \n",
    "Result : True, Duplicate Number is : 10\n"
   ]
  },
  {
   "cell_type": "code",
   "execution_count": null,
   "id": "4f773e8d",
   "metadata": {},
   "outputs": [],
   "source": []
  },
  {
   "cell_type": "markdown",
   "id": "c25123a3",
   "metadata": {},
   "source": [
    "5. Write a Python program function to create a Simple Calculator with operations (+, -,\n",
    "*, /, ^ )"
   ]
  },
  {
   "cell_type": "code",
   "execution_count": 17,
   "id": "42de9c3a",
   "metadata": {},
   "outputs": [
    {
     "name": "stdout",
     "output_type": "stream",
     "text": [
      "Enter an operator(+ - * /)*\n",
      "Enter the First number!8\n",
      "Enter the Second number!9\n",
      "72.0\n"
     ]
    }
   ],
   "source": [
    "operator = input(\"Enter an operator(+ - * /)\")\n",
    "num1 = float(input(\"Enter the First number!\"))\n",
    "num2 = float(input(\"Enter the Second number!\"))\n",
    "\n",
    "if operator ==\"+\":\n",
    "    result = num1 + num2\n",
    "    print (result)\n",
    "elif operator ==\"-\":\n",
    "    result = num1 - num2\n",
    "    print (result)\n",
    "elif operator ==\"*\":\n",
    "    result = num1 * num2\n",
    "    print (result)\n",
    "elif operator ==\"/\":\n",
    "    result = num1 / num2\n",
    "    print (result)\n",
    "else:\n",
    "    print(f'{operator} is not vaild operator')\n"
   ]
  },
  {
   "cell_type": "markdown",
   "id": "96b0769d",
   "metadata": {},
   "source": [
    "\n",
    "6. Generate a random list of 10 integers between 1 and 100, then print the minimum and\n",
    "maximum values"
   ]
  },
  {
   "cell_type": "code",
   "execution_count": 111,
   "id": "6ced4c80",
   "metadata": {},
   "outputs": [
    {
     "name": "stdout",
     "output_type": "stream",
     "text": [
      "[56, 47, 44, 32, 76, 10, 9, 25, 39, 13, 91]\n"
     ]
    }
   ],
   "source": [
    "import random\n",
    "randomList=[]\n",
    "for item in range(11):\n",
    "    rani =random.randint(1,100)\n",
    "    \n",
    "    if rani not in randomList:\n",
    "        randomList.append(rani)\n",
    "print(randomList)\n",
    "\n",
    "maximum = (max(randomList))\n",
    "minimum = (min(randomList))"
   ]
  },
  {
   "cell_type": "code",
   "execution_count": 10,
   "id": "8929474f",
   "metadata": {},
   "outputs": [
    {
     "name": "stdout",
     "output_type": "stream",
     "text": [
      "The maximun value is 14\n"
     ]
    }
   ],
   "source": [
    "print('The maximun value is', maximum)"
   ]
  },
  {
   "cell_type": "code",
   "execution_count": 12,
   "id": "f985890b",
   "metadata": {},
   "outputs": [
    {
     "name": "stdout",
     "output_type": "stream",
     "text": [
      "The minimum value is 10\n"
     ]
    }
   ],
   "source": [
    "print('The minimum value is', minimum)"
   ]
  },
  {
   "cell_type": "markdown",
   "id": "355e3486",
   "metadata": {},
   "source": [
    "7. Use argument (*args) to get the table of 8:"
   ]
  },
  {
   "cell_type": "code",
   "execution_count": 79,
   "id": "7b67156b",
   "metadata": {},
   "outputs": [],
   "source": [
    "def myfunc(*args):\n",
    "    for item in args:\n",
    "        print(item)\n",
    "    for num in range(1,11):\n",
    "        print(item,'x', num, '=', item*num)\n",
    "  "
   ]
  },
  {
   "cell_type": "code",
   "execution_count": 80,
   "id": "2820b32b",
   "metadata": {},
   "outputs": [
    {
     "name": "stdout",
     "output_type": "stream",
     "text": [
      "8\n",
      "8 x 1 = 8\n",
      "8 x 2 = 16\n",
      "8 x 3 = 24\n",
      "8 x 4 = 32\n",
      "8 x 5 = 40\n",
      "8 x 6 = 48\n",
      "8 x 7 = 56\n",
      "8 x 8 = 64\n",
      "8 x 9 = 72\n",
      "8 x 10 = 80\n"
     ]
    }
   ],
   "source": [
    "myfunc(8)"
   ]
  },
  {
   "cell_type": "code",
   "execution_count": null,
   "id": "376b3dc8",
   "metadata": {},
   "outputs": [],
   "source": []
  }
 ],
 "metadata": {
  "kernelspec": {
   "display_name": "Python 3 (ipykernel)",
   "language": "python",
   "name": "python3"
  },
  "language_info": {
   "codemirror_mode": {
    "name": "ipython",
    "version": 3
   },
   "file_extension": ".py",
   "mimetype": "text/x-python",
   "name": "python",
   "nbconvert_exporter": "python",
   "pygments_lexer": "ipython3",
   "version": "3.10.9"
  }
 },
 "nbformat": 4,
 "nbformat_minor": 5
}
