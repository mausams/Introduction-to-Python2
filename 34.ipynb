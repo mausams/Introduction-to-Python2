{
 "cells": [
  {
   "cell_type": "code",
   "execution_count": 1,
   "id": "320f439f",
   "metadata": {},
   "outputs": [
    {
     "data": {
      "text/plain": [
       "'hello'"
      ]
     },
     "execution_count": 1,
     "metadata": {},
     "output_type": "execute_result"
    }
   ],
   "source": [
    "'hello'"
   ]
  },
  {
   "cell_type": "code",
   "execution_count": 2,
   "id": "5a079704",
   "metadata": {},
   "outputs": [
    {
     "data": {
      "text/plain": [
       "'HELLO'"
      ]
     },
     "execution_count": 2,
     "metadata": {},
     "output_type": "execute_result"
    }
   ],
   "source": [
    "\"HELLO\"\n"
   ]
  },
  {
   "cell_type": "code",
   "execution_count": 3,
   "id": "a127cbc2",
   "metadata": {},
   "outputs": [
    {
     "name": "stdout",
     "output_type": "stream",
     "text": [
      "HELLO\n"
     ]
    }
   ],
   "source": [
    "print('HELLO')"
   ]
  },
  {
   "cell_type": "code",
   "execution_count": 5,
   "id": "77f91a11",
   "metadata": {},
   "outputs": [
    {
     "name": "stdout",
     "output_type": "stream",
     "text": [
      "it is a beautiful day! \n",
      "I want to get out\n"
     ]
    }
   ],
   "source": [
    "print ('it is a beautiful day! \\nI want to get out')"
   ]
  },
  {
   "cell_type": "code",
   "execution_count": 6,
   "id": "4cd33d82",
   "metadata": {},
   "outputs": [
    {
     "name": "stdout",
     "output_type": "stream",
     "text": [
      "python uses indentation \t those are species\n"
     ]
    }
   ],
   "source": [
    "print ('python uses indentation \\t those are species')"
   ]
  },
  {
   "cell_type": "code",
   "execution_count": 19,
   "id": "a6029755",
   "metadata": {},
   "outputs": [],
   "source": [
    "my_strings = 'monday'"
   ]
  },
  {
   "cell_type": "code",
   "execution_count": 20,
   "id": "9872981d",
   "metadata": {
    "scrolled": true
   },
   "outputs": [
    {
     "data": {
      "text/plain": [
       "'monday'"
      ]
     },
     "execution_count": 20,
     "metadata": {},
     "output_type": "execute_result"
    }
   ],
   "source": [
    "my_strings"
   ]
  },
  {
   "cell_type": "code",
   "execution_count": 22,
   "id": "78b69fbf",
   "metadata": {},
   "outputs": [],
   "source": [
    "my_strings = 'friday'"
   ]
  },
  {
   "cell_type": "code",
   "execution_count": 37,
   "id": "2c733519",
   "metadata": {},
   "outputs": [],
   "source": [
    "len = ('my-strings')"
   ]
  },
  {
   "cell_type": "code",
   "execution_count": 33,
   "id": "7ac786bd",
   "metadata": {},
   "outputs": [],
   "source": [
    "my_strings =4\n"
   ]
  },
  {
   "cell_type": "code",
   "execution_count": 8,
   "id": "1b1856ce",
   "metadata": {},
   "outputs": [],
   "source": [
    "#indexing"
   ]
  },
  {
   "cell_type": "code",
   "execution_count": 9,
   "id": "d255c9d0",
   "metadata": {},
   "outputs": [],
   "source": [
    "mystring = 'hello World'"
   ]
  },
  {
   "cell_type": "code",
   "execution_count": 10,
   "id": "afc5074a",
   "metadata": {},
   "outputs": [
    {
     "data": {
      "text/plain": [
       "'hello World'"
      ]
     },
     "execution_count": 10,
     "metadata": {},
     "output_type": "execute_result"
    }
   ],
   "source": [
    "mystring"
   ]
  },
  {
   "cell_type": "code",
   "execution_count": 12,
   "id": "d0baac6f",
   "metadata": {},
   "outputs": [
    {
     "data": {
      "text/plain": [
       "'ello World'"
      ]
     },
     "execution_count": 12,
     "metadata": {},
     "output_type": "execute_result"
    }
   ],
   "source": [
    "mystring[1:]"
   ]
  },
  {
   "cell_type": "code",
   "execution_count": 13,
   "id": "f1a9b0cd",
   "metadata": {},
   "outputs": [
    {
     "data": {
      "text/plain": [
       "'hell'"
      ]
     },
     "execution_count": 13,
     "metadata": {},
     "output_type": "execute_result"
    }
   ],
   "source": [
    "mystring[:4]"
   ]
  },
  {
   "cell_type": "code",
   "execution_count": 14,
   "id": "7d29a244",
   "metadata": {},
   "outputs": [],
   "source": [
    "#sclicing [start:stop:step]"
   ]
  },
  {
   "cell_type": "code",
   "execution_count": 15,
   "id": "945a5a92",
   "metadata": {},
   "outputs": [],
   "source": [
    "mystrings = 'MausamSubbaLimboo'"
   ]
  },
  {
   "cell_type": "code",
   "execution_count": 16,
   "id": "75d521af",
   "metadata": {},
   "outputs": [
    {
     "data": {
      "text/plain": [
       "'MausamSubbaLimboo'"
      ]
     },
     "execution_count": 16,
     "metadata": {},
     "output_type": "execute_result"
    }
   ],
   "source": [
    "mystrings"
   ]
  },
  {
   "cell_type": "code",
   "execution_count": 38,
   "id": "fd539288",
   "metadata": {},
   "outputs": [
    {
     "data": {
      "text/plain": [
       "'MausamSubbaLimboo'"
      ]
     },
     "execution_count": 38,
     "metadata": {},
     "output_type": "execute_result"
    }
   ],
   "source": [
    "mystrings[0:]"
   ]
  },
  {
   "cell_type": "code",
   "execution_count": 39,
   "id": "54b7d203",
   "metadata": {},
   "outputs": [
    {
     "data": {
      "text/plain": [
       "'Mausa'"
      ]
     },
     "execution_count": 39,
     "metadata": {},
     "output_type": "execute_result"
    }
   ],
   "source": [
    "mystrings[0:5]"
   ]
  },
  {
   "cell_type": "code",
   "execution_count": 40,
   "id": "ca1a4e48",
   "metadata": {},
   "outputs": [
    {
     "data": {
      "text/plain": [
       "'samSubbaLimboo'"
      ]
     },
     "execution_count": 40,
     "metadata": {},
     "output_type": "execute_result"
    }
   ],
   "source": [
    "mystrings[3:]"
   ]
  },
  {
   "cell_type": "code",
   "execution_count": 41,
   "id": "21404adc",
   "metadata": {},
   "outputs": [
    {
     "data": {
      "text/plain": [
       "'Mua'"
      ]
     },
     "execution_count": 41,
     "metadata": {},
     "output_type": "execute_result"
    }
   ],
   "source": [
    "mystrings[0:5:2]"
   ]
  },
  {
   "cell_type": "code",
   "execution_count": 42,
   "id": "4f5a6d21",
   "metadata": {},
   "outputs": [
    {
     "data": {
      "text/plain": [
       "'oobmiLabbuSmasuaM'"
      ]
     },
     "execution_count": 42,
     "metadata": {},
     "output_type": "execute_result"
    }
   ],
   "source": [
    "mystrings[::-1]"
   ]
  },
  {
   "cell_type": "code",
   "execution_count": 43,
   "id": "a9c5396d",
   "metadata": {},
   "outputs": [
    {
     "data": {
      "text/plain": [
       "''"
      ]
     },
     "execution_count": 43,
     "metadata": {},
     "output_type": "execute_result"
    }
   ],
   "source": [
    "mystrings[-5:-7:3]"
   ]
  },
  {
   "cell_type": "code",
   "execution_count": null,
   "id": "28b3eec8",
   "metadata": {},
   "outputs": [],
   "source": []
  }
 ],
 "metadata": {
  "kernelspec": {
   "display_name": "Python 3 (ipykernel)",
   "language": "python",
   "name": "python3"
  },
  "language_info": {
   "codemirror_mode": {
    "name": "ipython",
    "version": 3
   },
   "file_extension": ".py",
   "mimetype": "text/x-python",
   "name": "python",
   "nbconvert_exporter": "python",
   "pygments_lexer": "ipython3",
   "version": "3.9.12"
  }
 },
 "nbformat": 4,
 "nbformat_minor": 5
}
