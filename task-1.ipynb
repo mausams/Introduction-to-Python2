{
 "cells": [
  {
   "cell_type": "code",
   "execution_count": 1,
   "id": "55d557ca",
   "metadata": {},
   "outputs": [],
   "source": [
    "#integer or float vlaues\n"
   ]
  },
  {
   "cell_type": "code",
   "execution_count": 6,
   "id": "a216dade",
   "metadata": {},
   "outputs": [
    {
     "name": "stdout",
     "output_type": "stream",
     "text": [
      "77\n",
      "-31\n",
      "1242\n",
      "0.42592592592592593\n"
     ]
    }
   ],
   "source": [
    "a=23\n",
    "b=54\n",
    "add=(a+b)\n",
    "sub=(a-b)\n",
    "mul=(a*b)\n",
    "divide=(a/b)\n",
    "print(add)\n",
    "print(sub)\n",
    "print(mul)\n",
    "print(divide)"
   ]
  },
  {
   "cell_type": "code",
   "execution_count": 7,
   "id": "18eb872b",
   "metadata": {},
   "outputs": [
    {
     "data": {
      "text/plain": [
       "11"
      ]
     },
     "execution_count": 7,
     "metadata": {},
     "output_type": "execute_result"
    }
   ],
   "source": [
    "len('mausamsubba')"
   ]
  },
  {
   "cell_type": "code",
   "execution_count": 9,
   "id": "e2eeefda",
   "metadata": {},
   "outputs": [
    {
     "name": "stdout",
     "output_type": "stream",
     "text": [
      "200\n"
     ]
    }
   ],
   "source": [
    "width=10\n",
    "height=20\n",
    "area=width*height\n",
    "print(area)cc z"
   ]
  },
  {
   "cell_type": "code",
   "execution_count": null,
   "id": "0e953a2c",
   "metadata": {},
   "outputs": [],
   "source": []
  }
 ],
 "metadata": {
  "kernelspec": {
   "display_name": "Python 3 (ipykernel)",
   "language": "python",
   "name": "python3"
  },
  "language_info": {
   "codemirror_mode": {
    "name": "ipython",
    "version": 3
   },
   "file_extension": ".py",
   "mimetype": "text/x-python",
   "name": "python",
   "nbconvert_exporter": "python",
   "pygments_lexer": "ipython3",
   "version": "3.9.12"
  }
 },
 "nbformat": 4,
 "nbformat_minor": 5
}
