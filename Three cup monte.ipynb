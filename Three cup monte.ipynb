{
 "cells": [
  {
   "cell_type": "code",
   "execution_count": 1,
   "id": "cf00da74",
   "metadata": {},
   "outputs": [
    {
     "ename": "SyntaxError",
     "evalue": "invalid syntax (719400818.py, line 7)",
     "output_type": "error",
     "traceback": [
      "\u001b[1;36m  Input \u001b[1;32mIn [1]\u001b[1;36m\u001b[0m\n\u001b[1;33m    while gussed\u001b[0m\n\u001b[1;37m                ^\u001b[0m\n\u001b[1;31mSyntaxError\u001b[0m\u001b[1;31m:\u001b[0m invalid syntax\n"
     ]
    }
   ],
   "source": [
    "from random import shuffle\n",
    "def my_random_list(myfirstlist):\n",
    "    shuffle(myfirstlist)\n",
    "    return myfirstlist\n",
    "def user_guess():\n",
    "    gussed=''\n",
    "    while gussed"
   ]
  },
  {
   "cell_type": "code",
   "execution_count": null,
   "id": "17e12418",
   "metadata": {},
   "outputs": [],
   "source": [
    "Example = [1,2,3,4,5,6]"
   ]
  },
  {
   "cell_type": "code",
   "execution_count": null,
   "id": "5f601d4f",
   "metadata": {},
   "outputs": [],
   "source": [
    "Example"
   ]
  },
  {
   "cell_type": "code",
   "execution_count": 2,
   "id": "dc4b80e9",
   "metadata": {},
   "outputs": [
    {
     "ename": "NameError",
     "evalue": "name 'Example' is not defined",
     "output_type": "error",
     "traceback": [
      "\u001b[1;31m---------------------------------------------------------------------------\u001b[0m",
      "\u001b[1;31mNameError\u001b[0m                                 Traceback (most recent call last)",
      "Input \u001b[1;32mIn [2]\u001b[0m, in \u001b[0;36m<cell line: 2>\u001b[1;34m()\u001b[0m\n\u001b[0;32m      1\u001b[0m \u001b[38;5;28;01mfrom\u001b[39;00m \u001b[38;5;21;01mrandom\u001b[39;00m \u001b[38;5;28;01mimport\u001b[39;00m shuffle\n\u001b[1;32m----> 2\u001b[0m result \u001b[38;5;241m=\u001b[39m shuffle(\u001b[43mExample\u001b[49m)\n",
      "\u001b[1;31mNameError\u001b[0m: name 'Example' is not defined"
     ]
    }
   ],
   "source": [
    "from random import shuffle\n",
    "result = shuffle(Example)"
   ]
  },
  {
   "cell_type": "code",
   "execution_count": null,
   "id": "a9303a98",
   "metadata": {},
   "outputs": [],
   "source": [
    "result"
   ]
  },
  {
   "cell_type": "code",
   "execution_count": null,
   "id": "b6e5963a",
   "metadata": {},
   "outputs": [],
   "source": [
    "from random import shuffle\n",
    "def shuffle_list (mylist):\n",
    "    shuffle(mylist)\n",
    "    return mylist\n"
   ]
  },
  {
   "cell_type": "code",
   "execution_count": null,
   "id": "9b228042",
   "metadata": {},
   "outputs": [],
   "source": [
    "#RESULT = shuffle_list (mylist)"
   ]
  },
  {
   "cell_type": "code",
   "execution_count": null,
   "id": "5d89772f",
   "metadata": {},
   "outputs": [],
   "source": [
    "def player_guess():\n",
    "    guess = ''\n",
    "    while guess not in ['0','1','2',]:\n",
    "        guess = input('Enter the correct choice 0, 1, or 2')\n",
    "    return int (guess)"
   ]
  },
  {
   "cell_type": "code",
   "execution_count": null,
   "id": "15a68eec",
   "metadata": {},
   "outputs": [],
   "source": [
    "myindex =player_guess()\n"
   ]
  },
  {
   "cell_type": "code",
   "execution_count": null,
   "id": "5fa3d97d",
   "metadata": {},
   "outputs": [],
   "source": [
    "myindex"
   ]
  },
  {
   "cell_type": "code",
   "execution_count": null,
   "id": "c668bbc0",
   "metadata": {},
   "outputs": [],
   "source": [
    "def check_guess(mylist,guess):\n",
    "    if mylist[guess]== '0':\n",
    "        print ('correct guess')\n",
    "    else:\n",
    "        print('wrong guess')\n",
    "        print (mylist)"
   ]
  },
  {
   "cell_type": "code",
   "execution_count": null,
   "id": "2d930056",
   "metadata": {},
   "outputs": [],
   "source": [
    "#Initial List\n",
    "mylist = ['','0','']\n",
    "#Shuffle Function\n",
    "myturn = shuffle_list(mylist)\n",
    "#User Guess\n",
    "guess = player_guess()\n",
    "#Check Guess\n",
    "check_guess(mixedup_list,mylist)\n"
   ]
  },
  {
   "cell_type": "code",
   "execution_count": null,
   "id": "6abd1be6",
   "metadata": {},
   "outputs": [],
   "source": [
    "#PrACTICE\n"
   ]
  },
  {
   "cell_type": "code",
   "execution_count": null,
   "id": "3284a73d",
   "metadata": {},
   "outputs": [],
   "source": [
    "from random import shuffle\n",
    "def random_list(mylist):\n",
    "    shuffle(mylist)\n",
    "    return (mylist)\n",
    "def user_guess():\n",
    "    guess = ''\n",
    "    while guess not in ('0','1','2'):\n",
    "         guess =input('Choose the correct number 0, 1 or 2')\n",
    "    return int (guess)\n",
    "def check_user_guess(mylist,guess):\n",
    "    if mylist[guess] =='O':\n",
    "            print('correct')\n",
    "    else:\n",
    "            print('wrong choice')\n",
    "            print(mylist)\n",
    "#Initial List\n",
    "mylist = ['','','O']\n",
    "#Shuffle List\n",
    "your_list = random_list(mylist)\n",
    "print(your_list)\n",
    "#user guess\n",
    "guess = user_guess()\n",
    "#Checking User Guess\n",
    "check_user_guess = (your_list,guess)"
   ]
  },
  {
   "cell_type": "code",
   "execution_count": null,
   "id": "85eb9701",
   "metadata": {},
   "outputs": [],
   "source": [
    "#Warm up"
   ]
  },
  {
   "cell_type": "code",
   "execution_count": 11,
   "id": "1156031d",
   "metadata": {},
   "outputs": [],
   "source": [
    "#Q1\n",
    "def myfunction():\n",
    "    print('Hello World')\n"
   ]
  },
  {
   "cell_type": "code",
   "execution_count": 12,
   "id": "166757b8",
   "metadata": {},
   "outputs": [
    {
     "name": "stdout",
     "output_type": "stream",
     "text": [
      "Hello World\n"
     ]
    }
   ],
   "source": [
    "myfunction()"
   ]
  },
  {
   "cell_type": "code",
   "execution_count": 1,
   "id": "3f3b580a",
   "metadata": {},
   "outputs": [],
   "source": [
    "#Q2\n",
    "def myfunc(name):\n",
    "    print(f'My Name is {name}')\n"
   ]
  },
  {
   "cell_type": "code",
   "execution_count": 2,
   "id": "3a299414",
   "metadata": {},
   "outputs": [
    {
     "name": "stdout",
     "output_type": "stream",
     "text": [
      "My Name is Mausam\n"
     ]
    }
   ],
   "source": [
    "myfunc('Mausam')"
   ]
  },
  {
   "cell_type": "code",
   "execution_count": 22,
   "id": "dbdfdc9a",
   "metadata": {},
   "outputs": [],
   "source": [
    "#Q3\n",
    "def myfunc(Bollen):\n",
    "    if Bollen == True:\n",
    "        return 'Hello'\n",
    "    elif Bollen == False:\n",
    "        return 'Goodbye'\n",
    "    \n",
    "    "
   ]
  },
  {
   "cell_type": "code",
   "execution_count": 23,
   "id": "31b57458",
   "metadata": {},
   "outputs": [
    {
     "data": {
      "text/plain": [
       "'Hello'"
      ]
     },
     "execution_count": 23,
     "metadata": {},
     "output_type": "execute_result"
    }
   ],
   "source": [
    "myfunc(True)"
   ]
  },
  {
   "cell_type": "code",
   "execution_count": 24,
   "id": "89c1aca1",
   "metadata": {},
   "outputs": [
    {
     "data": {
      "text/plain": [
       "'Goodbye'"
      ]
     },
     "execution_count": 24,
     "metadata": {},
     "output_type": "execute_result"
    }
   ],
   "source": [
    "myfunc(False)"
   ]
  },
  {
   "cell_type": "code",
   "execution_count": 15,
   "id": "d772a677",
   "metadata": {},
   "outputs": [],
   "source": [
    "#Q4\n",
    "def myfunc(z):\n",
    "    if z == True:\n",
    "        return 'x'\n",
    "    elif z == False:\n",
    "        return 'y'\n",
    "        \n",
    "        "
   ]
  },
  {
   "cell_type": "code",
   "execution_count": null,
   "id": "da1d7c70",
   "metadata": {},
   "outputs": [],
   "source": []
  },
  {
   "cell_type": "code",
   "execution_count": 12,
   "id": "1c91ff5f",
   "metadata": {},
   "outputs": [],
   "source": [
    "#Q5\n",
    "a = 10\n",
    "b = 20\n",
    "def myfunc():\n",
    "    return a*b"
   ]
  },
  {
   "cell_type": "code",
   "execution_count": 9,
   "id": "bb3b930c",
   "metadata": {},
   "outputs": [
    {
     "data": {
      "text/plain": [
       "200"
      ]
     },
     "execution_count": 9,
     "metadata": {},
     "output_type": "execute_result"
    }
   ],
   "source": [
    "myfunc()"
   ]
  },
  {
   "cell_type": "code",
   "execution_count": null,
   "id": "a867d587",
   "metadata": {},
   "outputs": [],
   "source": [
    "#Q6\n"
   ]
  }
 ],
 "metadata": {
  "kernelspec": {
   "display_name": "Python 3 (ipykernel)",
   "language": "python",
   "name": "python3"
  },
  "language_info": {
   "codemirror_mode": {
    "name": "ipython",
    "version": 3
   },
   "file_extension": ".py",
   "mimetype": "text/x-python",
   "name": "python",
   "nbconvert_exporter": "python",
   "pygments_lexer": "ipython3",
   "version": "3.9.12"
  }
 },
 "nbformat": 4,
 "nbformat_minor": 5
}
