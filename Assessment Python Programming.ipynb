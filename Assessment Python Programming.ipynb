{
 "cells": [
  {
   "cell_type": "markdown",
   "id": "3fc93620",
   "metadata": {},
   "source": [
    "Q1. Python Program to check Leap Year."
   ]
  },
  {
   "cell_type": "code",
   "execution_count": 5,
   "id": "7b276450",
   "metadata": {},
   "outputs": [
    {
     "name": "stdout",
     "output_type": "stream",
     "text": [
      "Enter the year - 2002\n",
      "2002 is not a leap year!\n"
     ]
    }
   ],
   "source": [
    "year = int (input(\"Enter the year - \"))\n",
    "if (year % 4 == 0):\n",
    "    print(\"{0} is leap year!\".format(year))\n",
    "elif (year % 400 == 0):\n",
    "    print(\"{0} is leap year!\".format(year))\n",
    "else: \n",
    "    print(\"{0} is not a leap year!\".format(year))\n",
    "    "
   ]
  },
  {
   "cell_type": "markdown",
   "id": "bc93668e",
   "metadata": {},
   "source": [
    "Q2. Python Program to check  Prime Number and print All Prime Number in an Interval."
   ]
  },
  {
   "cell_type": "code",
   "execution_count": 2,
   "id": "6880ad01",
   "metadata": {},
   "outputs": [
    {
     "name": "stdout",
     "output_type": "stream",
     "text": [
      "Enter the number5\n"
     ]
    }
   ],
   "source": [
    "num = int(input('Enter the number'))\n",
    "def is_prime(num):\n",
    "    if num<2:\n",
    "        return 0\n",
    "    \n",
    "    primes = [2]\n",
    "    x = 3\n",
    "    while x<=num:\n",
    "        for y in range(3,x,2):\n",
    "            if x%y == 0:\n",
    "                x += 2\n",
    "                break\n",
    "        else:\n",
    "            primes.append(x)\n",
    "            x += 2\n",
    "    return primes"
   ]
  },
  {
   "cell_type": "code",
   "execution_count": 3,
   "id": "542e02f2",
   "metadata": {},
   "outputs": [
    {
     "data": {
      "text/plain": [
       "[2, 3, 5]"
      ]
     },
     "execution_count": 3,
     "metadata": {},
     "output_type": "execute_result"
    }
   ],
   "source": [
    "is_prime(num)"
   ]
  },
  {
   "cell_type": "markdown",
   "id": "c612e4b9",
   "metadata": {},
   "source": [
    "Q3. Python Program to find the Factorial of a number.\n"
   ]
  },
  {
   "cell_type": "code",
   "execution_count": 3,
   "id": "df76cd7d",
   "metadata": {},
   "outputs": [
    {
     "name": "stdout",
     "output_type": "stream",
     "text": [
      "Enter the num 5\n",
      "The factorial of 1 is 120\n"
     ]
    }
   ],
   "source": [
    "num = int(input('Enter the num '))\n",
    "result = 1\n",
    "for num in range(num,0,-1):\n",
    "    result= num*result\n",
    "print('The factorial of',num,'is', result)"
   ]
  },
  {
   "cell_type": "markdown",
   "id": "1f4532bf",
   "metadata": {},
   "source": [
    "Q4. Python Program to find the fibonacci of a number."
   ]
  },
  {
   "cell_type": "code",
   "execution_count": 12,
   "id": "6a47b361",
   "metadata": {},
   "outputs": [],
   "source": [
    "def fib(n):\n",
    "    a = 0\n",
    "    b= 1\n",
    "    \n",
    "    if n ==1:\n",
    "        print(a)\n",
    "    else: \n",
    "        print(a)\n",
    "        print(b)\n",
    "        \n",
    "        for i in range(2,n):\n",
    "            c = a+b\n",
    "            a= b\n",
    "            b= c\n",
    "            print(c)"
   ]
  },
  {
   "cell_type": "code",
   "execution_count": 15,
   "id": "34f8d130",
   "metadata": {},
   "outputs": [
    {
     "name": "stdout",
     "output_type": "stream",
     "text": [
      "0\n",
      "1\n",
      "1\n",
      "2\n",
      "3\n",
      "5\n"
     ]
    }
   ],
   "source": [
    "fib(6)"
   ]
  },
  {
   "cell_type": "markdown",
   "id": "ef1d867b",
   "metadata": {},
   "source": [
    "Q5. Python Program to find an armstrong number."
   ]
  },
  {
   "cell_type": "code",
   "execution_count": null,
   "id": "f9450d3e",
   "metadata": {},
   "outputs": [],
   "source": []
  },
  {
   "cell_type": "markdown",
   "id": "2c3a55c7",
   "metadata": {},
   "source": [
    "Q6. Python Program to calculate simple intrest."
   ]
  },
  {
   "cell_type": "code",
   "execution_count": 7,
   "id": "b0aa49bc",
   "metadata": {},
   "outputs": [],
   "source": [
    "#Method 1\n",
    "def simple_intrest(P=10,T=20,R=30):\n",
    "    \n",
    "    simpint = (P*T*R)/100\n",
    "    return simpint\n",
    "    "
   ]
  },
  {
   "cell_type": "code",
   "execution_count": 8,
   "id": "4c39c178",
   "metadata": {},
   "outputs": [
    {
     "data": {
      "text/plain": [
       "60.0"
      ]
     },
     "execution_count": 8,
     "metadata": {},
     "output_type": "execute_result"
    }
   ],
   "source": [
    "simple_intrest()"
   ]
  },
  {
   "cell_type": "code",
   "execution_count": 2,
   "id": "747b06fb",
   "metadata": {},
   "outputs": [
    {
     "name": "stdout",
     "output_type": "stream",
     "text": [
      "Enter the principal amount:  12\n",
      "Enter the time duration: 12\n",
      "Enter the interest rate: 12\n",
      "The simple intrest is  17.28\n"
     ]
    }
   ],
   "source": [
    "#Method 2 (Input Function)\n",
    "p = int(input('Enter the principal amount: '))\n",
    "t = int(input('Enter the time duration: '))\n",
    "r = int(input('Enter the interest rate: '))\n",
    "\n",
    "simple = (p*t*r)/100\n",
    "print('The simple intrest is ', simple)\n",
    "    "
   ]
  },
  {
   "cell_type": "code",
   "execution_count": null,
   "id": "60c195d6",
   "metadata": {},
   "outputs": [],
   "source": []
  },
  {
   "cell_type": "code",
   "execution_count": null,
   "id": "36426e93",
   "metadata": {},
   "outputs": [],
   "source": []
  }
 ],
 "metadata": {
  "kernelspec": {
   "display_name": "Python 3 (ipykernel)",
   "language": "python",
   "name": "python3"
  },
  "language_info": {
   "codemirror_mode": {
    "name": "ipython",
    "version": 3
   },
   "file_extension": ".py",
   "mimetype": "text/x-python",
   "name": "python",
   "nbconvert_exporter": "python",
   "pygments_lexer": "ipython3",
   "version": "3.10.9"
  }
 },
 "nbformat": 4,
 "nbformat_minor": 5
}
