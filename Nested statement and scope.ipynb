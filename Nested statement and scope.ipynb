{
 "cells": [
  {
   "cell_type": "code",
   "execution_count": 1,
   "id": "94af4d5d",
   "metadata": {},
   "outputs": [],
   "source": [
    "x=25\n",
    "def printer():\n",
    "    x=50\n",
    "    return x"
   ]
  },
  {
   "cell_type": "code",
   "execution_count": 3,
   "id": "24148b2c",
   "metadata": {},
   "outputs": [
    {
     "name": "stdout",
     "output_type": "stream",
     "text": [
      "25\n"
     ]
    }
   ],
   "source": [
    "print (x)"
   ]
  },
  {
   "cell_type": "code",
   "execution_count": 4,
   "id": "1db33093",
   "metadata": {},
   "outputs": [
    {
     "name": "stdout",
     "output_type": "stream",
     "text": [
      "50\n"
     ]
    }
   ],
   "source": [
    "print(printer())"
   ]
  },
  {
   "cell_type": "code",
   "execution_count": 5,
   "id": "3b17ada7",
   "metadata": {},
   "outputs": [],
   "source": [
    "#L:-Local\n",
    "#E:-Enclosing locals Functions\n",
    "#G:-Global\n",
    "#B:-Built-In"
   ]
  },
  {
   "cell_type": "code",
   "execution_count": 6,
   "id": "a2058196",
   "metadata": {},
   "outputs": [],
   "source": [
    "#Local\n",
    "f=lambda x:x**2"
   ]
  },
  {
   "cell_type": "code",
   "execution_count": 20,
   "id": "3c2f07b6",
   "metadata": {},
   "outputs": [
    {
     "name": "stdout",
     "output_type": "stream",
     "text": [
      "Hello Sanny\n"
     ]
    }
   ],
   "source": [
    "#Global\n",
    "name = 'This is global'\n",
    "def greet():\n",
    "    #Enclosing Function\n",
    "    \n",
    "    name = ' Sanny'\n",
    "    def hello():\n",
    "        print ('Hello'+ name)\n",
    "    \n",
    "    hello()\n",
    "\n",
    "greet()\n",
    "  \n",
    "\n",
    "        "
   ]
  },
  {
   "cell_type": "code",
   "execution_count": 21,
   "id": "152055d6",
   "metadata": {},
   "outputs": [
    {
     "name": "stdout",
     "output_type": "stream",
     "text": [
      "This is global\n"
     ]
    }
   ],
   "source": [
    "print(name)"
   ]
  },
  {
   "cell_type": "code",
   "execution_count": 22,
   "id": "3facfb82",
   "metadata": {},
   "outputs": [
    {
     "name": "stdout",
     "output_type": "stream",
     "text": [
      "x is 50\n",
      "changed local x to 2\n",
      "x is still 50\n"
     ]
    }
   ],
   "source": [
    "#Local Variable\n",
    "x = 50\n",
    "\n",
    "def func(x):\n",
    "    print('x is', x)\n",
    "    x = 2\n",
    "    print('changed local x to', x)\n",
    "func(x)\n",
    "print('x is still', x)"
   ]
  },
  {
   "cell_type": "code",
   "execution_count": 45,
   "id": "8c3e1e5f",
   "metadata": {},
   "outputs": [
    {
     "name": "stdout",
     "output_type": "stream",
     "text": [
      "Before calling func(), x is:  50\n",
      "This function is using now global x!\n",
      "Because of global x is 50\n",
      "Ran func(), changed global to  2\n",
      "Value of x (outside of func()) is: 2\n"
     ]
    }
   ],
   "source": [
    "#Global Variable\n",
    "x = 50\n",
    "def func():\n",
    "    global x\n",
    "    print('This function is using now global x!')\n",
    "    print('Because of global x is', x)\n",
    "    x = 2\n",
    "    print('Ran func(), changed global to ' , x)\n",
    "print('Before calling func(), x is: ', x)\n",
    "func()\n",
    "print('Value of x (outside of func()) is:',x)"
   ]
  },
  {
   "cell_type": "code",
   "execution_count": 46,
   "id": "d41f4ec7",
   "metadata": {},
   "outputs": [
    {
     "name": "stdout",
     "output_type": "stream",
     "text": [
      "2\n"
     ]
    }
   ],
   "source": [
    "print(x)"
   ]
  },
  {
   "cell_type": "code",
   "execution_count": 47,
   "id": "787f34e5",
   "metadata": {},
   "outputs": [
    {
     "name": "stdout",
     "output_type": "stream",
     "text": [
      "This function is using now global x!\n",
      "Because of global x is 2\n",
      "Ran func(), changed global to  2\n"
     ]
    }
   ],
   "source": [
    "x = func()"
   ]
  },
  {
   "cell_type": "code",
   "execution_count": 48,
   "id": "a5f18e23",
   "metadata": {},
   "outputs": [
    {
     "name": "stdout",
     "output_type": "stream",
     "text": [
      "None\n"
     ]
    }
   ],
   "source": [
    "print(x)"
   ]
  },
  {
   "cell_type": "code",
   "execution_count": null,
   "id": "91a6f3d0",
   "metadata": {},
   "outputs": [],
   "source": []
  },
  {
   "cell_type": "code",
   "execution_count": null,
   "id": "9fde2420",
   "metadata": {},
   "outputs": [],
   "source": []
  }
 ],
 "metadata": {
  "kernelspec": {
   "display_name": "Python 3 (ipykernel)",
   "language": "python",
   "name": "python3"
  },
  "language_info": {
   "codemirror_mode": {
    "name": "ipython",
    "version": 3
   },
   "file_extension": ".py",
   "mimetype": "text/x-python",
   "name": "python",
   "nbconvert_exporter": "python",
   "pygments_lexer": "ipython3",
   "version": "3.9.12"
  }
 },
 "nbformat": 4,
 "nbformat_minor": 5
}
