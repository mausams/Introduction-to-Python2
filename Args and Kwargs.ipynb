{
 "cells": [
  {
   "cell_type": "code",
   "execution_count": 1,
   "id": "4a3225b3",
   "metadata": {},
   "outputs": [],
   "source": [
    "#*args"
   ]
  },
  {
   "cell_type": "code",
   "execution_count": 4,
   "id": "b1c21ddc",
   "metadata": {},
   "outputs": [],
   "source": [
    "def myfunc(a,b):\n",
    "    return sum((a,b))*0.05\n",
    "   "
   ]
  },
  {
   "cell_type": "code",
   "execution_count": 5,
   "id": "88a69282",
   "metadata": {},
   "outputs": [
    {
     "data": {
      "text/plain": [
       "5.0"
      ]
     },
     "execution_count": 5,
     "metadata": {},
     "output_type": "execute_result"
    }
   ],
   "source": [
    "myfunc(50,50)"
   ]
  },
  {
   "cell_type": "code",
   "execution_count": 6,
   "id": "c00844f2",
   "metadata": {},
   "outputs": [],
   "source": [
    "def myfunc(a,b,c=0,d=0):\n",
    "    return sum((a,b,c,d))*0.05"
   ]
  },
  {
   "cell_type": "code",
   "execution_count": 9,
   "id": "d0e85baa",
   "metadata": {},
   "outputs": [
    {
     "data": {
      "text/plain": [
       "6.0"
      ]
     },
     "execution_count": 9,
     "metadata": {},
     "output_type": "execute_result"
    }
   ],
   "source": [
    "myfunc(20,20,40,40)"
   ]
  },
  {
   "cell_type": "code",
   "execution_count": 11,
   "id": "1bdfa75c",
   "metadata": {},
   "outputs": [
    {
     "data": {
      "text/plain": [
       "11.0"
      ]
     },
     "execution_count": 11,
     "metadata": {},
     "output_type": "execute_result"
    }
   ],
   "source": [
    "def myfunc(*args):\n",
    "    return sum(args)*0.05\n",
    "myfunc(10,20,40,40,50,60)\n"
   ]
  },
  {
   "cell_type": "code",
   "execution_count": 13,
   "id": "c60d518b",
   "metadata": {},
   "outputs": [
    {
     "name": "stdout",
     "output_type": "stream",
     "text": [
      "10\n",
      "20\n",
      "30\n",
      "40\n",
      "50\n",
      "60\n",
      "70\n"
     ]
    }
   ],
   "source": [
    "def myfunc(*args):\n",
    "    for item in args:\n",
    "        print(item)\n",
    "myfunc(10,20,30,40,50,60,70) "
   ]
  },
  {
   "cell_type": "code",
   "execution_count": 18,
   "id": "36359cdf",
   "metadata": {},
   "outputs": [
    {
     "ename": "NameError",
     "evalue": "name 'kwargs' is not defined",
     "output_type": "error",
     "traceback": [
      "\u001b[1;31m---------------------------------------------------------------------------\u001b[0m",
      "\u001b[1;31mNameError\u001b[0m                                 Traceback (most recent call last)",
      "Input \u001b[1;32mIn [18]\u001b[0m, in \u001b[0;36m<cell line: 3>\u001b[1;34m()\u001b[0m\n\u001b[0;32m      1\u001b[0m \u001b[38;5;28;01mdef\u001b[39;00m \u001b[38;5;21mmyfunc\u001b[39m(\u001b[38;5;241m*\u001b[39m\u001b[38;5;241m*\u001b[39mkwargs):\n\u001b[0;32m      2\u001b[0m     \u001b[38;5;28mprint\u001b[39m(kwargs)\n\u001b[1;32m----> 3\u001b[0m \u001b[38;5;28;01mif\u001b[39;00m \u001b[38;5;124m'\u001b[39m\u001b[38;5;124mfruit\u001b[39m\u001b[38;5;124m'\u001b[39m \u001b[38;5;129;01min\u001b[39;00m \u001b[43mkwargs\u001b[49m:\n\u001b[0;32m      4\u001b[0m     \u001b[38;5;28mprint\u001b[39m(\u001b[38;5;124m'\u001b[39m\u001b[38;5;124mMy choice of fruit is \u001b[39m\u001b[38;5;132;01m{}\u001b[39;00m\u001b[38;5;124m'\u001b[39m\u001b[38;5;241m.\u001b[39mformat(kwargs[\u001b[38;5;124m'\u001b[39m\u001b[38;5;124mfood\u001b[39m\u001b[38;5;124m'\u001b[39m]))\n\u001b[0;32m      5\u001b[0m \u001b[38;5;28;01melse\u001b[39;00m:\n",
      "\u001b[1;31mNameError\u001b[0m: name 'kwargs' is not defined"
     ]
    }
   ],
   "source": [
    "def myfunc(**kwargs):\n",
    "    print(kwargs)\n",
    "if 'fruit' in kwargs:\n",
    "    print('My choice of fruit is {}'.format(kwargs['food']))\n",
    "else:\n",
    "    print('I did not find any fruit here')\n",
    "myfunc(fruit='Apple',food = 'Rice',veggie = 'lettuce') "
   ]
  },
  {
   "cell_type": "code",
   "execution_count": null,
   "id": "9340576f",
   "metadata": {},
   "outputs": [],
   "source": [
    "def myfunc(**kwargs)"
   ]
  },
  {
   "cell_type": "code",
   "execution_count": 19,
   "id": "8bbf3b88",
   "metadata": {},
   "outputs": [
    {
     "name": "stdout",
     "output_type": "stream",
     "text": [
      "I would like 10 Biryani\n"
     ]
    }
   ],
   "source": [
    "def mynewfunc(*args,**kwargs):\n",
    "    print('I would like {} {}'.format(args[0],kwargs['food']))\n",
    "    \n",
    "mynewfunc(10,20,30,40,food= 'Biryani',fruit='Mango',veggie='potato')\n",
    "\n"
   ]
  },
  {
   "cell_type": "code",
   "execution_count": 1,
   "id": "aa5217d6",
   "metadata": {},
   "outputs": [],
   "source": [
    "#ClassWork on *args & **kwargs"
   ]
  },
  {
   "cell_type": "markdown",
   "id": "052e98b8",
   "metadata": {},
   "source": [
    "Q1. Define a function called myfunc that takes in an arbitrary number of arguments, and returns the sum of\n",
    "those arguments.\n",
    "Remember, don't run the function, simply provide the definition."
   ]
  },
  {
   "cell_type": "code",
   "execution_count": 12,
   "id": "5b71104f",
   "metadata": {},
   "outputs": [
    {
     "data": {
      "text/plain": [
       "6"
      ]
     },
     "execution_count": 12,
     "metadata": {},
     "output_type": "execute_result"
    }
   ],
   "source": [
    "def myfunc(*args):\n",
    "    return len(args)\n",
    "myfunc(1,2,3,4,5,6)\n",
    "   \n"
   ]
  },
  {
   "cell_type": "markdown",
   "id": "c4617f82",
   "metadata": {},
   "source": [
    "Q2.Define a function called myfunc that takes in an arbitrary number of arguments, and returns a list\n",
    "containing only those arguments that are even.\n",
    "Remember, don't run the function, simply provide the definition"
   ]
  },
  {
   "cell_type": "code",
   "execution_count": 2,
   "id": "a3236df8",
   "metadata": {},
   "outputs": [
    {
     "data": {
      "text/plain": [
       "[]"
      ]
     },
     "execution_count": 2,
     "metadata": {},
     "output_type": "execute_result"
    }
   ],
   "source": [
    "def my_data(*args):\n",
    "    mylist = []\n",
    "    for number in args:\n",
    "        if number%2 ==0:\n",
    "            mylist.append(number)\n",
    "        else:\n",
    "            pass\n",
    "        return mylist\n",
    "my_data(1,2,3,4,5,6)\n",
    "                \n",
    "            "
   ]
  },
  {
   "cell_type": "code",
   "execution_count": null,
   "id": "5fe63a68",
   "metadata": {},
   "outputs": [],
   "source": []
  },
  {
   "cell_type": "markdown",
   "id": "fd9fbc2b",
   "metadata": {},
   "source": [
    "Q3. Define a function called myfunc that takes in a string, and returns a matching string where every even\n",
    "letter is uppercase, and every odd letter is lowercase. Assume that the incoming string only contains\n",
    "letters, and don't worry about numbers, spaces or punctuation. The output string can start with either\n",
    "an uppercase or lowercase letter, so long as letters alternate throughout the string."
   ]
  },
  {
   "cell_type": "code",
   "execution_count": null,
   "id": "480d8648",
   "metadata": {},
   "outputs": [],
   "source": []
  }
 ],
 "metadata": {
  "kernelspec": {
   "display_name": "Python 3 (ipykernel)",
   "language": "python",
   "name": "python3"
  },
  "language_info": {
   "codemirror_mode": {
    "name": "ipython",
    "version": 3
   },
   "file_extension": ".py",
   "mimetype": "text/x-python",
   "name": "python",
   "nbconvert_exporter": "python",
   "pygments_lexer": "ipython3",
   "version": "3.10.9"
  }
 },
 "nbformat": 4,
 "nbformat_minor": 5
}
