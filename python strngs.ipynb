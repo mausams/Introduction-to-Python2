{
 "cells": [
  {
   "cell_type": "code",
   "execution_count": 1,
   "id": "80d378e3",
   "metadata": {},
   "outputs": [
    {
     "data": {
      "text/plain": [
       "'hello'"
      ]
     },
     "execution_count": 1,
     "metadata": {},
     "output_type": "execute_result"
    }
   ],
   "source": [
    "'hello'"
   ]
  },
  {
   "cell_type": "code",
   "execution_count": 2,
   "id": "47778318",
   "metadata": {},
   "outputs": [
    {
     "data": {
      "text/plain": [
       "'HELLO'"
      ]
     },
     "execution_count": 2,
     "metadata": {},
     "output_type": "execute_result"
    }
   ],
   "source": [
    "\"HELLO\"\n"
   ]
  },
  {
   "cell_type": "code",
   "execution_count": 3,
   "id": "52c10a4f",
   "metadata": {},
   "outputs": [
    {
     "name": "stdout",
     "output_type": "stream",
     "text": [
      "HELLO\n"
     ]
    }
   ],
   "source": [
    "print('HELLO')"
   ]
  },
  {
   "cell_type": "code",
   "execution_count": 5,
   "id": "23b394d6",
   "metadata": {},
   "outputs": [
    {
     "name": "stdout",
     "output_type": "stream",
     "text": [
      "it is a beautiful day! \n",
      "I want to get out\n"
     ]
    }
   ],
   "source": [
    "print ('it is a beautiful day! \\nI want to get out')"
   ]
  },
  {
   "cell_type": "code",
   "execution_count": 6,
   "id": "93cb24f6",
   "metadata": {},
   "outputs": [
    {
     "name": "stdout",
     "output_type": "stream",
     "text": [
      "python uses indentation \t those are species\n"
     ]
    }
   ],
   "source": [
    "print ('python uses indentation \\t those are species')"
   ]
  },
  {
   "cell_type": "code",
   "execution_count": 19,
   "id": "7fa15778",
   "metadata": {},
   "outputs": [],
   "source": [
    "my_strings = 'monday'"
   ]
  },
  {
   "cell_type": "code",
   "execution_count": 20,
   "id": "ff200d1c",
   "metadata": {
    "scrolled": true
   },
   "outputs": [
    {
     "data": {
      "text/plain": [
       "'monday'"
      ]
     },
     "execution_count": 20,
     "metadata": {},
     "output_type": "execute_result"
    }
   ],
   "source": [
    "my_strings"
   ]
  },
  {
   "cell_type": "code",
   "execution_count": 22,
   "id": "742e4ac1",
   "metadata": {},
   "outputs": [],
   "source": [
    "my_strings = 'friday'"
   ]
  },
  {
   "cell_type": "code",
   "execution_count": 37,
   "id": "9f536ae2",
   "metadata": {},
   "outputs": [],
   "source": [
    "len = ('my-strings')"
   ]
  },
  {
   "cell_type": "code",
   "execution_count": 33,
   "id": "b3e260e3",
   "metadata": {},
   "outputs": [],
   "source": [
    "my_strings =4\n"
   ]
  },
  {
   "cell_type": "code",
   "execution_count": 8,
   "id": "15564741",
   "metadata": {},
   "outputs": [],
   "source": [
    "#indexing"
   ]
  },
  {
   "cell_type": "code",
   "execution_count": 9,
   "id": "e32704d6",
   "metadata": {},
   "outputs": [],
   "source": [
    "mystring = 'hello World'"
   ]
  },
  {
   "cell_type": "code",
   "execution_count": 10,
   "id": "a54ab25a",
   "metadata": {},
   "outputs": [
    {
     "data": {
      "text/plain": [
       "'hello World'"
      ]
     },
     "execution_count": 10,
     "metadata": {},
     "output_type": "execute_result"
    }
   ],
   "source": [
    "mystring"
   ]
  },
  {
   "cell_type": "code",
   "execution_count": 12,
   "id": "6d2e36cf",
   "metadata": {},
   "outputs": [
    {
     "data": {
      "text/plain": [
       "'ello World'"
      ]
     },
     "execution_count": 12,
     "metadata": {},
     "output_type": "execute_result"
    }
   ],
   "source": [
    "mystring[1:]"
   ]
  },
  {
   "cell_type": "code",
   "execution_count": 13,
   "id": "8cd02812",
   "metadata": {},
   "outputs": [
    {
     "data": {
      "text/plain": [
       "'hell'"
      ]
     },
     "execution_count": 13,
     "metadata": {},
     "output_type": "execute_result"
    }
   ],
   "source": [
    "mystring[:4]"
   ]
  },
  {
   "cell_type": "code",
   "execution_count": 14,
   "id": "e6a362c7",
   "metadata": {},
   "outputs": [],
   "source": [
    "#sclicing [start:stop:step]"
   ]
  },
  {
   "cell_type": "code",
   "execution_count": 15,
   "id": "f6fcc14e",
   "metadata": {},
   "outputs": [],
   "source": [
    "mystrings = 'MausamSubbaLimboo'"
   ]
  },
  {
   "cell_type": "code",
   "execution_count": 16,
   "id": "efca14fb",
   "metadata": {},
   "outputs": [
    {
     "data": {
      "text/plain": [
       "'MausamSubbaLimboo'"
      ]
     },
     "execution_count": 16,
     "metadata": {},
     "output_type": "execute_result"
    }
   ],
   "source": [
    "mystrings"
   ]
  },
  {
   "cell_type": "code",
   "execution_count": 38,
   "id": "ff80c5e2",
   "metadata": {},
   "outputs": [
    {
     "data": {
      "text/plain": [
       "'MausamSubbaLimboo'"
      ]
     },
     "execution_count": 38,
     "metadata": {},
     "output_type": "execute_result"
    }
   ],
   "source": [
    "mystrings[0:]"
   ]
  },
  {
   "cell_type": "code",
   "execution_count": 39,
   "id": "098f0ae2",
   "metadata": {},
   "outputs": [
    {
     "data": {
      "text/plain": [
       "'Mausa'"
      ]
     },
     "execution_count": 39,
     "metadata": {},
     "output_type": "execute_result"
    }
   ],
   "source": [
    "mystrings[0:5]"
   ]
  },
  {
   "cell_type": "code",
   "execution_count": 40,
   "id": "d89086d9",
   "metadata": {},
   "outputs": [
    {
     "data": {
      "text/plain": [
       "'samSubbaLimboo'"
      ]
     },
     "execution_count": 40,
     "metadata": {},
     "output_type": "execute_result"
    }
   ],
   "source": [
    "mystrings[3:]"
   ]
  },
  {
   "cell_type": "code",
   "execution_count": 41,
   "id": "d68f7684",
   "metadata": {},
   "outputs": [
    {
     "data": {
      "text/plain": [
       "'Mua'"
      ]
     },
     "execution_count": 41,
     "metadata": {},
     "output_type": "execute_result"
    }
   ],
   "source": [
    "mystrings[0:5:2]"
   ]
  },
  {
   "cell_type": "code",
   "execution_count": 42,
   "id": "c4275463",
   "metadata": {},
   "outputs": [
    {
     "data": {
      "text/plain": [
       "'oobmiLabbuSmasuaM'"
      ]
     },
     "execution_count": 42,
     "metadata": {},
     "output_type": "execute_result"
    }
   ],
   "source": [
    "mystrings[::-1]"
   ]
  },
  {
   "cell_type": "code",
   "execution_count": 43,
   "id": "af32484f",
   "metadata": {},
   "outputs": [
    {
     "data": {
      "text/plain": [
       "''"
      ]
     },
     "execution_count": 43,
     "metadata": {},
     "output_type": "execute_result"
    }
   ],
   "source": [
    "mystrings[-5:-7:3]"
   ]
  },
  {
   "cell_type": "code",
   "execution_count": null,
   "id": "1e2df101",
   "metadata": {},
   "outputs": [],
   "source": [
    "\n",
    "\n"
   ]
  },
  {
   "cell_type": "code",
   "execution_count": null,
   "id": "9e281806",
   "metadata": {},
   "outputs": [],
   "source": []
  },
  {
   "cell_type": "code",
   "execution_count": null,
   "id": "43675fab",
   "metadata": {},
   "outputs": [],
   "source": []
  },
  {
   "cell_type": "code",
   "execution_count": null,
   "id": "0863640f",
   "metadata": {},
   "outputs": [],
   "source": [
    "Height = float (input (\"Enter the Height\"))\n",
    "Width = float (input (\"Enter the Width\"))\n",
    "result = Height*Width\n",
    "print('The area of rectangle is', result)"
   ]
  },
  {
   "cell_type": "code",
   "execution_count": null,
   "id": "e0d2cb67",
   "metadata": {},
   "outputs": [],
   "source": []
  },
  {
   "cell_type": "code",
   "execution_count": null,
   "id": "cde46ac6",
   "metadata": {},
   "outputs": [],
   "source": []
  },
  {
   "cell_type": "code",
   "execution_count": null,
   "id": "33fb1f59",
   "metadata": {},
   "outputs": [],
   "source": []
  }
 ],
 "metadata": {
  "kernelspec": {
   "display_name": "Python 3 (ipykernel)",
   "language": "python",
   "name": "python3"
  },
  "language_info": {
   "codemirror_mode": {
    "name": "ipython",
    "version": 3
   },
   "file_extension": ".py",
   "mimetype": "text/x-python",
   "name": "python",
   "nbconvert_exporter": "python",
   "pygments_lexer": "ipython3",
   "version": "3.9.12"
  }
 },
 "nbformat": 4,
 "nbformat_minor": 5
}
