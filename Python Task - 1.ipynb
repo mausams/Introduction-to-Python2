{
 "cells": [
  {
   "cell_type": "code",
   "execution_count": 1,
   "id": "75a07fba",
   "metadata": {},
   "outputs": [],
   "source": [
    "#integer or float vlaues\n"
   ]
  },
  {
   "cell_type": "code",
   "execution_count": 6,
   "id": "6d5a27d9",
   "metadata": {},
   "outputs": [
    {
     "name": "stdout",
     "output_type": "stream",
     "text": [
      "77\n",
      "-31\n",
      "1242\n",
      "0.42592592592592593\n"
     ]
    }
   ],
   "source": [
    "a=23\n",
    "b=54\n",
    "add=(a+b)\n",
    "sub=(a-b)\n",
    "mul=(a*b)\n",
    "divide=(a/b)\n",
    "print(add)\n",
    "print(sub)\n",
    "print(mul)\n",
    "print(divide)"
   ]
  },
  {
   "cell_type": "code",
   "execution_count": 7,
   "id": "e0ea0207",
   "metadata": {},
   "outputs": [
    {
     "data": {
      "text/plain": [
       "11"
      ]
     },
     "execution_count": 7,
     "metadata": {},
     "output_type": "execute_result"
    }
   ],
   "source": [
    "len('mausamsubba')"
   ]
  },
  {
   "cell_type": "code",
   "execution_count": 8,
   "id": "5c89f1fc",
   "metadata": {},
   "outputs": [
    {
     "ename": "NameError",
     "evalue": "name 'bredth' is not defined",
     "output_type": "error",
     "traceback": [
      "\u001b[1;31m---------------------------------------------------------------------------\u001b[0m",
      "\u001b[1;31mNameError\u001b[0m                                 Traceback (most recent call last)",
      "Input \u001b[1;32mIn [8]\u001b[0m, in \u001b[0;36m<cell line: 3>\u001b[1;34m()\u001b[0m\n\u001b[0;32m      1\u001b[0m width\u001b[38;5;241m=\u001b[39m\u001b[38;5;241m10\u001b[39m\n\u001b[0;32m      2\u001b[0m height\u001b[38;5;241m=\u001b[39m\u001b[38;5;241m20\u001b[39m\n\u001b[1;32m----> 3\u001b[0m area\u001b[38;5;241m=\u001b[39mwidth\u001b[38;5;241m*\u001b[39m\u001b[43mbredth\u001b[49m\n\u001b[0;32m      4\u001b[0m \u001b[38;5;28mprint\u001b[39m(area)\n",
      "\u001b[1;31mNameError\u001b[0m: name 'bredth' is not defined"
     ]
    }
   ],
   "source": [
    "width=10\n",
    "height=20\n",
    "area=width*height\n",
    "print(area)"
   ]
  },
  {
   "cell_type": "code",
   "execution_count": null,
   "id": "ce98a33f",
   "metadata": {},
   "outputs": [],
   "source": []
  }
 ],
 "metadata": {
  "kernelspec": {
   "display_name": "Python 3 (ipykernel)",
   "language": "python",
   "name": "python3"
  },
  "language_info": {
   "codemirror_mode": {
    "name": "ipython",
    "version": 3
   },
   "file_extension": ".py",
   "mimetype": "text/x-python",
   "name": "python",
   "nbconvert_exporter": "python",
   "pygments_lexer": "ipython3",
   "version": "3.9.12"
  }
 },
 "nbformat": 4,
 "nbformat_minor": 5
}
