{
 "cells": [
  {
   "cell_type": "code",
   "execution_count": 20,
   "id": "8355cc6d",
   "metadata": {},
   "outputs": [],
   "source": [
    "#Ranges\n"
   ]
  },
  {
   "cell_type": "code",
   "execution_count": 21,
   "id": "2ad232f8",
   "metadata": {},
   "outputs": [],
   "source": [
    "mylist=[1,2,3,4,5,6,7,8,9,10]\n",
    "    \n",
    "        "
   ]
  },
  {
   "cell_type": "code",
   "execution_count": 22,
   "id": "ca5a38c1",
   "metadata": {},
   "outputs": [
    {
     "name": "stdout",
     "output_type": "stream",
     "text": [
      "0\n",
      "1\n",
      "2\n",
      "3\n",
      "4\n",
      "5\n",
      "6\n",
      "7\n",
      "8\n",
      "9\n"
     ]
    }
   ],
   "source": [
    "for num in range(0,10):\n",
    "    print(num)"
   ]
  },
  {
   "cell_type": "code",
   "execution_count": 23,
   "id": "4b81c1be",
   "metadata": {},
   "outputs": [
    {
     "data": {
      "text/plain": [
       "[0, 1, 2, 3, 4, 5, 6, 7, 8, 9]"
      ]
     },
     "execution_count": 23,
     "metadata": {},
     "output_type": "execute_result"
    }
   ],
   "source": [
    "list(range(0,10))"
   ]
  },
  {
   "cell_type": "code",
   "execution_count": 24,
   "id": "634c35af",
   "metadata": {},
   "outputs": [
    {
     "name": "stdout",
     "output_type": "stream",
     "text": [
      "0\n",
      "1\n",
      "2\n",
      "3\n",
      "4\n",
      "5\n",
      "6\n",
      "7\n",
      "8\n",
      "9\n"
     ]
    }
   ],
   "source": [
    "for num in range(10):\n",
    "    print(num)"
   ]
  },
  {
   "cell_type": "code",
   "execution_count": 25,
   "id": "52ddf1e0",
   "metadata": {},
   "outputs": [
    {
     "name": "stdout",
     "output_type": "stream",
     "text": [
      "3\n",
      "4\n",
      "5\n",
      "6\n",
      "7\n",
      "8\n",
      "9\n"
     ]
    }
   ],
   "source": [
    "for num in range(3,10):\n",
    "    print(num)"
   ]
  },
  {
   "cell_type": "code",
   "execution_count": 26,
   "id": "4de85210",
   "metadata": {},
   "outputs": [
    {
     "name": "stdout",
     "output_type": "stream",
     "text": [
      "0\n",
      "3\n",
      "6\n",
      "9\n"
     ]
    }
   ],
   "source": [
    "for num in range(0,11,3):\n",
    "    print(num)"
   ]
  },
  {
   "cell_type": "code",
   "execution_count": 27,
   "id": "d41d4da0",
   "metadata": {},
   "outputs": [
    {
     "name": "stdout",
     "output_type": "stream",
     "text": [
      "0\n",
      "2\n",
      "4\n",
      "6\n",
      "8\n",
      "10\n"
     ]
    }
   ],
   "source": [
    "for num in range(0,11,2):\n",
    "    print(num)"
   ]
  },
  {
   "cell_type": "code",
   "execution_count": 28,
   "id": "5631432b",
   "metadata": {},
   "outputs": [],
   "source": [
    "#Enumerate"
   ]
  },
  {
   "cell_type": "code",
   "execution_count": 29,
   "id": "0842eb47",
   "metadata": {},
   "outputs": [
    {
     "name": "stdout",
     "output_type": "stream",
     "text": [
      "At index 0 the letter is a\n",
      "At index 1 the letter is b\n",
      "At index 2 the letter is c\n",
      "At index 3 the letter is d\n",
      "At index 4 the letter is e\n"
     ]
    }
   ],
   "source": [
    "index_count =0\n",
    "for letter in 'abcde':\n",
    "    print('At index {} the letter is {}'.format(index_count,letter))\n",
    "    index_count +=1"
   ]
  },
  {
   "cell_type": "code",
   "execution_count": 30,
   "id": "88eb35f3",
   "metadata": {},
   "outputs": [
    {
     "name": "stdout",
     "output_type": "stream",
     "text": [
      "0\n",
      "1\n",
      "2\n",
      "3\n",
      "4\n"
     ]
    }
   ],
   "source": [
    "word ='abcde'\n",
    "for index, letter in enumerate(word):\n",
    "    print(index)\n",
    "    "
   ]
  },
  {
   "cell_type": "code",
   "execution_count": 31,
   "id": "f8311b1c",
   "metadata": {},
   "outputs": [
    {
     "name": "stdout",
     "output_type": "stream",
     "text": [
      "a\n",
      "b\n",
      "c\n",
      "d\n",
      "e\n"
     ]
    }
   ],
   "source": [
    "word ='abcde'\n",
    "for index, letter in enumerate(word):\n",
    "    print(letter)"
   ]
  },
  {
   "cell_type": "code",
   "execution_count": 32,
   "id": "dfb8c24a",
   "metadata": {},
   "outputs": [
    {
     "name": "stdout",
     "output_type": "stream",
     "text": [
      "a\n",
      "0\n",
      "\n",
      "\n",
      "b\n",
      "1\n",
      "\n",
      "\n",
      "c\n",
      "2\n",
      "\n",
      "\n",
      "d\n",
      "3\n",
      "\n",
      "\n",
      "e\n",
      "4\n",
      "\n",
      "\n"
     ]
    }
   ],
   "source": [
    "word ='abcde'\n",
    "for index, letter in enumerate(word):\n",
    "    print(letter)\n",
    "    print(index)\n",
    "    print('\\n')"
   ]
  },
  {
   "cell_type": "code",
   "execution_count": 33,
   "id": "a7f088dc",
   "metadata": {},
   "outputs": [],
   "source": [
    "#zip function"
   ]
  },
  {
   "cell_type": "code",
   "execution_count": 34,
   "id": "8c6bb6ef",
   "metadata": {},
   "outputs": [
    {
     "name": "stdout",
     "output_type": "stream",
     "text": [
      "a\n",
      "1\n",
      "b\n",
      "2\n",
      "c\n",
      "3\n"
     ]
    }
   ],
   "source": [
    "mylist1=['a','b','c']\n",
    "mylist2=[1,2,3,]\n",
    "for mylist1,mylist2 in zip(mylist1,mylist2):\n",
    "    print(mylist1)\n",
    "    print(mylist2)"
   ]
  },
  {
   "cell_type": "code",
   "execution_count": 35,
   "id": "fd74c7fe",
   "metadata": {},
   "outputs": [
    {
     "name": "stdout",
     "output_type": "stream",
     "text": [
      "a\n",
      "1\n",
      "b\n",
      "2\n",
      "c\n",
      "3\n"
     ]
    }
   ],
   "source": [
    "mylist1=['a','b','c']\n",
    "mylist2=[1,2,3,]\n",
    "for l1,l2 in zip(mylist1,mylist2):\n",
    "    print(l1)\n",
    "    print(l2)"
   ]
  },
  {
   "cell_type": "code",
   "execution_count": 36,
   "id": "18fac9f8",
   "metadata": {},
   "outputs": [
    {
     "name": "stdout",
     "output_type": "stream",
     "text": [
      "('a', 1, 11)\n",
      "('b', 2, 22)\n",
      "('c', 3, 33)\n"
     ]
    }
   ],
   "source": [
    "mylist1=['a','b','c']\n",
    "mylist2=[1,2,3,4,5]\n",
    "mylist3 =[11,22,33]\n",
    "for item in zip(mylist1,mylist2,mylist3):\n",
    "    print(item)\n",
    "    "
   ]
  },
  {
   "cell_type": "code",
   "execution_count": 37,
   "id": "3f7d99af",
   "metadata": {},
   "outputs": [
    {
     "data": {
      "text/plain": [
       "[('a', 1), ('b', 2), ('c', 3)]"
      ]
     },
     "execution_count": 37,
     "metadata": {},
     "output_type": "execute_result"
    }
   ],
   "source": [
    "mylist=['a','b','c']\n",
    "mylist2=[1,2,3,4,5,6,7,8,9,]\n",
    "list(zip(mylist1,mylist2))"
   ]
  },
  {
   "cell_type": "code",
   "execution_count": 38,
   "id": "e3f4469d",
   "metadata": {},
   "outputs": [
    {
     "name": "stdout",
     "output_type": "stream",
     "text": [
      "a\n",
      "1\n",
      "11\n",
      "b\n",
      "2\n",
      "22\n",
      "c\n",
      "3\n",
      "33\n"
     ]
    }
   ],
   "source": [
    "mylist1=['a','b','c']\n",
    "mylist2=[1,2,3,4,5]\n",
    "mylist3 =[11,22,33]\n",
    "for l1,l2,l3 in zip(mylist1,mylist2,mylist3):\n",
    "    print(l1)\n",
    "    print(l2)\n",
    "    print(l3)\n",
    "    "
   ]
  },
  {
   "cell_type": "code",
   "execution_count": 39,
   "id": "ed6d3de1",
   "metadata": {},
   "outputs": [],
   "source": [
    "#in keyword"
   ]
  },
  {
   "cell_type": "code",
   "execution_count": 40,
   "id": "08751025",
   "metadata": {},
   "outputs": [
    {
     "data": {
      "text/plain": [
       "False"
      ]
     },
     "execution_count": 40,
     "metadata": {},
     "output_type": "execute_result"
    }
   ],
   "source": [
    "'x' in [1,2,3]"
   ]
  },
  {
   "cell_type": "code",
   "execution_count": 41,
   "id": "2f273e24",
   "metadata": {},
   "outputs": [
    {
     "data": {
      "text/plain": [
       "True"
      ]
     },
     "execution_count": 41,
     "metadata": {},
     "output_type": "execute_result"
    }
   ],
   "source": [
    "'x' in ['x','y','z']"
   ]
  },
  {
   "cell_type": "code",
   "execution_count": 42,
   "id": "a636fc4b",
   "metadata": {},
   "outputs": [
    {
     "data": {
      "text/plain": [
       "True"
      ]
     },
     "execution_count": 42,
     "metadata": {},
     "output_type": "execute_result"
    }
   ],
   "source": [
    "'a' in 'Wonderala'"
   ]
  },
  {
   "cell_type": "code",
   "execution_count": 43,
   "id": "3ee42428",
   "metadata": {},
   "outputs": [
    {
     "data": {
      "text/plain": [
       "True"
      ]
     },
     "execution_count": 43,
     "metadata": {},
     "output_type": "execute_result"
    }
   ],
   "source": [
    "'mykey' in {'mykey':1}"
   ]
  },
  {
   "cell_type": "code",
   "execution_count": 44,
   "id": "32ba828e",
   "metadata": {},
   "outputs": [],
   "source": [
    "d = {'mykey':345}"
   ]
  },
  {
   "cell_type": "code",
   "execution_count": 45,
   "id": "0a030f13",
   "metadata": {},
   "outputs": [
    {
     "data": {
      "text/plain": [
       "True"
      ]
     },
     "execution_count": 45,
     "metadata": {},
     "output_type": "execute_result"
    }
   ],
   "source": [
    "345 in d.values()"
   ]
  },
  {
   "cell_type": "code",
   "execution_count": 46,
   "id": "221cd197",
   "metadata": {},
   "outputs": [
    {
     "data": {
      "text/plain": [
       "False"
      ]
     },
     "execution_count": 46,
     "metadata": {},
     "output_type": "execute_result"
    }
   ],
   "source": [
    "345 in d.keys()"
   ]
  },
  {
   "cell_type": "code",
   "execution_count": 47,
   "id": "b589d7bb",
   "metadata": {},
   "outputs": [
    {
     "data": {
      "text/plain": [
       "False"
      ]
     },
     "execution_count": 47,
     "metadata": {},
     "output_type": "execute_result"
    }
   ],
   "source": [
    "345 in d.items()"
   ]
  },
  {
   "cell_type": "code",
   "execution_count": 48,
   "id": "4b6ee512",
   "metadata": {},
   "outputs": [],
   "source": [
    "#min, max"
   ]
  },
  {
   "cell_type": "code",
   "execution_count": 49,
   "id": "16bc8c90",
   "metadata": {},
   "outputs": [
    {
     "data": {
      "text/plain": [
       "10"
      ]
     },
     "execution_count": 49,
     "metadata": {},
     "output_type": "execute_result"
    }
   ],
   "source": [
    "mylist = [10,20,30,40,50,60]\n",
    "min(mylist)"
   ]
  },
  {
   "cell_type": "code",
   "execution_count": 50,
   "id": "98ce694a",
   "metadata": {},
   "outputs": [
    {
     "data": {
      "text/plain": [
       "60"
      ]
     },
     "execution_count": 50,
     "metadata": {},
     "output_type": "execute_result"
    }
   ],
   "source": [
    "max(mylist)"
   ]
  },
  {
   "cell_type": "code",
   "execution_count": 51,
   "id": "8b5d84ab",
   "metadata": {},
   "outputs": [],
   "source": [
    "#Random Library"
   ]
  },
  {
   "cell_type": "code",
   "execution_count": 52,
   "id": "29b8eaf8",
   "metadata": {},
   "outputs": [],
   "source": [
    "from random import shuffle\n",
    "mylist = [1,2,3,4,5,6,7,8,9]\n",
    "shuffle(mylist)\n",
    "rd1 = mylist"
   ]
  },
  {
   "cell_type": "code",
   "execution_count": 53,
   "id": "d3c458c4",
   "metadata": {},
   "outputs": [
    {
     "data": {
      "text/plain": [
       "[7, 3, 8, 6, 1, 2, 9, 4, 5]"
      ]
     },
     "execution_count": 53,
     "metadata": {},
     "output_type": "execute_result"
    }
   ],
   "source": [
    "rd1"
   ]
  },
  {
   "cell_type": "code",
   "execution_count": 54,
   "id": "dbc3da10",
   "metadata": {},
   "outputs": [
    {
     "data": {
      "text/plain": [
       "6"
      ]
     },
     "execution_count": 54,
     "metadata": {},
     "output_type": "execute_result"
    }
   ],
   "source": [
    "from random import randint\n",
    "randint(0,10)"
   ]
  },
  {
   "cell_type": "code",
   "execution_count": 55,
   "id": "cf2d112e",
   "metadata": {},
   "outputs": [
    {
     "data": {
      "text/plain": [
       "14"
      ]
     },
     "execution_count": 55,
     "metadata": {},
     "output_type": "execute_result"
    }
   ],
   "source": [
    "randint(0,100)"
   ]
  },
  {
   "cell_type": "code",
   "execution_count": 56,
   "id": "29dc0b82",
   "metadata": {},
   "outputs": [],
   "source": [
    "my_num = randint(0,50)"
   ]
  },
  {
   "cell_type": "code",
   "execution_count": 57,
   "id": "15cb7b03",
   "metadata": {},
   "outputs": [
    {
     "data": {
      "text/plain": [
       "7"
      ]
     },
     "execution_count": 57,
     "metadata": {},
     "output_type": "execute_result"
    }
   ],
   "source": [
    "my_num"
   ]
  },
  {
   "cell_type": "code",
   "execution_count": 58,
   "id": "86c2106e",
   "metadata": {},
   "outputs": [],
   "source": [
    "#input()"
   ]
  },
  {
   "cell_type": "code",
   "execution_count": 59,
   "id": "7d670a41",
   "metadata": {},
   "outputs": [
    {
     "name": "stdout",
     "output_type": "stream",
     "text": [
      "Enter the number here44\n"
     ]
    },
    {
     "data": {
      "text/plain": [
       "'44'"
      ]
     },
     "execution_count": 59,
     "metadata": {},
     "output_type": "execute_result"
    }
   ],
   "source": [
    "input('Enter the number here')"
   ]
  },
  {
   "cell_type": "code",
   "execution_count": 60,
   "id": "95a0058c",
   "metadata": {},
   "outputs": [
    {
     "name": "stdout",
     "output_type": "stream",
     "text": [
      "What is mt fav colour?55\n"
     ]
    },
    {
     "data": {
      "text/plain": [
       "'55'"
      ]
     },
     "execution_count": 60,
     "metadata": {},
     "output_type": "execute_result"
    }
   ],
   "source": [
    "input('What is mt fav colour?')"
   ]
  },
  {
   "cell_type": "code",
   "execution_count": 61,
   "id": "aba7e460",
   "metadata": {},
   "outputs": [
    {
     "name": "stdout",
     "output_type": "stream",
     "text": [
      "Enter my fav number?77\n"
     ]
    },
    {
     "data": {
      "text/plain": [
       "77"
      ]
     },
     "execution_count": 61,
     "metadata": {},
     "output_type": "execute_result"
    }
   ],
   "source": [
    "int(input('Enter my fav number?'))"
   ]
  },
  {
   "cell_type": "code",
   "execution_count": 62,
   "id": "944c9341",
   "metadata": {},
   "outputs": [
    {
     "name": "stdout",
     "output_type": "stream",
     "text": [
      "Enter my Fav Number888\n"
     ]
    }
   ],
   "source": [
    "Result = int(input('Enter my Fav Number'))"
   ]
  },
  {
   "cell_type": "code",
   "execution_count": 63,
   "id": "87e17d69",
   "metadata": {},
   "outputs": [
    {
     "data": {
      "text/plain": [
       "888"
      ]
     },
     "execution_count": 63,
     "metadata": {},
     "output_type": "execute_result"
    }
   ],
   "source": [
    "Result "
   ]
  },
  {
   "cell_type": "code",
   "execution_count": 64,
   "id": "ab53e6a3",
   "metadata": {},
   "outputs": [
    {
     "data": {
      "text/plain": [
       "int"
      ]
     },
     "execution_count": 64,
     "metadata": {},
     "output_type": "execute_result"
    }
   ],
   "source": [
    "type(Result)"
   ]
  },
  {
   "cell_type": "code",
   "execution_count": 65,
   "id": "50eb4798",
   "metadata": {},
   "outputs": [
    {
     "name": "stdout",
     "output_type": "stream",
     "text": [
      "Enter the 1st number88\n",
      "enter the 2nd number88\n",
      "176.0\n"
     ]
    }
   ],
   "source": [
    "Number=float(input('Enter the 1st number'))\n",
    "Number_two =float(input('enter the 2nd number'))\n",
    "result=Number +Number_two\n",
    "print(result)"
   ]
  },
  {
   "cell_type": "code",
   "execution_count": 66,
   "id": "1577e4f6",
   "metadata": {},
   "outputs": [
    {
     "data": {
      "text/plain": [
       "float"
      ]
     },
     "execution_count": 66,
     "metadata": {},
     "output_type": "execute_result"
    }
   ],
   "source": [
    "type(result)"
   ]
  },
  {
   "cell_type": "code",
   "execution_count": 67,
   "id": "c46f99b8",
   "metadata": {},
   "outputs": [],
   "source": [
    "from random import shuffle\n",
    "mausamlist =[23,34,4,56,78,98,54,34]\n",
    "shuffle(mausamlist)\n",
    "rom = mausamlist\n"
   ]
  },
  {
   "cell_type": "code",
   "execution_count": 68,
   "id": "0b610ff6",
   "metadata": {},
   "outputs": [
    {
     "data": {
      "text/plain": [
       "[56, 54, 98, 4, 34, 34, 23, 78]"
      ]
     },
     "execution_count": 68,
     "metadata": {},
     "output_type": "execute_result"
    }
   ],
   "source": [
    "rom"
   ]
  },
  {
   "cell_type": "code",
   "execution_count": 69,
   "id": "6569d4b5",
   "metadata": {},
   "outputs": [
    {
     "data": {
      "text/plain": [
       "82"
      ]
     },
     "execution_count": 69,
     "metadata": {},
     "output_type": "execute_result"
    }
   ],
   "source": [
    "from random import randint\n",
    "randint(10,100)"
   ]
  },
  {
   "cell_type": "code",
   "execution_count": 70,
   "id": "6af8d57b",
   "metadata": {},
   "outputs": [
    {
     "data": {
      "text/plain": [
       "30"
      ]
     },
     "execution_count": 70,
     "metadata": {},
     "output_type": "execute_result"
    }
   ],
   "source": [
    "randint(30,35)"
   ]
  },
  {
   "cell_type": "code",
   "execution_count": 71,
   "id": "7f142990",
   "metadata": {},
   "outputs": [],
   "source": [
    "#List comprehensions in Python\n"
   ]
  },
  {
   "cell_type": "code",
   "execution_count": 72,
   "id": "643baab7",
   "metadata": {},
   "outputs": [],
   "source": [
    "mystring = 'hello'\n",
    "mylist = []\n",
    "for letter in mystring:\n",
    "    mylist.append(letter)"
   ]
  },
  {
   "cell_type": "code",
   "execution_count": 73,
   "id": "56d912b8",
   "metadata": {},
   "outputs": [
    {
     "data": {
      "text/plain": [
       "['h', 'e', 'l', 'l', 'o']"
      ]
     },
     "execution_count": 73,
     "metadata": {},
     "output_type": "execute_result"
    }
   ],
   "source": [
    "mylist"
   ]
  },
  {
   "cell_type": "code",
   "execution_count": 74,
   "id": "fa044e46",
   "metadata": {},
   "outputs": [],
   "source": [
    "mystring = 'hello'\n",
    "mylist = [letter for letter in mystring]\n"
   ]
  },
  {
   "cell_type": "code",
   "execution_count": 75,
   "id": "b73aa416",
   "metadata": {},
   "outputs": [
    {
     "data": {
      "text/plain": [
       "['h', 'e', 'l', 'l', 'o']"
      ]
     },
     "execution_count": 75,
     "metadata": {},
     "output_type": "execute_result"
    }
   ],
   "source": [
    "mylist"
   ]
  },
  {
   "cell_type": "code",
   "execution_count": 76,
   "id": "81d18cca",
   "metadata": {},
   "outputs": [],
   "source": [
    "mylists = [x for x in 'april and may']"
   ]
  },
  {
   "cell_type": "code",
   "execution_count": 77,
   "id": "bd9c4079",
   "metadata": {},
   "outputs": [
    {
     "data": {
      "text/plain": [
       "['a', 'p', 'r', 'i', 'l', ' ', 'a', 'n', 'd', ' ', 'm', 'a', 'y']"
      ]
     },
     "execution_count": 77,
     "metadata": {},
     "output_type": "execute_result"
    }
   ],
   "source": [
    "mylists"
   ]
  },
  {
   "cell_type": "code",
   "execution_count": 78,
   "id": "7f2e5534",
   "metadata": {},
   "outputs": [],
   "source": [
    "mynum = [num**2 for num in range(0,11)]"
   ]
  },
  {
   "cell_type": "code",
   "execution_count": 79,
   "id": "ad2df20d",
   "metadata": {},
   "outputs": [
    {
     "data": {
      "text/plain": [
       "[0, 1, 4, 9, 16, 25, 36, 49, 64, 81, 100]"
      ]
     },
     "execution_count": 79,
     "metadata": {},
     "output_type": "execute_result"
    }
   ],
   "source": [
    "mynum"
   ]
  },
  {
   "cell_type": "code",
   "execution_count": 80,
   "id": "5f89f3c6",
   "metadata": {},
   "outputs": [],
   "source": [
    "myeven = [x**2 for x in range(0,11) if x%2 == 0]"
   ]
  },
  {
   "cell_type": "code",
   "execution_count": 81,
   "id": "17d18b11",
   "metadata": {},
   "outputs": [
    {
     "data": {
      "text/plain": [
       "[0, 4, 16, 36, 64, 100]"
      ]
     },
     "execution_count": 81,
     "metadata": {},
     "output_type": "execute_result"
    }
   ],
   "source": [
    "myeven"
   ]
  },
  {
   "cell_type": "code",
   "execution_count": 82,
   "id": "4c90a36d",
   "metadata": {},
   "outputs": [],
   "source": [
    "celcius = [0,10,20,30,50,34.5]\n",
    "fahrenheit = [((9/5)*temp+32) for temp in celcius]\n"
   ]
  },
  {
   "cell_type": "code",
   "execution_count": 83,
   "id": "280a0da3",
   "metadata": {},
   "outputs": [
    {
     "data": {
      "text/plain": [
       "[32.0, 50.0, 68.0, 86.0, 122.0, 94.1]"
      ]
     },
     "execution_count": 83,
     "metadata": {},
     "output_type": "execute_result"
    }
   ],
   "source": [
    "fahrenheit "
   ]
  },
  {
   "cell_type": "code",
   "execution_count": 4,
   "id": "97d5d974",
   "metadata": {},
   "outputs": [
    {
     "ename": "NameError",
     "evalue": "name 'fahrenheit' is not defined",
     "output_type": "error",
     "traceback": [
      "\u001b[1;31m---------------------------------------------------------------------------\u001b[0m",
      "\u001b[1;31mNameError\u001b[0m                                 Traceback (most recent call last)",
      "Input \u001b[1;32mIn [4]\u001b[0m, in \u001b[0;36m<cell line: 5>\u001b[1;34m()\u001b[0m\n\u001b[0;32m      3\u001b[0m \u001b[38;5;28;01mfor\u001b[39;00m temp \u001b[38;5;129;01min\u001b[39;00m celcius:\n\u001b[0;32m      4\u001b[0m      fahreneit\u001b[38;5;241m.\u001b[39mappend((\u001b[38;5;241m9\u001b[39m\u001b[38;5;241m/\u001b[39m\u001b[38;5;241m5\u001b[39m)\u001b[38;5;241m*\u001b[39mtemp\u001b[38;5;241m+\u001b[39m\u001b[38;5;241m32\u001b[39m)\n\u001b[1;32m----> 5\u001b[0m \u001b[38;5;28mprint\u001b[39m(\u001b[43mfahrenheit\u001b[49m)\n",
      "\u001b[1;31mNameError\u001b[0m: name 'fahrenheit' is not defined"
     ]
    }
   ],
   "source": [
    "celcius = [0,10,20,30,50,34.5]\n",
    "fahreneit = []\n",
    "for temp in celcius:\n",
    "     fahreneit.append((9/5)*temp+32)\n",
    "print(fahrenheit)"
   ]
  },
  {
   "cell_type": "code",
   "execution_count": 5,
   "id": "3eab7324",
   "metadata": {},
   "outputs": [],
   "source": [
    "results = [x if x%2 == 0 else 'ODD' for x in range(0,10)]"
   ]
  },
  {
   "cell_type": "code",
   "execution_count": 6,
   "id": "35534ace",
   "metadata": {},
   "outputs": [
    {
     "data": {
      "text/plain": [
       "[0, 'ODD', 2, 'ODD', 4, 'ODD', 6, 'ODD', 8, 'ODD']"
      ]
     },
     "execution_count": 6,
     "metadata": {},
     "output_type": "execute_result"
    }
   ],
   "source": [
    "results"
   ]
  },
  {
   "cell_type": "code",
   "execution_count": 3,
   "id": "2710940c",
   "metadata": {},
   "outputs": [],
   "source": [
    "#nested loop"
   ]
  },
  {
   "cell_type": "code",
   "execution_count": null,
   "id": "5451d719",
   "metadata": {},
   "outputs": [],
   "source": [
    "mylist=[]\n",
    "for x in [2,4,6]:\n",
    "for y in [1,10,1000]:\n",
    "    mylist.append(x*y)"
   ]
  },
  {
   "cell_type": "code",
   "execution_count": null,
   "id": "a0a66651",
   "metadata": {},
   "outputs": [],
   "source": [
    "mylist"
   ]
  },
  {
   "cell_type": "code",
   "execution_count": null,
   "id": "526b6ddb",
   "metadata": {},
   "outputs": [],
   "source": [
    "mynest = [x*y for x in [2,4,6] for y in[1,10,1000]]"
   ]
  },
  {
   "cell_type": "code",
   "execution_count": null,
   "id": "0f4dbe94",
   "metadata": {},
   "outputs": [],
   "source": [
    "mynest"
   ]
  },
  {
   "cell_type": "code",
   "execution_count": null,
   "id": "24e1d5ba",
   "metadata": {},
   "outputs": [],
   "source": []
  }
 ],
 "metadata": {
  "kernelspec": {
   "display_name": "Python 3 (ipykernel)",
   "language": "python",
   "name": "python3"
  },
  "language_info": {
   "codemirror_mode": {
    "name": "ipython",
    "version": 3
   },
   "file_extension": ".py",
   "mimetype": "text/x-python",
   "name": "python",
   "nbconvert_exporter": "python",
   "pygments_lexer": "ipython3",
   "version": "3.10.9"
  }
 },
 "nbformat": 4,
 "nbformat_minor": 5
}
