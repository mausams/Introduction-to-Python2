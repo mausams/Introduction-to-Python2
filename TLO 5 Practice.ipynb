{
 "cells": [
  {
   "cell_type": "markdown",
   "id": "319fae0a",
   "metadata": {},
   "source": [
    "Q1. Basic if statement with input"
   ]
  },
  {
   "cell_type": "code",
   "execution_count": 1,
   "id": "2c3571ca",
   "metadata": {},
   "outputs": [
    {
     "name": "stdout",
     "output_type": "stream",
     "text": [
      "Enter the temperature: 20\n"
     ]
    }
   ],
   "source": [
    "temperature = int(input(\"Enter the temperature: \"))\n",
    "if temperature > 30:\n",
    "    print(\"It's hot outside!\")\n"
   ]
  },
  {
   "cell_type": "code",
   "execution_count": 2,
   "id": "25c401e8",
   "metadata": {},
   "outputs": [
    {
     "name": "stdout",
     "output_type": "stream",
     "text": [
      "Enter the temperature: 50\n",
      "It's hot outside!\n"
     ]
    }
   ],
   "source": [
    "temperature = int(input(\"Enter the temperature: \"))\n",
    "if temperature > 30:\n",
    "    print(\"It's hot outside!\")\n",
    "elif temperature < 30:\n",
    "    print(\"Its cold outside!\")"
   ]
  },
  {
   "cell_type": "markdown",
   "id": "550354fa",
   "metadata": {},
   "source": [
    "Q2.  if-else statement with input"
   ]
  },
  {
   "cell_type": "code",
   "execution_count": 3,
   "id": "88883bbb",
   "metadata": {},
   "outputs": [
    {
     "name": "stdout",
     "output_type": "stream",
     "text": [
      "It's hot outside!\n"
     ]
    }
   ],
   "source": [
    "if temperature > 30:\n",
    "    print(\"It's hot outside!\")\n",
    "else:\n",
    "    print(\"It's not hot outside!\")\n"
   ]
  },
  {
   "cell_type": "markdown",
   "id": "b4eb69e1",
   "metadata": {},
   "source": [
    "Q3.  if-elif-else statement with input"
   ]
  },
  {
   "cell_type": "code",
   "execution_count": 4,
   "id": "b4f819e5",
   "metadata": {},
   "outputs": [
    {
     "name": "stdout",
     "output_type": "stream",
     "text": [
      "It's hot outside!\n"
     ]
    }
   ],
   "source": [
    "if temperature > 30:\n",
    "    print(\"It's hot outside!\")\n",
    "elif 20 <= temperature <= 30:\n",
    "    print(\"It's a pleasant day.\")\n",
    "else:\n",
    "    print(\"It's cold outside!\")\n"
   ]
  },
  {
   "cell_type": "markdown",
   "id": "ed76dd3a",
   "metadata": {},
   "source": [
    "Q4. Multiple branches with if-elif-else and input"
   ]
  },
  {
   "cell_type": "code",
   "execution_count": 7,
   "id": "7496d58a",
   "metadata": {},
   "outputs": [
    {
     "name": "stdout",
     "output_type": "stream",
     "text": [
      "Enter an animal type: Bird\n",
      "Chirp!\n"
     ]
    }
   ],
   "source": [
    "animal = input(\"Enter an animal type: \")\n",
    "\n",
    "if animal == \"Dog\":\n",
    "    print(\"Woof!\")\n",
    "elif animal == \"Cat\":\n",
    "    print(\"Meow!\")\n",
    "elif animal == \"Bird\":\n",
    "    print(\"Chirp!\")\n",
    "else:\n",
    "    print(\"I don't know this animal.\")\n"
   ]
  },
  {
   "cell_type": "markdown",
   "id": "c35be4c7",
   "metadata": {},
   "source": [
    "Q1. Iterating through a list with input"
   ]
  },
  {
   "cell_type": "code",
   "execution_count": 8,
   "id": "da5a5a56",
   "metadata": {},
   "outputs": [
    {
     "name": "stdout",
     "output_type": "stream",
     "text": [
      "Enter the number of elements in the list: 10\n",
      "Enter element 1: 50\n",
      "Enter element 2: 30\n",
      "Enter element 3: 20\n",
      "Enter element 4: 34\n",
      "Enter element 5: 34\n",
      "Enter element 6: 34\n",
      "Enter element 7: 32\n",
      "Enter element 8: 23\n",
      "Enter element 9: 23\n",
      "Enter element 10: 234\n",
      "50\n",
      "30\n",
      "20\n",
      "34\n",
      "34\n",
      "34\n",
      "32\n",
      "23\n",
      "23\n",
      "234\n"
     ]
    }
   ],
   "source": [
    "num_elements = int(input(\"Enter the number of elements in the list: \"))\n",
    "elements = []\n",
    "for i in range(num_elements):\n",
    "    element = int(input(f\"Enter element {i + 1}: \"))\n",
    "    elements.append(element)\n",
    "for num in elements:\n",
    "    print(num)\n"
   ]
  },
  {
   "cell_type": "markdown",
   "id": "6b80bd0c",
   "metadata": {},
   "source": [
    "Q2. Iterating through a string with input"
   ]
  },
  {
   "cell_type": "code",
   "execution_count": 9,
   "id": "16852c92",
   "metadata": {},
   "outputs": [
    {
     "name": "stdout",
     "output_type": "stream",
     "text": [
      "Enter a string: Hello \n",
      "H\n",
      "e\n",
      "l\n",
      "l\n",
      "o\n",
      " \n"
     ]
    }
   ],
   "source": [
    "input_string = input(\"Enter a string: \")\n",
    "for char in input_string:\n",
    "    print(char)\n"
   ]
  },
  {
   "cell_type": "markdown",
   "id": "6d8f73d0",
   "metadata": {},
   "source": [
    "Q3. Tuple unpacking with input"
   ]
  },
  {
   "cell_type": "code",
   "execution_count": 10,
   "id": "715607b2",
   "metadata": {},
   "outputs": [
    {
     "name": "stdout",
     "output_type": "stream",
     "text": [
      "Enter the number of pairs: 2\n",
      "Enter the first element of pair 1: 2\n",
      "Enter the second element of pair 1: 2\n",
      "Enter the first element of pair 2: 2\n",
      "Enter the second element of pair 2: 2\n",
      "First element: 2, Second element: 2\n",
      "First element: 2, Second element: 2\n"
     ]
    }
   ],
   "source": [
    "num_pairs = int(input(\"Enter the number of pairs: \"))\n",
    "pairs = []\n",
    "for i in range(num_pairs):\n",
    "    first = int(input(f\"Enter the first element of pair {i + 1}: \"))\n",
    "    second = int(input(f\"Enter the second element of pair {i + 1}: \"))\n",
    "    pairs.append((first, second))\n",
    "for a, b in pairs:\n",
    "    print(f\"First element: {a}, Second element: {b}\")\n"
   ]
  },
  {
   "cell_type": "markdown",
   "id": "0c9296d1",
   "metadata": {},
   "source": [
    "Q4.  Iterating through a dictionary with input"
   ]
  },
  {
   "cell_type": "code",
   "execution_count": 11,
   "id": "5fd5fdcc",
   "metadata": {},
   "outputs": [
    {
     "name": "stdout",
     "output_type": "stream",
     "text": [
      "Enter the number of entries in the dictionary: 2\n",
      "Enter the key for entry 1: 2\n",
      "Enter the value for entry 1: 2\n",
      "Enter the key for entry 2: 4\n",
      "Enter the value for entry 2: 3\n",
      "Key: 2, Value: 2\n",
      "Key: 4, Value: 3\n"
     ]
    }
   ],
   "source": [
    "num_entries = int(input(\"Enter the number of entries in the dictionary: \"))\n",
    "input_dict = {}\n",
    "for i in range(num_entries):\n",
    "    key = input(f\"Enter the key for entry {i + 1}: \")\n",
    "    value = input(f\"Enter the value for entry {i + 1}: \")\n",
    "    input_dict[key] = value\n",
    "for key, value in input_dict.items():\n",
    "    print(f\"Key: {key}, Value: {value}\")\n"
   ]
  },
  {
   "cell_type": "markdown",
   "id": "13dd7c27",
   "metadata": {},
   "source": [
    "Q5.Iterating through a dictionary with input "
   ]
  },
  {
   "cell_type": "code",
   "execution_count": 12,
   "id": "7fbdefcc",
   "metadata": {},
   "outputs": [
    {
     "name": "stdout",
     "output_type": "stream",
     "text": [
      "Enter the number of entries in the dictionary: 1\n",
      "Enter the key for entry 1: 2\n",
      "Enter the value for entry 1: 3\n",
      "Key: 2, Value: 3\n"
     ]
    }
   ],
   "source": [
    "num_entries = int(input(\"Enter the number of entries in the dictionary: \"))\n",
    "input_dict = {}\n",
    "for i in range(num_entries):\n",
    "    key = input(f\"Enter the key for entry {i + 1}: \")\n",
    "    value = input(f\"Enter the value for entry {i + 1}: \")\n",
    "    input_dict[key] = value\n",
    "\n",
    "for key, value in input_dict.items():\n",
    "    print(f\"Key: {key}, Value: {value}\")\n"
   ]
  },
  {
   "cell_type": "markdown",
   "id": "4c018764",
   "metadata": {},
   "source": [
    "Q6. Iterating Through Nested Lists Using Nested For Loops"
   ]
  },
  {
   "cell_type": "code",
   "execution_count": 13,
   "id": "c099decd",
   "metadata": {},
   "outputs": [
    {
     "name": "stdout",
     "output_type": "stream",
     "text": [
      "1 2 3 \n",
      "4 5 6 \n",
      "7 8 9 \n"
     ]
    }
   ],
   "source": [
    "nested_list = [\n",
    "    [1, 2, 3],\n",
    "    [4, 5, 6],\n",
    "    [7, 8, 9]\n",
    "]\n",
    "for i in range(len(nested_list)):\n",
    "    for j in range(len(nested_list[i])):\n",
    "        print(nested_list[i][j], end=' ')\n",
    "    print()\n"
   ]
  },
  {
   "cell_type": "code",
   "execution_count": 14,
   "id": "4211d96e",
   "metadata": {},
   "outputs": [],
   "source": [
    "#While Loop"
   ]
  },
  {
   "cell_type": "markdown",
   "id": "4e3ce63f",
   "metadata": {},
   "source": [
    "Q1. Print the first 10 even numbers using a while loop."
   ]
  },
  {
   "cell_type": "code",
   "execution_count": 15,
   "id": "1c135c28",
   "metadata": {},
   "outputs": [
    {
     "name": "stdout",
     "output_type": "stream",
     "text": [
      "0\n",
      "2\n",
      "4\n",
      "6\n",
      "8\n",
      "10\n",
      "12\n",
      "14\n",
      "16\n",
      "18\n"
     ]
    }
   ],
   "source": [
    "counter = 0\n",
    "number = 0\n",
    "while counter < 10:\n",
    "    if number % 2 == 0:\n",
    "        print(number)\n",
    "        counter += 1\n",
    "    number += 1\n"
   ]
  },
  {
   "cell_type": "markdown",
   "id": "27ab8ea7",
   "metadata": {},
   "source": [
    "Q2. Print the first 10 Fibonacci numbers using a while loop."
   ]
  },
  {
   "cell_type": "code",
   "execution_count": 16,
   "id": "1742bbbb",
   "metadata": {},
   "outputs": [
    {
     "name": "stdout",
     "output_type": "stream",
     "text": [
      "0\n",
      "1\n",
      "1\n",
      "2\n",
      "3\n",
      "5\n",
      "8\n",
      "13\n",
      "21\n",
      "34\n"
     ]
    }
   ],
   "source": [
    "a, b = 0, 1\n",
    "counter = 0\n",
    "\n",
    "while counter < 10:\n",
    "    print(a)\n",
    "    a, b = b, a + b\n",
    "    counter += 1\n"
   ]
  },
  {
   "cell_type": "markdown",
   "id": "1e93dd1a",
   "metadata": {},
   "source": [
    "Q3. Calculate the factorial of a number n using a while loop."
   ]
  },
  {
   "cell_type": "code",
   "execution_count": 17,
   "id": "c9dc75e9",
   "metadata": {},
   "outputs": [
    {
     "name": "stdout",
     "output_type": "stream",
     "text": [
      "The factorial of 5 is 120.\n"
     ]
    }
   ],
   "source": [
    "n = 5  # Change this value to calculate the factorial of a different number\n",
    "factorial = 1\n",
    "i = 1\n",
    "while i <= n:\n",
    "    factorial *= i\n",
    "    i += 1\n",
    "print(f\"The factorial of {n} is {factorial}.\")\n"
   ]
  },
  {
   "cell_type": "code",
   "execution_count": 18,
   "id": "cae0a5e0",
   "metadata": {},
   "outputs": [],
   "source": [
    "#pass, continue, break"
   ]
  },
  {
   "cell_type": "markdown",
   "id": "b8b4e054",
   "metadata": {},
   "source": [
    "Q1.  Pass"
   ]
  },
  {
   "cell_type": "code",
   "execution_count": 21,
   "id": "1421736a",
   "metadata": {},
   "outputs": [
    {
     "name": "stdout",
     "output_type": "stream",
     "text": [
      "apple\n",
      "banana\n",
      "cherry\n"
     ]
    }
   ],
   "source": [
    "Fruits = ['apple', 'banana', 'cherry']\n",
    "for fruit in Fruits:\n",
    "    if fruit == 'banana':\n",
    "        pass\n",
    "    print(fruit)\n"
   ]
  },
  {
   "cell_type": "markdown",
   "id": "5f5a4564",
   "metadata": {},
   "source": [
    "Q2. Continue"
   ]
  },
  {
   "cell_type": "code",
   "execution_count": 22,
   "id": "e430f786",
   "metadata": {},
   "outputs": [
    {
     "name": "stdout",
     "output_type": "stream",
     "text": [
      "apple\n",
      "cherry\n"
     ]
    }
   ],
   "source": [
    "fruits = ['apple', 'banana', 'cherry']\n",
    "for fruit in fruits:\n",
    "    if fruit == 'banana':\n",
    "        continue\n",
    "    print(fruit)\n"
   ]
  },
  {
   "cell_type": "markdown",
   "id": "97da7041",
   "metadata": {},
   "source": [
    "Q3.  Break"
   ]
  },
  {
   "cell_type": "code",
   "execution_count": 23,
   "id": "1bb615fa",
   "metadata": {},
   "outputs": [
    {
     "name": "stdout",
     "output_type": "stream",
     "text": [
      "apple\n"
     ]
    }
   ],
   "source": [
    "fruits = ['apple', 'banana', 'cherry']\n",
    "for fruit in fruits:\n",
    "    if fruit == 'banana':\n",
    "        break\n",
    "    print(fruit)\n"
   ]
  },
  {
   "cell_type": "code",
   "execution_count": 24,
   "id": "b306f77f",
   "metadata": {},
   "outputs": [],
   "source": [
    "#Useful operators in python"
   ]
  },
  {
   "cell_type": "markdown",
   "id": "72080d6c",
   "metadata": {},
   "source": [
    "Q1.  Range function"
   ]
  },
  {
   "cell_type": "code",
   "execution_count": 25,
   "id": "5d8bc0f2",
   "metadata": {},
   "outputs": [
    {
     "name": "stdout",
     "output_type": "stream",
     "text": [
      "[5, 10, 15, 20, 25, 30, 35, 40, 45, 50]\n"
     ]
    }
   ],
   "source": [
    "numbers = list(range(5, 51, 5))\n",
    "print(numbers)\n"
   ]
  },
  {
   "cell_type": "markdown",
   "id": "3126fafe",
   "metadata": {},
   "source": [
    "Q2.  Enumerate function"
   ]
  },
  {
   "cell_type": "code",
   "execution_count": 26,
   "id": "67214cd5",
   "metadata": {},
   "outputs": [
    {
     "name": "stdout",
     "output_type": "stream",
     "text": [
      "Index 0, squared value: 1\n",
      "Index 1, squared value: 4\n",
      "Index 2, squared value: 9\n",
      "Index 3, squared value: 16\n",
      "Index 4, squared value: 25\n"
     ]
    }
   ],
   "source": [
    "numbers = [1, 2, 3, 4, 5]\n",
    "for index, number in enumerate(numbers):\n",
    "    print(f\"Index {index}, squared value: {number ** 2}\")\n"
   ]
  },
  {
   "cell_type": "markdown",
   "id": "9e4ccb94",
   "metadata": {},
   "source": [
    "Q3. Zip function"
   ]
  },
  {
   "cell_type": "code",
   "execution_count": 27,
   "id": "119a4fb0",
   "metadata": {},
   "outputs": [
    {
     "name": "stdout",
     "output_type": "stream",
     "text": [
      "Sum of 1 and 6: 7\n",
      "Sum of 2 and 7: 9\n",
      "Sum of 3 and 8: 11\n",
      "Sum of 4 and 9: 13\n",
      "Sum of 5 and 10: 15\n"
     ]
    }
   ],
   "source": [
    "list1 = [1, 2, 3, 4, 5]\n",
    "list2 = [6, 7, 8, 9, 10]\n",
    "for num1, num2 in zip(list1, list2):\n",
    "    print(f\"Sum of {num1} and {num2}: {num1 + num2}\")\n"
   ]
  },
  {
   "cell_type": "markdown",
   "id": "4a234784",
   "metadata": {},
   "source": [
    "Q4. In operator"
   ]
  },
  {
   "cell_type": "code",
   "execution_count": 28,
   "id": "b38fc8e6",
   "metadata": {},
   "outputs": [
    {
     "name": "stdout",
     "output_type": "stream",
     "text": [
      "5 is in the list\n"
     ]
    }
   ],
   "source": [
    "numbers = [1, 3, 5, 7, 9]\n",
    "given_number = 5\n",
    "if given_number in numbers:\n",
    "    print(f\"{given_number} is in the list\")\n",
    "else:\n",
    "    print(f\"{given_number} is not in the list\")\n"
   ]
  },
  {
   "cell_type": "markdown",
   "id": "3cf33e44",
   "metadata": {},
   "source": [
    "Q5.  Random shuffle and randint"
   ]
  },
  {
   "cell_type": "code",
   "execution_count": 29,
   "id": "46b60a71",
   "metadata": {},
   "outputs": [
    {
     "name": "stdout",
     "output_type": "stream",
     "text": [
      "Shuffled list: [9, 7, 2, 4, 3, 6, 10, 1, 5, 8]\n",
      "Random integer between 1 and 100: 80\n"
     ]
    }
   ],
   "source": [
    "from random import shuffle, randint\n",
    "numbers = [1, 2, 3, 4, 5, 6, 7, 8, 9, 10]\n",
    "shuffle(numbers)\n",
    "print(\"Shuffled list:\", numbers)\n",
    "random_number = randint(1, 100)\n",
    "print(\"Random integer between 1 and 100:\", random_number)\n"
   ]
  },
  {
   "cell_type": "markdown",
   "id": "2d91f3f5",
   "metadata": {},
   "source": [
    "Q6. User input"
   ]
  },
  {
   "cell_type": "code",
   "execution_count": 30,
   "id": "5eabba95",
   "metadata": {},
   "outputs": [
    {
     "name": "stdout",
     "output_type": "stream",
     "text": [
      "Enter your name: 12\n",
      "Enter your age: 23\n",
      "Your name is 12 and your age is 23.\n"
     ]
    }
   ],
   "source": [
    "name = input(\"Enter your name: \")\n",
    "age = int(input(\"Enter your age: \"))\n",
    "print(f\"Your name is {name} and your age is {age}.\")\n"
   ]
  },
  {
   "cell_type": "code",
   "execution_count": 31,
   "id": "b54262bc",
   "metadata": {},
   "outputs": [],
   "source": [
    "#List Comprehensions in Python"
   ]
  },
  {
   "cell_type": "markdown",
   "id": "dd67725c",
   "metadata": {},
   "source": [
    "Q1. Create a list comprehension that takes a string and returns a list of its individual characters."
   ]
  },
  {
   "cell_type": "code",
   "execution_count": 32,
   "id": "569b69e4",
   "metadata": {},
   "outputs": [
    {
     "name": "stdout",
     "output_type": "stream",
     "text": [
      "['P', 'y', 't', 'h', 'o', 'n']\n"
     ]
    }
   ],
   "source": [
    "input_string = \"Python\"\n",
    "output_list = [char for char in input_string]\n",
    "print(output_list)\n"
   ]
  },
  {
   "cell_type": "markdown",
   "id": "d3f82f0d",
   "metadata": {},
   "source": [
    "Q2. Create a list comprehension that generates a list of squares from 1 to 10."
   ]
  },
  {
   "cell_type": "code",
   "execution_count": 33,
   "id": "21429f78",
   "metadata": {},
   "outputs": [
    {
     "name": "stdout",
     "output_type": "stream",
     "text": [
      "[1, 4, 9, 16, 25, 36, 49, 64, 81, 100]\n"
     ]
    }
   ],
   "source": [
    "squares = [num**2 for num in range(1, 11)]\n",
    "print(squares)\n"
   ]
  },
  {
   "cell_type": "markdown",
   "id": "195533b3",
   "metadata": {},
   "source": [
    "Q3.  Create a list comprehension that filters out odd numbers from a given list."
   ]
  },
  {
   "cell_type": "code",
   "execution_count": 34,
   "id": "4081c2c3",
   "metadata": {},
   "outputs": [
    {
     "name": "stdout",
     "output_type": "stream",
     "text": [
      "[2, 4, 6, 8, 10]\n"
     ]
    }
   ],
   "source": [
    "input_list = [1, 2, 3, 4, 5, 6, 7, 8, 9, 10]\n",
    "even_numbers = [num for num in input_list if num % 2 == 0]\n",
    "print(even_numbers)\n"
   ]
  },
  {
   "cell_type": "markdown",
   "id": "52ae75cc",
   "metadata": {},
   "source": [
    "Q4. Create a list comprehension that converts a list of Celsius temperatures to Fahrenheit."
   ]
  },
  {
   "cell_type": "code",
   "execution_count": 35,
   "id": "4b75de63",
   "metadata": {},
   "outputs": [
    {
     "name": "stdout",
     "output_type": "stream",
     "text": [
      "[32.0, 50.0, 68.0, 86.0, 122.0, 94.1]\n"
     ]
    }
   ],
   "source": [
    "celsius = [0, 10, 20, 30, 50, 34.5]\n",
    "fahrenheit = [(9/5 * temp + 32) for temp in celsius]\n",
    "print(fahrenheit)\n"
   ]
  },
  {
   "cell_type": "markdown",
   "id": "7bffcbf2",
   "metadata": {},
   "source": [
    "Q5.  Create a list comprehension that uses nested loops to multiply each element in one list with "
   ]
  },
  {
   "cell_type": "code",
   "execution_count": 36,
   "id": "78cee65a",
   "metadata": {},
   "outputs": [
    {
     "name": "stdout",
     "output_type": "stream",
     "text": [
      "[2, 20, 200, 4, 40, 400, 6, 60, 600]\n"
     ]
    }
   ],
   "source": [
    "list1 = [2, 4, 6]\n",
    "list2 = [1, 10, 100]\n",
    "product_list = [x * y for x in list1 for y in list2]\n",
    "print(product_list)\n"
   ]
  },
  {
   "cell_type": "code",
   "execution_count": null,
   "id": "cf2f93d3",
   "metadata": {},
   "outputs": [],
   "source": []
  }
 ],
 "metadata": {
  "kernelspec": {
   "display_name": "Python 3 (ipykernel)",
   "language": "python",
   "name": "python3"
  },
  "language_info": {
   "codemirror_mode": {
    "name": "ipython",
    "version": 3
   },
   "file_extension": ".py",
   "mimetype": "text/x-python",
   "name": "python",
   "nbconvert_exporter": "python",
   "pygments_lexer": "ipython3",
   "version": "3.9.12"
  }
 },
 "nbformat": 4,
 "nbformat_minor": 5
}
