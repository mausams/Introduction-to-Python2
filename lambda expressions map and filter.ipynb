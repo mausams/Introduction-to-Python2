{
 "cells": [
  {
   "cell_type": "code",
   "execution_count": 1,
   "id": "5a1711f1",
   "metadata": {},
   "outputs": [],
   "source": [
    "def square(num):\n",
    "    return num**2\n"
   ]
  },
  {
   "cell_type": "code",
   "execution_count": 2,
   "id": "0a3b91fd",
   "metadata": {},
   "outputs": [],
   "source": [
    "mynums=[1,2,3,4,5]"
   ]
  },
  {
   "cell_type": "code",
   "execution_count": 5,
   "id": "2030d41d",
   "metadata": {},
   "outputs": [
    {
     "data": {
      "text/plain": [
       "<map at 0x62d61a8>"
      ]
     },
     "execution_count": 5,
     "metadata": {},
     "output_type": "execute_result"
    }
   ],
   "source": [
    "map(square,mynums)"
   ]
  },
  {
   "cell_type": "code",
   "execution_count": 7,
   "id": "a0f4459c",
   "metadata": {},
   "outputs": [
    {
     "name": "stdout",
     "output_type": "stream",
     "text": [
      "1\n",
      "4\n",
      "9\n",
      "16\n",
      "25\n"
     ]
    }
   ],
   "source": [
    "for item in map(square,mynums):\n",
    "    print(item)"
   ]
  },
  {
   "cell_type": "code",
   "execution_count": 9,
   "id": "4ea02553",
   "metadata": {},
   "outputs": [
    {
     "data": {
      "text/plain": [
       "[1, 4, 9, 16, 25]"
      ]
     },
     "execution_count": 9,
     "metadata": {},
     "output_type": "execute_result"
    }
   ],
   "source": [
    "list(map(square,mynums))"
   ]
  },
  {
   "cell_type": "code",
   "execution_count": 11,
   "id": "644809d8",
   "metadata": {},
   "outputs": [],
   "source": [
    "def splicer(mystring):\n",
    "    if len(mystring)%2==0:\n",
    "        return 'EVEN'\n",
    "    else:\n",
    "        return mystring[0]\n"
   ]
  },
  {
   "cell_type": "code",
   "execution_count": 12,
   "id": "0dac97e4",
   "metadata": {},
   "outputs": [],
   "source": [
    "names = ['Andy','Eve','Kevin']"
   ]
  },
  {
   "cell_type": "code",
   "execution_count": 13,
   "id": "f33892ec",
   "metadata": {},
   "outputs": [
    {
     "data": {
      "text/plain": [
       "['EVEN', 'E', 'K']"
      ]
     },
     "execution_count": 13,
     "metadata": {},
     "output_type": "execute_result"
    }
   ],
   "source": [
    "list(map(splicer,names))"
   ]
  },
  {
   "cell_type": "code",
   "execution_count": 15,
   "id": "38c88cea",
   "metadata": {},
   "outputs": [],
   "source": [
    "def check_even(num):\n",
    "    return num%2==0\n"
   ]
  },
  {
   "cell_type": "code",
   "execution_count": 17,
   "id": "f6e0067c",
   "metadata": {},
   "outputs": [],
   "source": [
    "mynums= [1,2,3,4,5,6]"
   ]
  },
  {
   "cell_type": "code",
   "execution_count": 18,
   "id": "c3ee334b",
   "metadata": {},
   "outputs": [
    {
     "data": {
      "text/plain": [
       "<filter at 0x62d6850>"
      ]
     },
     "execution_count": 18,
     "metadata": {},
     "output_type": "execute_result"
    }
   ],
   "source": [
    "filter(check_even,mynums)"
   ]
  },
  {
   "cell_type": "code",
   "execution_count": 19,
   "id": "7ce7b0df",
   "metadata": {},
   "outputs": [
    {
     "data": {
      "text/plain": [
       "[2, 4, 6]"
      ]
     },
     "execution_count": 19,
     "metadata": {},
     "output_type": "execute_result"
    }
   ],
   "source": [
    "list(filter(check_even,mynums))"
   ]
  },
  {
   "cell_type": "code",
   "execution_count": 20,
   "id": "6e57682c",
   "metadata": {},
   "outputs": [
    {
     "name": "stdout",
     "output_type": "stream",
     "text": [
      "2\n",
      "4\n",
      "6\n"
     ]
    }
   ],
   "source": [
    "for n in filter(check_even,mynums):\n",
    "    print(n)\n"
   ]
  },
  {
   "cell_type": "code",
   "execution_count": 21,
   "id": "118fbdc0",
   "metadata": {},
   "outputs": [
    {
     "data": {
      "text/plain": [
       "<function __main__.<lambda>(num)>"
      ]
     },
     "execution_count": 21,
     "metadata": {},
     "output_type": "execute_result"
    }
   ],
   "source": [
    "lambda num: num**2\n"
   ]
  },
  {
   "cell_type": "code",
   "execution_count": 22,
   "id": "71d021ca",
   "metadata": {},
   "outputs": [
    {
     "data": {
      "text/plain": [
       "[1, 4, 9, 16, 25, 36]"
      ]
     },
     "execution_count": 22,
     "metadata": {},
     "output_type": "execute_result"
    }
   ],
   "source": [
    "list(map(lambda x:x **2,mynums))"
   ]
  },
  {
   "cell_type": "code",
   "execution_count": 23,
   "id": "212b869b",
   "metadata": {},
   "outputs": [
    {
     "data": {
      "text/plain": [
       "[3, 6, 9, 12, 15, 18]"
      ]
     },
     "execution_count": 23,
     "metadata": {},
     "output_type": "execute_result"
    }
   ],
   "source": [
    "list(map(lambda y:y * 3,mynums))\n"
   ]
  },
  {
   "cell_type": "code",
   "execution_count": 24,
   "id": "68552d08",
   "metadata": {},
   "outputs": [],
   "source": [
    "def check_even(num):\n",
    "    return num%2==0"
   ]
  },
  {
   "cell_type": "code",
   "execution_count": 30,
   "id": "d4bd153b",
   "metadata": {},
   "outputs": [],
   "source": [
    "mynums= [1,2,3,4,5,6]"
   ]
  },
  {
   "cell_type": "code",
   "execution_count": 29,
   "id": "abf5b45f",
   "metadata": {},
   "outputs": [
    {
     "data": {
      "text/plain": [
       "[2, 4, 6]"
      ]
     },
     "execution_count": 29,
     "metadata": {},
     "output_type": "execute_result"
    }
   ],
   "source": [
    "list(filter(check_even,mynums))"
   ]
  },
  {
   "cell_type": "code",
   "execution_count": 28,
   "id": "e6d9b0d1",
   "metadata": {},
   "outputs": [
    {
     "data": {
      "text/plain": [
       "[2, 4, 6]"
      ]
     },
     "execution_count": 28,
     "metadata": {},
     "output_type": "execute_result"
    }
   ],
   "source": [
    "list(filter(lambda num:num %2 ==0,mynums))"
   ]
  },
  {
   "cell_type": "code",
   "execution_count": 31,
   "id": "db8a019d",
   "metadata": {},
   "outputs": [],
   "source": [
    " names = ['Andy','Eve','Sally']"
   ]
  },
  {
   "cell_type": "code",
   "execution_count": 32,
   "id": "a2a2fbed",
   "metadata": {},
   "outputs": [
    {
     "data": {
      "text/plain": [
       "['ydnA', 'evE', 'yllaS']"
      ]
     },
     "execution_count": 32,
     "metadata": {},
     "output_type": "execute_result"
    }
   ],
   "source": [
    "list(map(lambda x:x[::-1],names))"
   ]
  },
  {
   "cell_type": "code",
   "execution_count": null,
   "id": "8bc55edc",
   "metadata": {},
   "outputs": [],
   "source": []
  }
 ],
 "metadata": {
  "kernelspec": {
   "display_name": "Python 3 (ipykernel)",
   "language": "python",
   "name": "python3"
  },
  "language_info": {
   "codemirror_mode": {
    "name": "ipython",
    "version": 3
   },
   "file_extension": ".py",
   "mimetype": "text/x-python",
   "name": "python",
   "nbconvert_exporter": "python",
   "pygments_lexer": "ipython3",
   "version": "3.10.9"
  }
 },
 "nbformat": 4,
 "nbformat_minor": 5
}
