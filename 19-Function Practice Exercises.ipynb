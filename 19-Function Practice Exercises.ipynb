{
 "cells": [
  {
   "cell_type": "markdown",
   "id": "06c76c67",
   "metadata": {},
   "source": [
    "# Function Practice Exercises\n",
    "\n"
   ]
  },
  {
   "cell_type": "markdown",
   "id": "c217ad36",
   "metadata": {},
   "source": [
    "# WARMUP SECTION:\n",
    "\n",
    "LESSER OF TWO EVENS: Write a function that returns the lesser of two given numbers if\n",
    "both numbers are even, but returns the greater if one or both numbers are odd\n",
    "\n",
    "\n",
    "lesser_of_two_evens(2,4) --> 2\n",
    "\n",
    "lesser_of_two_evens(2,5) --> 5\n",
    "\n",
    "\n",
    "\n",
    "\n",
    "\n",
    "\n",
    "\n",
    "\n"
   ]
  },
  {
   "cell_type": "code",
   "execution_count": 1,
   "id": "d9f1450a",
   "metadata": {},
   "outputs": [
    {
     "ename": "SyntaxError",
     "evalue": "invalid syntax (2968581201.py, line 8)",
     "output_type": "error",
     "traceback": [
      "\u001b[1;36m  Input \u001b[1;32mIn [1]\u001b[1;36m\u001b[0m\n\u001b[1;33m    else:\u001b[0m\n\u001b[1;37m    ^\u001b[0m\n\u001b[1;31mSyntaxError\u001b[0m\u001b[1;31m:\u001b[0m invalid syntax\n"
     ]
    }
   ],
   "source": [
    "def lesser_of_two_evens(a,b):\n",
    "    if a % 2 == 0 and b % 2 ==0:\n",
    "        #Both are even\n",
    "        if a<b:\n",
    "            result = a\n",
    "        else:\n",
    "            result = b\n",
    "        else:\n",
    "            if a>b:\n",
    "            result = a\n",
    "        else:\n",
    "            result = b\n",
    "            return result"
   ]
  },
  {
   "cell_type": "code",
   "execution_count": null,
   "id": "a71d6ea8",
   "metadata": {},
   "outputs": [],
   "source": [
    "# Check\n",
    "lesser_of_two_evens(2,4)"
   ]
  },
  {
   "cell_type": "code",
   "execution_count": null,
   "id": "ce4358e0",
   "metadata": {},
   "outputs": [],
   "source": [
    "# Check\n",
    "lesser_of_two_evens(2,5)\n"
   ]
  },
  {
   "cell_type": "code",
   "execution_count": 3,
   "id": "3fc83730",
   "metadata": {},
   "outputs": [],
   "source": [
    "#cleaning the above code and writing a more efficeient code\n",
    "def lesser_of_two_evens(a,b):\n",
    "    if a % 2 == 0 and b % 2 == 0:\n",
    "        result = min(a,b)\n",
    "    else:\n",
    "        result = max(a,b)\n",
    "        return result \n"
   ]
  },
  {
   "cell_type": "code",
   "execution_count": 4,
   "id": "76c3a9bb",
   "metadata": {},
   "outputs": [],
   "source": [
    "lesser_of_two_evens(2,4)\n"
   ]
  },
  {
   "cell_type": "code",
   "execution_count": 5,
   "id": "6384d878",
   "metadata": {},
   "outputs": [
    {
     "data": {
      "text/plain": [
       "5"
      ]
     },
     "execution_count": 5,
     "metadata": {},
     "output_type": "execute_result"
    }
   ],
   "source": [
    "lesser_of_two_evens(2,5)"
   ]
  },
  {
   "cell_type": "code",
   "execution_count": 6,
   "id": "4b85e948",
   "metadata": {},
   "outputs": [],
   "source": [
    "#a more efficient code\n",
    "def lesser_of_two_evens(a,b):\n",
    "    if a % 2 == 0 and b % 2 == 0:\n",
    "        return min(a,b)\n",
    "    else:\n",
    "        return max(a,b)\n"
   ]
  },
  {
   "cell_type": "code",
   "execution_count": 7,
   "id": "e01f6f05",
   "metadata": {},
   "outputs": [
    {
     "data": {
      "text/plain": [
       "2"
      ]
     },
     "execution_count": 7,
     "metadata": {},
     "output_type": "execute_result"
    }
   ],
   "source": [
    "lesser_of_two_evens(2,4)\n"
   ]
  },
  {
   "cell_type": "code",
   "execution_count": 8,
   "id": "52f45826",
   "metadata": {},
   "outputs": [
    {
     "data": {
      "text/plain": [
       "5"
      ]
     },
     "execution_count": 8,
     "metadata": {},
     "output_type": "execute_result"
    }
   ],
   "source": [
    "lesser_of_two_evens(2,5)"
   ]
  },
  {
   "cell_type": "markdown",
   "id": "140d52ef",
   "metadata": {},
   "source": [
    "# ANIMAL CRACKERS:\n",
    "Write a function takes a two-word string and returns True if both\n",
    "words begin with same letter\n",
    "\n",
    "\n",
    "animal_crackers('Levelheaded Llama') --> True\n",
    "\n",
    "animal_crackers('Crazy Kangaroo') --> False\n"
   ]
  },
  {
   "cell_type": "code",
   "execution_count": 9,
   "id": "0372ed63",
   "metadata": {},
   "outputs": [],
   "source": [
    "def animal_cracker(text):\n",
    "    wordlist = text.split()\n",
    "    first = wordlist[0]\n",
    "    second = wordlist[1]\n",
    "    return first[0] == second[0]"
   ]
  },
  {
   "cell_type": "code",
   "execution_count": 10,
   "id": "4edbf849",
   "metadata": {
    "scrolled": true
   },
   "outputs": [
    {
     "data": {
      "text/plain": [
       "True"
      ]
     },
     "execution_count": 10,
     "metadata": {},
     "output_type": "execute_result"
    }
   ],
   "source": [
    "animal_cracker('Mausam Mutant')"
   ]
  },
  {
   "cell_type": "code",
   "execution_count": 11,
   "id": "7c7defd0",
   "metadata": {},
   "outputs": [
    {
     "data": {
      "text/plain": [
       "False"
      ]
     },
     "execution_count": 11,
     "metadata": {},
     "output_type": "execute_result"
    }
   ],
   "source": [
    "animal_cracker('Tradition man')"
   ]
  },
  {
   "cell_type": "code",
   "execution_count": null,
   "id": "014231cd",
   "metadata": {},
   "outputs": [],
   "source": [
    "#Using double index and comparing without being case seinsitive"
   ]
  },
  {
   "cell_type": "code",
   "execution_count": 12,
   "id": "c0594284",
   "metadata": {},
   "outputs": [],
   "source": [
    "def animal_crackers(text):\n",
    "    wordlist = text.lower().split()\n",
    "    return wordlist [0] [0] == wordlist [0] [1]\n",
    " \n"
   ]
  },
  {
   "cell_type": "code",
   "execution_count": 13,
   "id": "2a6f5a84",
   "metadata": {},
   "outputs": [
    {
     "data": {
      "text/plain": [
       "True"
      ]
     },
     "execution_count": 13,
     "metadata": {},
     "output_type": "execute_result"
    }
   ],
   "source": [
    "animal_cracker('Mausam Mutant')"
   ]
  },
  {
   "cell_type": "code",
   "execution_count": 14,
   "id": "d3e0efe0",
   "metadata": {},
   "outputs": [
    {
     "data": {
      "text/plain": [
       "False"
      ]
     },
     "execution_count": 14,
     "metadata": {},
     "output_type": "execute_result"
    }
   ],
   "source": [
    "animal_cracker('Tradition man')"
   ]
  },
  {
   "cell_type": "markdown",
   "id": "689cb75c",
   "metadata": {},
   "source": [
    "# MAKES TWENTY: Given two integers, return True if the sum of the integers is 20 or if one of the integers is 20. If not, return False\n",
    "\n",
    "\n",
    "makes_twenty(20,10) --> True\n",
    "\n",
    "makes_twenty(12,8) --> True\n",
    "\n",
    "makes_twenty(2,3) --> False"
   ]
  },
  {
   "cell_type": "code",
   "execution_count": 15,
   "id": "7045b385",
   "metadata": {},
   "outputs": [],
   "source": [
    "def makes_twenty (n1,n2):\n",
    "    if n1+n2 ==20:\n",
    "        return True\n",
    "    elif n1==20:\n",
    "        return True\n",
    "    elif n2==20:\n",
    "        return True\n",
    "    else:\n",
    "        return False\n",
    "    "
   ]
  },
  {
   "cell_type": "code",
   "execution_count": 16,
   "id": "414ba30d",
   "metadata": {},
   "outputs": [
    {
     "data": {
      "text/plain": [
       "True"
      ]
     },
     "execution_count": 16,
     "metadata": {},
     "output_type": "execute_result"
    }
   ],
   "source": [
    "makes_twenty(20,10)"
   ]
  },
  {
   "cell_type": "code",
   "execution_count": 17,
   "id": "c75b7af8",
   "metadata": {},
   "outputs": [
    {
     "data": {
      "text/plain": [
       "True"
      ]
     },
     "execution_count": 17,
     "metadata": {},
     "output_type": "execute_result"
    }
   ],
   "source": [
    "makes_twenty(12,8) "
   ]
  },
  {
   "cell_type": "code",
   "execution_count": 18,
   "id": "a912458a",
   "metadata": {},
   "outputs": [
    {
     "data": {
      "text/plain": [
       "False"
      ]
     },
     "execution_count": 18,
     "metadata": {},
     "output_type": "execute_result"
    }
   ],
   "source": [
    "makes_twenty(2,3)"
   ]
  },
  {
   "cell_type": "code",
   "execution_count": 19,
   "id": "75fed0b1",
   "metadata": {},
   "outputs": [],
   "source": [
    "#A more clean code\n",
    "def makes_twenty(n1,n2):\n",
    "    return n1+n2 == 20 or n1 == 20 or n2 == 20\n"
   ]
  },
  {
   "cell_type": "code",
   "execution_count": 20,
   "id": "9594ce98",
   "metadata": {},
   "outputs": [
    {
     "data": {
      "text/plain": [
       "False"
      ]
     },
     "execution_count": 20,
     "metadata": {},
     "output_type": "execute_result"
    }
   ],
   "source": [
    "makes_twenty(2,3)"
   ]
  },
  {
   "cell_type": "code",
   "execution_count": 21,
   "id": "2f88ae22",
   "metadata": {},
   "outputs": [],
   "source": [
    "#Practice\n",
    "def mausam_don(a1,a2):\n",
    "    return a1+a2 ==10 or a1==10 or a2==10"
   ]
  },
  {
   "cell_type": "code",
   "execution_count": 22,
   "id": "a18613f0",
   "metadata": {},
   "outputs": [
    {
     "data": {
      "text/plain": [
       "False"
      ]
     },
     "execution_count": 22,
     "metadata": {},
     "output_type": "execute_result"
    }
   ],
   "source": [
    "mausam_don(3,19)"
   ]
  },
  {
   "cell_type": "code",
   "execution_count": 23,
   "id": "2de739d0",
   "metadata": {},
   "outputs": [
    {
     "data": {
      "text/plain": [
       "True"
      ]
     },
     "execution_count": 23,
     "metadata": {},
     "output_type": "execute_result"
    }
   ],
   "source": [
    "mausam_don(10,2)"
   ]
  },
  {
   "cell_type": "markdown",
   "id": "d9d0bcde",
   "metadata": {},
   "source": [
    "# LEVEL 1 PROBLEMS\n"
   ]
  },
  {
   "cell_type": "markdown",
   "id": "f7451bf7",
   "metadata": {},
   "source": [
    "OLD MACDONALD: Write a function that capitalizes the first and fourth letters of a\n",
    "name\n",
    "\n",
    "old_macdonald('macdonald') --> MacDonald\n",
    "\n",
    "Note: 'macdonald'.capitalize() returns 'Macdonald'"
   ]
  },
  {
   "cell_type": "code",
   "execution_count": 24,
   "id": "04dcf464",
   "metadata": {},
   "outputs": [],
   "source": [
    "#Using Uppercase\n",
    "def old_macdonald(name):\n",
    "    firstltr = name[0]\n",
    "    #print(firstltr)\n",
    "    secondltr = name[1:3]\n",
    "    #print(secondltr)\n",
    "    fourthltr = name[3]\n",
    "    print(fourthltr)\n",
    "    rest = name [4:]\n",
    "    return firstltr.upper()+secondltr+fourthltr.upper()+rest"
   ]
  },
  {
   "cell_type": "code",
   "execution_count": 25,
   "id": "2bc22978",
   "metadata": {},
   "outputs": [
    {
     "name": "stdout",
     "output_type": "stream",
     "text": [
      "d\n"
     ]
    },
    {
     "data": {
      "text/plain": [
       "'MacDonald'"
      ]
     },
     "execution_count": 25,
     "metadata": {},
     "output_type": "execute_result"
    }
   ],
   "source": [
    "old_macdonald('macdonald')"
   ]
  },
  {
   "cell_type": "code",
   "execution_count": 26,
   "id": "0ea3db5e",
   "metadata": {},
   "outputs": [],
   "source": [
    "#Using Capitalize"
   ]
  },
  {
   "cell_type": "code",
   "execution_count": 27,
   "id": "a96e74de",
   "metadata": {},
   "outputs": [],
   "source": [
    "def old_macdonald(name):\n",
    "    firstletter = name [:3]\n",
    "    secondletter = name [3:]\n",
    "    return firstletter.capitalize() + secondletter.capitalize()"
   ]
  },
  {
   "cell_type": "code",
   "execution_count": 28,
   "id": "85a71e07",
   "metadata": {},
   "outputs": [
    {
     "data": {
      "text/plain": [
       "'MacDonald'"
      ]
     },
     "execution_count": 28,
     "metadata": {},
     "output_type": "execute_result"
    }
   ],
   "source": [
    "old_macdonald('macdonald')"
   ]
  },
  {
   "cell_type": "code",
   "execution_count": 29,
   "id": "8c6e4f24",
   "metadata": {},
   "outputs": [],
   "source": [
    "#Practice\n",
    "def mausam_don(name):\n",
    "    first = name [:6]\n",
    "    second = name [6:]\n",
    "    return first.capitalize() + second.capitalize()"
   ]
  },
  {
   "cell_type": "code",
   "execution_count": 30,
   "id": "adf8d818",
   "metadata": {},
   "outputs": [
    {
     "data": {
      "text/plain": [
       "'MausamDon'"
      ]
     },
     "execution_count": 30,
     "metadata": {},
     "output_type": "execute_result"
    }
   ],
   "source": [
    "mausam_don('mausamdon')"
   ]
  },
  {
   "cell_type": "markdown",
   "id": "89e533b2",
   "metadata": {},
   "source": [
    "# MASTER YODA: Given a sentence, return a sentence with the words reversed\n"
   ]
  },
  {
   "cell_type": "markdown",
   "id": "fb8a5ecc",
   "metadata": {},
   "source": [
    "master_yoda('I am home') --> 'home am I'\n",
    "\n",
    "master_yoda('We are ready') --> 'ready are We'"
   ]
  },
  {
   "cell_type": "code",
   "execution_count": 31,
   "id": "6da6df8b",
   "metadata": {},
   "outputs": [],
   "source": [
    "def master_yoda(text):\n",
    "    wordlist = text.split()\n",
    "    reverse = wordlist [::-1]\n",
    "    return reverse\n",
    "    "
   ]
  },
  {
   "cell_type": "code",
   "execution_count": 32,
   "id": "18cd5059",
   "metadata": {},
   "outputs": [
    {
     "data": {
      "text/plain": [
       "['Home', 'am', 'I']"
      ]
     },
     "execution_count": 32,
     "metadata": {},
     "output_type": "execute_result"
    }
   ],
   "source": [
    "master_yoda('I am Home')"
   ]
  },
  {
   "cell_type": "code",
   "execution_count": 33,
   "id": "d588cc72",
   "metadata": {},
   "outputs": [
    {
     "data": {
      "text/plain": [
       "['we', 'are', 'ready']"
      ]
     },
     "execution_count": 33,
     "metadata": {},
     "output_type": "execute_result"
    }
   ],
   "source": [
    "master_yoda('ready are we')"
   ]
  },
  {
   "cell_type": "code",
   "execution_count": 34,
   "id": "8fea57d1",
   "metadata": {},
   "outputs": [
    {
     "data": {
      "text/plain": [
       "'a---b---c'"
      ]
     },
     "execution_count": 34,
     "metadata": {},
     "output_type": "execute_result"
    }
   ],
   "source": [
    "#understanding join method\n",
    "mylist = ['a','b','c']\n",
    "'---'.join(mylist)"
   ]
  },
  {
   "cell_type": "code",
   "execution_count": 35,
   "id": "223020b8",
   "metadata": {},
   "outputs": [
    {
     "data": {
      "text/plain": [
       "'mausam is very is hansom'"
      ]
     },
     "execution_count": 35,
     "metadata": {},
     "output_type": "execute_result"
    }
   ],
   "source": [
    "mylist =['mausam','very','hansom']\n",
    "' is '.join(mylist)"
   ]
  },
  {
   "cell_type": "code",
   "execution_count": 36,
   "id": "2af63b82",
   "metadata": {},
   "outputs": [
    {
     "data": {
      "text/plain": [
       "'mausam is veryvery is veryhansom'"
      ]
     },
     "execution_count": 36,
     "metadata": {},
     "output_type": "execute_result"
    }
   ],
   "source": [
    "mylist =['mausam','very','hansom']\n",
    "' is ' 'very' .join(mylist)"
   ]
  },
  {
   "cell_type": "code",
   "execution_count": 37,
   "id": "3605aa7a",
   "metadata": {},
   "outputs": [],
   "source": [
    "#Appliying Joining method in string\n",
    "def master_yoda(text):\n",
    "    wordlist = text.split()\n",
    "    reverse = wordlist [::-1]\n",
    "    return ''.join(reverse)"
   ]
  },
  {
   "cell_type": "code",
   "execution_count": 38,
   "id": "4b0eca89",
   "metadata": {},
   "outputs": [
    {
     "data": {
      "text/plain": [
       "'HomeamI'"
      ]
     },
     "execution_count": 38,
     "metadata": {},
     "output_type": "execute_result"
    }
   ],
   "source": [
    "master_yoda('I am Home')"
   ]
  },
  {
   "cell_type": "markdown",
   "id": "e93e36a3",
   "metadata": {},
   "source": [
    "ALMOST THERE: Given an integer n, return True if n is within 10 of either 100 or 200\n",
    "\n",
    "\n",
    "almost_there(90) --> True\n",
    "\n",
    "almost_there(104) --> True\n",
    "\n",
    "almost_there(150) --> False\n",
    "\n",
    "almost_there(209) --> True\n",
    "\n",
    "NOTE: abs(num) returns the absolute value of a number"
   ]
  },
  {
   "cell_type": "code",
   "execution_count": 39,
   "id": "040f4289",
   "metadata": {},
   "outputs": [],
   "source": [
    "def almost_there(n):\n",
    "    return (100-n)<=10 or (200 - n)<=10\n"
   ]
  },
  {
   "cell_type": "code",
   "execution_count": 40,
   "id": "aedecd7d",
   "metadata": {},
   "outputs": [
    {
     "data": {
      "text/plain": [
       "True"
      ]
     },
     "execution_count": 40,
     "metadata": {},
     "output_type": "execute_result"
    }
   ],
   "source": [
    "almost_there(90)\n"
   ]
  },
  {
   "cell_type": "code",
   "execution_count": 41,
   "id": "651ec8de",
   "metadata": {},
   "outputs": [
    {
     "data": {
      "text/plain": [
       "True"
      ]
     },
     "execution_count": 41,
     "metadata": {},
     "output_type": "execute_result"
    }
   ],
   "source": [
    "almost_there(104)"
   ]
  },
  {
   "cell_type": "code",
   "execution_count": 42,
   "id": "86789e1d",
   "metadata": {},
   "outputs": [
    {
     "data": {
      "text/plain": [
       "True"
      ]
     },
     "execution_count": 42,
     "metadata": {},
     "output_type": "execute_result"
    }
   ],
   "source": [
    "almost_there(150)"
   ]
  },
  {
   "cell_type": "code",
   "execution_count": 43,
   "id": "8ae3482b",
   "metadata": {},
   "outputs": [
    {
     "data": {
      "text/plain": [
       "True"
      ]
     },
     "execution_count": 43,
     "metadata": {},
     "output_type": "execute_result"
    }
   ],
   "source": [
    "almost_there(209)"
   ]
  },
  {
   "cell_type": "code",
   "execution_count": 44,
   "id": "e031c5e3",
   "metadata": {},
   "outputs": [],
   "source": [
    "#we need yo get abs to write the code correctly to determine if it is within 10 units ab\n",
    "def almost_there(n):\n",
    "    return abs(100-n)<=10 or abs(200 - n)<=10\n"
   ]
  },
  {
   "cell_type": "code",
   "execution_count": 45,
   "id": "15eba28f",
   "metadata": {},
   "outputs": [
    {
     "data": {
      "text/plain": [
       "True"
      ]
     },
     "execution_count": 45,
     "metadata": {},
     "output_type": "execute_result"
    }
   ],
   "source": [
    "almost_there(209)"
   ]
  },
  {
   "cell_type": "code",
   "execution_count": 46,
   "id": "a832275f",
   "metadata": {},
   "outputs": [
    {
     "data": {
      "text/plain": [
       "False"
      ]
     },
     "execution_count": 46,
     "metadata": {},
     "output_type": "execute_result"
    }
   ],
   "source": [
    "almost_there(150)"
   ]
  },
  {
   "cell_type": "code",
   "execution_count": 47,
   "id": "6b685831",
   "metadata": {},
   "outputs": [
    {
     "data": {
      "text/plain": [
       "True"
      ]
     },
     "execution_count": 47,
     "metadata": {},
     "output_type": "execute_result"
    }
   ],
   "source": [
    "almost_there(104)"
   ]
  },
  {
   "cell_type": "markdown",
   "id": "6f9adfc7",
   "metadata": {},
   "source": [
    "# LEVEL 2 PROBLEMS\n"
   ]
  },
  {
   "cell_type": "markdown",
   "id": "36e739c6",
   "metadata": {},
   "source": [
    "FIND 33:\n",
    "Given a list of ints, return True if the array contains a 3 next to a 3 somewhere.\n",
    "\n",
    "has_33([1, 3, 3]) → True\n",
    "\n",
    "has_33([1, 3, 1, 3]) → False\n",
    "\n",
    "has_33([3, 1, 3]) → False\n"
   ]
  },
  {
   "cell_type": "code",
   "execution_count": 48,
   "id": "da459e8c",
   "metadata": {},
   "outputs": [],
   "source": [
    "def has_33(nums):\n",
    "    for i in range (0,len(nums),-1):\n",
    "        if nums [i] ==3 and nums [i+1] ==3:\n",
    "            return True\n",
    "        return False"
   ]
  },
  {
   "cell_type": "code",
   "execution_count": 49,
   "id": "b4f17b53",
   "metadata": {},
   "outputs": [],
   "source": [
    "has_33([1, 3, 3])"
   ]
  },
  {
   "cell_type": "code",
   "execution_count": 50,
   "id": "ae6b7493",
   "metadata": {},
   "outputs": [],
   "source": [
    "has_33([1, 3, 1, 3])"
   ]
  },
  {
   "cell_type": "code",
   "execution_count": 51,
   "id": "354b77d8",
   "metadata": {},
   "outputs": [],
   "source": [
    "has_33([3, 1, 3])"
   ]
  },
  {
   "cell_type": "code",
   "execution_count": 52,
   "id": "ff7472a4",
   "metadata": {},
   "outputs": [],
   "source": [
    "#A less readable but slicker code\n",
    "def has_33(nums):\n",
    "    for i in range (0,len(nums)-1):\n",
    "        if nums [i:i+2] == [3,3]:\n",
    "            return True\n",
    "        return False"
   ]
  },
  {
   "cell_type": "code",
   "execution_count": 53,
   "id": "e2d98af8",
   "metadata": {},
   "outputs": [
    {
     "data": {
      "text/plain": [
       "False"
      ]
     },
     "execution_count": 53,
     "metadata": {},
     "output_type": "execute_result"
    }
   ],
   "source": [
    "has_33([1, 3, 3])"
   ]
  },
  {
   "cell_type": "code",
   "execution_count": 54,
   "id": "f0fe48bc",
   "metadata": {},
   "outputs": [
    {
     "data": {
      "text/plain": [
       "False"
      ]
     },
     "execution_count": 54,
     "metadata": {},
     "output_type": "execute_result"
    }
   ],
   "source": [
    "has_33([1, 3, 1, 3])"
   ]
  },
  {
   "cell_type": "code",
   "execution_count": 55,
   "id": "a116c81c",
   "metadata": {},
   "outputs": [
    {
     "data": {
      "text/plain": [
       "False"
      ]
     },
     "execution_count": 55,
     "metadata": {},
     "output_type": "execute_result"
    }
   ],
   "source": [
    "has_33([3, 1, 3])"
   ]
  },
  {
   "cell_type": "markdown",
   "id": "89cdd984",
   "metadata": {},
   "source": [
    "PAPER DOLL: Given a string, return a string where for every character in the original\n",
    "there are three characters\n",
    "\n",
    "paper_doll('Hello') --> 'HHHeeellllllooo'\n",
    "\n",
    "paper_doll('Mississippi') --> 'MMMiiissssssiiippppppiii'"
   ]
  },
  {
   "cell_type": "code",
   "execution_count": 60,
   "id": "66e72cfd",
   "metadata": {},
   "outputs": [],
   "source": [
    "def paper_doll(text):\n",
    "    result = ''\n",
    "    for char in text:\n",
    "        result += char*3\n",
    "    return result \n"
   ]
  },
  {
   "cell_type": "code",
   "execution_count": 61,
   "id": "ef3155e9",
   "metadata": {},
   "outputs": [
    {
     "data": {
      "text/plain": [
       "'HHHeeellllllooo'"
      ]
     },
     "execution_count": 61,
     "metadata": {},
     "output_type": "execute_result"
    }
   ],
   "source": [
    "paper_doll('Hello')"
   ]
  },
  {
   "cell_type": "code",
   "execution_count": 64,
   "id": "5400b0db",
   "metadata": {},
   "outputs": [],
   "source": [
    "def paper_doll(text):\n",
    "    result = ''\n",
    "    for char in text:\n",
    "        result+=char*3\n",
    "    return result"
   ]
  },
  {
   "cell_type": "code",
   "execution_count": 66,
   "id": "6a3953be",
   "metadata": {},
   "outputs": [
    {
     "data": {
      "text/plain": [
       "'MMMaaauuusssaaammm'"
      ]
     },
     "execution_count": 66,
     "metadata": {},
     "output_type": "execute_result"
    }
   ],
   "source": [
    "paper_doll('Mausam')"
   ]
  },
  {
   "cell_type": "markdown",
   "id": "2ad20841",
   "metadata": {},
   "source": [
    "BLACKJACK: Given three integers between 1 and 11, if their sum is less than or equal to\n",
    "21, return their sum. If their sum exceeds 21 and there's an eleven, reduce the total sum\n",
    "by 10. Finally, if the sum (even after adjustment) exceeds 21, return 'BUST'\n",
    "\n",
    "blackjack(5,6,7) --> 18\n",
    "\n",
    "blackjack(9,9,9) --> 'BUST'\n",
    "\n",
    "blackjack(9,9,11) --> 19\n"
   ]
  },
  {
   "cell_type": "code",
   "execution_count": 67,
   "id": "4abc19a6",
   "metadata": {},
   "outputs": [],
   "source": [
    "def blackjack(a,b,c):\n",
    "    if sum([a,b,c])<=21:\n",
    "        return sum([a,b,c])\n",
    " #elif sum([a,b,c])>21 and 11 in [a,b,c]:\n",
    "    elif 11 in [a,b,c] and sum([a,b,c])-10<=21:\n",
    "        return sum([a,b,c])-10\n",
    "    else:\n",
    "        return 'BUST'"
   ]
  },
  {
   "cell_type": "code",
   "execution_count": 68,
   "id": "c1578112",
   "metadata": {},
   "outputs": [
    {
     "data": {
      "text/plain": [
       "18"
      ]
     },
     "execution_count": 68,
     "metadata": {},
     "output_type": "execute_result"
    }
   ],
   "source": [
    "blackjack(5,6,7)\n"
   ]
  },
  {
   "cell_type": "code",
   "execution_count": 69,
   "id": "14f1d61d",
   "metadata": {},
   "outputs": [
    {
     "data": {
      "text/plain": [
       "'BUST'"
      ]
     },
     "execution_count": 69,
     "metadata": {},
     "output_type": "execute_result"
    }
   ],
   "source": [
    "blackjack(9,9,9)"
   ]
  },
  {
   "cell_type": "code",
   "execution_count": 71,
   "id": "54037f06",
   "metadata": {},
   "outputs": [
    {
     "data": {
      "text/plain": [
       "19"
      ]
     },
     "execution_count": 71,
     "metadata": {},
     "output_type": "execute_result"
    }
   ],
   "source": [
    "blackjack(9,9,11)\n"
   ]
  },
  {
   "cell_type": "markdown",
   "id": "a76b2297",
   "metadata": {},
   "source": [
    "SUMMER OF '69: Return the sum of the numbers in the array, except ignore sections of\n",
    "numbers starting with a 6 and extending to the next 9 (every 6 will be followed by at\n",
    "least one 9). Return 0 for no numbers.\n",
    "\n",
    "summer_69([1, 3, 5]) --> 9\n",
    "\n",
    "summer_69([4, 5, 6, 7, 8, 9]) --> 9\n",
    "\n",
    "summer_69([2, 1, 6, 9, 11]) --> 14\n",
    "\n"
   ]
  },
  {
   "cell_type": "code",
   "execution_count": 79,
   "id": "2a7c0b46",
   "metadata": {},
   "outputs": [],
   "source": [
    "def summer_69(arr):\n",
    "    total = 0\n",
    "    add = True\n",
    "    for num in arr:\n",
    "        while add:\n",
    "            if num !=6:\n",
    "                total +=num\n",
    "                break \n",
    "            else:\n",
    "                if num !=9:\n",
    "                    break\n",
    "                else:\n",
    "                    add = True\n",
    "                    break \n",
    "                return total"
   ]
  },
  {
   "cell_type": "code",
   "execution_count": 80,
   "id": "8d746c92",
   "metadata": {},
   "outputs": [],
   "source": [
    "summer_69([1, 3, 5]) "
   ]
  },
  {
   "cell_type": "code",
   "execution_count": 81,
   "id": "1f9da8de",
   "metadata": {},
   "outputs": [],
   "source": [
    "summer_69([4, 5, 6, 7, 8, 9])"
   ]
  },
  {
   "cell_type": "code",
   "execution_count": 82,
   "id": "ded8e404",
   "metadata": {},
   "outputs": [],
   "source": [
    "summer_69([2, 1, 6, 9, 11])"
   ]
  },
  {
   "cell_type": "markdown",
   "id": "102a4ef9",
   "metadata": {},
   "source": [
    "# CHALLENGING PROBLEMS\n"
   ]
  },
  {
   "cell_type": "markdown",
   "id": "f988c197",
   "metadata": {},
   "source": [
    "SPY GAME: Write a function that takes in a list of integers and returns True if it contains\n",
    "007 in order\n",
    "\n",
    " spy_game([1,2,4,0,0,7,5]) --> True\n",
    " \n",
    "spy_game([1,0,2,4,0,5,7]) --> True\n",
    "\n",
    "spy_game([1,7,2,0,4,5,0]) --> False"
   ]
  },
  {
   "cell_type": "code",
   "execution_count": 84,
   "id": "cd01bf25",
   "metadata": {},
   "outputs": [],
   "source": [
    "def spy_game(nums):\n",
    "    code = [0,0,7,'x']\n",
    "    for num in nums:\n",
    "        if num ==code[0]:\n",
    "            code.pop(0)\n",
    "    return len(code) == 1"
   ]
  },
  {
   "cell_type": "code",
   "execution_count": 85,
   "id": "a4029d47",
   "metadata": {},
   "outputs": [
    {
     "data": {
      "text/plain": [
       "True"
      ]
     },
     "execution_count": 85,
     "metadata": {},
     "output_type": "execute_result"
    }
   ],
   "source": [
    "spy_game([1,2,4,0,0,7,5])"
   ]
  },
  {
   "cell_type": "code",
   "execution_count": 86,
   "id": "27841a7a",
   "metadata": {},
   "outputs": [
    {
     "data": {
      "text/plain": [
       "True"
      ]
     },
     "execution_count": 86,
     "metadata": {},
     "output_type": "execute_result"
    }
   ],
   "source": [
    "spy_game([1,0,2,4,0,5,7])"
   ]
  },
  {
   "cell_type": "code",
   "execution_count": 87,
   "id": "46f6e881",
   "metadata": {},
   "outputs": [
    {
     "data": {
      "text/plain": [
       "False"
      ]
     },
     "execution_count": 87,
     "metadata": {},
     "output_type": "execute_result"
    }
   ],
   "source": [
    "spy_game([1,7,2,0,4,5,0])"
   ]
  },
  {
   "cell_type": "markdown",
   "id": "46fb00a1",
   "metadata": {},
   "source": [
    "COUNT PRIMES: Write a function that returns the number of prime numbers that exist\n",
    "up to and including a given number\n",
    "\n",
    "count_primes(100) --> 25\n",
    "\n",
    "By convention, 0 and 1 are not prime."
   ]
  },
  {
   "cell_type": "code",
   "execution_count": 90,
   "id": "f56feaf3",
   "metadata": {},
   "outputs": [],
   "source": [
    "def count_primes(num):\n",
    "    if num <2:\n",
    "        return 0\n",
    "    primes = [2]\n",
    "    x=3\n",
    "    while x<=num:\n",
    "        for y in range (3,x,3):\n",
    "            if x%y ==0:\n",
    "                x =+2\n",
    "                break \n",
    "        else:\n",
    "            primes.append(x)\n",
    "            x += 2\n",
    "    return len(primes)\n",
    "                "
   ]
  },
  {
   "cell_type": "code",
   "execution_count": null,
   "id": "ccdacab1",
   "metadata": {},
   "outputs": [],
   "source": [
    "count_primes(100)"
   ]
  },
  {
   "cell_type": "code",
   "execution_count": null,
   "id": "1ee308c0",
   "metadata": {},
   "outputs": [],
   "source": []
  }
 ],
 "metadata": {
  "kernelspec": {
   "display_name": "Python 3 (ipykernel)",
   "language": "python",
   "name": "python3"
  },
  "language_info": {
   "codemirror_mode": {
    "name": "ipython",
    "version": 3
   },
   "file_extension": ".py",
   "mimetype": "text/x-python",
   "name": "python",
   "nbconvert_exporter": "python",
   "pygments_lexer": "ipython3",
   "version": "3.9.12"
  }
 },
 "nbformat": 4,
 "nbformat_minor": 5
}
