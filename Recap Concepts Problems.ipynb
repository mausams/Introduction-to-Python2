{
 "cells": [
  {
   "cell_type": "markdown",
   "id": "e38a1fbf",
   "metadata": {},
   "source": [
    "# Low Difficulty"
   ]
  },
  {
   "cell_type": "code",
   "execution_count": 1,
   "id": "9fc1cc0e",
   "metadata": {},
   "outputs": [
    {
     "name": "stdout",
     "output_type": "stream",
     "text": [
      "Hello, World!\n"
     ]
    }
   ],
   "source": [
    "print(\"Hello, World!\")"
   ]
  },
  {
   "cell_type": "markdown",
   "id": "ef16f147",
   "metadata": {},
   "source": [
    "Basic Arithmetic Operations"
   ]
  },
  {
   "cell_type": "code",
   "execution_count": 6,
   "id": "e6cb804a",
   "metadata": {},
   "outputs": [],
   "source": [
    "def my_func():\n",
    "    num1 = int(input(\"Enter the num1:\"))\n",
    "    num2 = int(input(\"Enter the num2:\"))\n",
    "    print(\"Sum:\", num1 + num2)\n",
    "    print(\"Difference:\", num1 - num2)\n",
    "    print(\"Product:\", num1 * num2)\n",
    "    print(\"Quotient:\", num1 / num2)"
   ]
  },
  {
   "cell_type": "code",
   "execution_count": 7,
   "id": "86ddefe0",
   "metadata": {},
   "outputs": [
    {
     "name": "stdout",
     "output_type": "stream",
     "text": [
      "Enter the num1:3\n",
      "Enter the num2:4\n",
      "Sum: 7\n",
      "Difference: -1\n",
      "Product: 12\n",
      "Quotient: 0.75\n"
     ]
    }
   ],
   "source": [
    "my_func()"
   ]
  },
  {
   "cell_type": "markdown",
   "id": "52589a4b",
   "metadata": {},
   "source": [
    "String Concatenation"
   ]
  },
  {
   "cell_type": "code",
   "execution_count": 12,
   "id": "fe002207",
   "metadata": {},
   "outputs": [
    {
     "name": "stdout",
     "output_type": "stream",
     "text": [
      "Enter your string: Hello \n",
      " Hello  World!\n"
     ]
    }
   ],
   "source": [
    "str1 = input(\"Enter your string:\")\n",
    "str2 = \" World!\"\n",
    "result = str1 + str2\n",
    "print(result)"
   ]
  },
  {
   "cell_type": "markdown",
   "id": "2dc81c2f",
   "metadata": {},
   "source": [
    "List Creation and Manipulation"
   ]
  },
  {
   "cell_type": "code",
   "execution_count": 16,
   "id": "7a1637eb",
   "metadata": {},
   "outputs": [
    {
     "name": "stdout",
     "output_type": "stream",
     "text": [
      "Original list: ['apple', 'banana', 'cherry', 'kiwi', 'Mango', 'Orange']\n"
     ]
    }
   ],
   "source": [
    "fruits = [\"apple\", \"banana\", \"cherry\", \"kiwi\", \"Mango\", \"Orange\"]\n",
    "print(\"Original list:\", fruits)"
   ]
  },
  {
   "cell_type": "code",
   "execution_count": 18,
   "id": "49631512",
   "metadata": {},
   "outputs": [],
   "source": [
    "fruits.append(\"Papya\")"
   ]
  },
  {
   "cell_type": "code",
   "execution_count": 19,
   "id": "6727a968",
   "metadata": {},
   "outputs": [
    {
     "name": "stdout",
     "output_type": "stream",
     "text": [
      "Updated List: ['apple', 'banana', 'cherry', 'kiwi', 'Mango', 'Orange', 'Papya']\n"
     ]
    }
   ],
   "source": [
    "print(\"Updated List:\", fruits)"
   ]
  },
  {
   "cell_type": "markdown",
   "id": "a0e1018d",
   "metadata": {},
   "source": [
    "Using Conditional Statements (if-else)"
   ]
  },
  {
   "cell_type": "code",
   "execution_count": 31,
   "id": "83a8cb4c",
   "metadata": {},
   "outputs": [],
   "source": [
    "def my_age():\n",
    "    Age= int(input(\"Enter the your Age:\"))\n",
    "    if Age >= 18:\n",
    "        print(\"Your are an adult!\")\n",
    "    else:\n",
    "        print(\"Your are an minor!\")"
   ]
  },
  {
   "cell_type": "code",
   "execution_count": 32,
   "id": "4fc948f1",
   "metadata": {},
   "outputs": [
    {
     "name": "stdout",
     "output_type": "stream",
     "text": [
      "Enter the your Age:55\n",
      "Your are an adult!\n"
     ]
    }
   ],
   "source": [
    "my_age()"
   ]
  },
  {
   "cell_type": "markdown",
   "id": "f3381bc8",
   "metadata": {},
   "source": [
    "# Medium Difficulty"
   ]
  },
  {
   "cell_type": "markdown",
   "id": "8b6c4aba",
   "metadata": {},
   "source": [
    "For Loop with Range"
   ]
  },
  {
   "cell_type": "code",
   "execution_count": 34,
   "id": "76cc2b5e",
   "metadata": {},
   "outputs": [
    {
     "name": "stdout",
     "output_type": "stream",
     "text": [
      "0\n",
      "1\n",
      "2\n",
      "3\n",
      "4\n",
      "5\n",
      "6\n",
      "7\n",
      "8\n",
      "9\n",
      "10\n"
     ]
    }
   ],
   "source": [
    "for i in range(0,11):\n",
    "    print(i)"
   ]
  },
  {
   "cell_type": "markdown",
   "id": "bca13bb0",
   "metadata": {},
   "source": [
    "Functions and Function Calls"
   ]
  },
  {
   "cell_type": "code",
   "execution_count": 38,
   "id": "3683915c",
   "metadata": {},
   "outputs": [
    {
     "name": "stdout",
     "output_type": "stream",
     "text": [
      "Hello,Mausam!\n"
     ]
    }
   ],
   "source": [
    "def geet(name):\n",
    "    return f\"Hello,{name}!\"\n",
    "print(geet(\"Mausam\"))"
   ]
  },
  {
   "cell_type": "markdown",
   "id": "7fba3e32",
   "metadata": {},
   "source": [
    "Dictionaries and Accessing Values"
   ]
  },
  {
   "cell_type": "code",
   "execution_count": 39,
   "id": "b1c5c8ab",
   "metadata": {},
   "outputs": [],
   "source": [
    "person = {\"name\": \"Mausam\", \"age\": 17, \"Program\": \"BCA\", \"Collage\": \"MSU\"}"
   ]
  },
  {
   "cell_type": "code",
   "execution_count": 46,
   "id": "90975053",
   "metadata": {},
   "outputs": [
    {
     "name": "stdout",
     "output_type": "stream",
     "text": [
      "Name: Mausam\n",
      "Age: 17\n",
      "Program: BCA\n",
      "Collage: MSU\n"
     ]
    }
   ],
   "source": [
    "print(\"Name:\", person[\"name\"])\n",
    "print(\"Age:\", person[\"age\"])\n",
    "print(\"Program:\", person[\"Program\"])\n",
    "print(\"Collage:\", person[\"Collage\"])"
   ]
  },
  {
   "cell_type": "markdown",
   "id": "8334687c",
   "metadata": {},
   "source": [
    "File I/O: Writing and Reading a File"
   ]
  },
  {
   "cell_type": "code",
   "execution_count": 49,
   "id": "9317e53a",
   "metadata": {},
   "outputs": [],
   "source": [
    "with open(\"file.txt\", \"w\") as tfile:\n",
    "    tfile.write(\"Hello world! Whats up?\")\n",
    "    "
   ]
  },
  {
   "cell_type": "code",
   "execution_count": 50,
   "id": "0439b01c",
   "metadata": {},
   "outputs": [
    {
     "name": "stdout",
     "output_type": "stream",
     "text": [
      "Hello world! Whats up?\n"
     ]
    }
   ],
   "source": [
    "with open (\"file.txt\", \"r\") as tfile:\n",
    "    print(tfile.read())"
   ]
  },
  {
   "cell_type": "markdown",
   "id": "1d0b1454",
   "metadata": {},
   "source": [
    "List Comprehension"
   ]
  },
  {
   "cell_type": "code",
   "execution_count": 58,
   "id": "7a3d67a8",
   "metadata": {},
   "outputs": [
    {
     "name": "stdout",
     "output_type": "stream",
     "text": [
      "[1, 4, 9, 16, 25, 36, 49, 64, 81]\n"
     ]
    }
   ],
   "source": [
    "numbers = [1,2,3,4,5,6,7,8,9]\n",
    "squares = [num**2 for num in numbers]\n",
    "print(squares)"
   ]
  },
  {
   "cell_type": "markdown",
   "id": "273461db",
   "metadata": {},
   "source": [
    "# High Difficulty"
   ]
  },
  {
   "cell_type": "markdown",
   "id": "7a8e872b",
   "metadata": {},
   "source": [
    "Defining and Using Classes"
   ]
  },
  {
   "cell_type": "code",
   "execution_count": 62,
   "id": "164d17cf",
   "metadata": {},
   "outputs": [
    {
     "name": "stdout",
     "output_type": "stream",
     "text": [
      "Name: Murmok\n",
      "Murmok is barking: Woof!\n",
      "The owner is: Mausam Don\n"
     ]
    }
   ],
   "source": [
    "class Dog:\n",
    "    def __init__(self, name):\n",
    "        self.name = name\n",
    "    def bark (self):\n",
    "        return \"Woof!\"\n",
    "    def owner(self):\n",
    "        return \"Mausam Don\"\n",
    "my_dog = Dog(\"Murmok\")\n",
    "print(\"Name:\", my_dog.name)\n",
    "print(\"Murmok is barking:\", my_dog.bark())\n",
    "print(\"The owner is:\", my_dog.owner())"
   ]
  },
  {
   "cell_type": "markdown",
   "id": "873351ec",
   "metadata": {},
   "source": [
    "Inheritance in Classes"
   ]
  },
  {
   "cell_type": "code",
   "execution_count": 63,
   "id": "2526bb83",
   "metadata": {},
   "outputs": [
    {
     "name": "stdout",
     "output_type": "stream",
     "text": [
      "Woof!\n"
     ]
    }
   ],
   "source": [
    "class Animal:\n",
    "    def speak(self):\n",
    "        pass\n",
    "class Dog (Animal):\n",
    "    def speak(self):\n",
    "        return \"Woof!\"\n",
    "my_dog = Dog()\n",
    "print(my_dog.speak())"
   ]
  },
  {
   "cell_type": "markdown",
   "id": "27feed34",
   "metadata": {},
   "source": [
    "Exception Handling"
   ]
  },
  {
   "cell_type": "code",
   "execution_count": 65,
   "id": "272928c7",
   "metadata": {},
   "outputs": [
    {
     "name": "stdout",
     "output_type": "stream",
     "text": [
      "You can't divide by zero!\n"
     ]
    }
   ],
   "source": [
    "try:\n",
    "    print(5/0)\n",
    "except ZeroDivisionError:\n",
    "    print(\"You can't divide by zero!\")"
   ]
  },
  {
   "cell_type": "markdown",
   "id": "5ac35952",
   "metadata": {},
   "source": [
    "Using Python Modules"
   ]
  },
  {
   "cell_type": "code",
   "execution_count": 70,
   "id": "2b4bee63",
   "metadata": {},
   "outputs": [
    {
     "name": "stdout",
     "output_type": "stream",
     "text": [
      "2.0\n"
     ]
    }
   ],
   "source": [
    "import math\n",
    "print(math.sqrt(4))p[]"
   ]
  },
  {
   "cell_type": "code",
   "execution_count": null,
   "id": "b4d6f805",
   "metadata": {},
   "outputs": [],
   "source": []
  }
 ],
 "metadata": {
  "kernelspec": {
   "display_name": "Python 3 (ipykernel)",
   "language": "python",
   "name": "python3"
  },
  "language_info": {
   "codemirror_mode": {
    "name": "ipython",
    "version": 3
   },
   "file_extension": ".py",
   "mimetype": "text/x-python",
   "name": "python",
   "nbconvert_exporter": "python",
   "pygments_lexer": "ipython3",
   "version": "3.10.9"
  }
 },
 "nbformat": 4,
 "nbformat_minor": 5
}
