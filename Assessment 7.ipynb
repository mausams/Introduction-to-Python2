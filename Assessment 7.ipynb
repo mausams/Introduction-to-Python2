{
 "cells": [
  {
   "cell_type": "markdown",
   "id": "845a9ba4",
   "metadata": {},
   "source": [
    "Assessment 1: Temperature Converter (5 Marks)"
   ]
  },
  {
   "cell_type": "code",
   "execution_count": 6,
   "id": "826cc81d",
   "metadata": {},
   "outputs": [
    {
     "name": "stdout",
     "output_type": "stream",
     "text": [
      "Enter the Temperature:0\n",
      "32.0\n"
     ]
    }
   ],
   "source": [
    "#QA\n",
    "temp = int(input('Enter the Temperature:'))\n",
    "def convert_temperature(temp, from_scale, to_scale):\n",
    "    if from_scale == 'Celsius':\n",
    "        if to_scale == 'Fahrenheit':\n",
    "            return (temp * 9/5) + 32\n",
    "print(convert_temperature(temp, 'Celsius', 'Fahrenheit'))"
   ]
  },
  {
   "cell_type": "code",
   "execution_count": 7,
   "id": "80f4d6d6",
   "metadata": {},
   "outputs": [
    {
     "name": "stdout",
     "output_type": "stream",
     "text": [
      "Enter the Temperature:32\n",
      "0.0\n"
     ]
    }
   ],
   "source": [
    "#QB\n",
    "temp = int(input('Enter the Temperature:'))\n",
    "def convert_temperature(temp, from_scale, to_scale):\n",
    "    if from_scale == 'Fahrenheit':\n",
    "        if to_scale == 'Celsius':\n",
    "            return (temp - 32) * 5/9\n",
    "print(convert_temperature(temp, 'Fahrenheit', 'Celsius'))"
   ]
  },
  {
   "cell_type": "code",
   "execution_count": 9,
   "id": "21f3004a",
   "metadata": {},
   "outputs": [
    {
     "name": "stdout",
     "output_type": "stream",
     "text": [
      "Enter the Temperature:0\n",
      "273.15\n"
     ]
    }
   ],
   "source": [
    "#QC\n",
    "temp = int(input('Enter the Temperature:'))\n",
    "def convert_temperature(temp, from_scale, to_scale):\n",
    "    if from_scale == 'Celsius':\n",
    "        if to_scale == 'Kelvin':\n",
    "            return temp + 273.15\n",
    "print(convert_temperature(temp, 'Celsius', 'Kelvin'))"
   ]
  },
  {
   "cell_type": "markdown",
   "id": "cd5c9780",
   "metadata": {},
   "source": [
    "Assessment 2: Create python program using modules , collections, OS, date-time, math, and random operations also note the usecase of each modules"
   ]
  },
  {
   "cell_type": "code",
   "execution_count": 1,
   "id": "485ceef6",
   "metadata": {},
   "outputs": [
    {
     "name": "stdout",
     "output_type": "stream",
     "text": [
      "Mausam\n",
      "18\n",
      "67\n"
     ]
    }
   ],
   "source": [
    "#Importing Collection Module\n",
    "import collections\n",
    "\n",
    "student = collections.namedtuple('student', ['name', 'age', 'marks'])\n",
    "\n",
    "s1 = student(\"Mausam\", 18, 67)\n",
    "print(s1.name)\n",
    "print(s1.age)\n",
    "print(s1.marks)"
   ]
  },
  {
   "cell_type": "code",
   "execution_count": 2,
   "id": "14a039fb",
   "metadata": {},
   "outputs": [
    {
     "name": "stdout",
     "output_type": "stream",
     "text": [
      "C:\\Users\\Lenovo\\Desktop\\Mausam's Subba Python\n"
     ]
    }
   ],
   "source": [
    "#Importing OS Module\n",
    "import os\n",
    "print (os.getcwd())"
   ]
  },
  {
   "cell_type": "code",
   "execution_count": 13,
   "id": "6a6af501",
   "metadata": {},
   "outputs": [
    {
     "name": "stdout",
     "output_type": "stream",
     "text": [
      "2023-07-04 14:22:05.831505\n"
     ]
    }
   ],
   "source": [
    "#Importing Date-Time Module\n",
    "import datetime\n",
    "\n",
    "today = datetime.datetime.now()\n",
    "print(today)"
   ]
  },
  {
   "cell_type": "code",
   "execution_count": 6,
   "id": "f48c5131",
   "metadata": {},
   "outputs": [
    {
     "name": "stdout",
     "output_type": "stream",
     "text": [
      "5.0\n"
     ]
    }
   ],
   "source": [
    "#Importing Math Module\n",
    "import math\n",
    "\n",
    "print(math.sqrt(25))  "
   ]
  },
  {
   "cell_type": "code",
   "execution_count": 8,
   "id": "31bab84a",
   "metadata": {},
   "outputs": [
    {
     "name": "stdout",
     "output_type": "stream",
     "text": [
      "75\n"
     ]
    }
   ],
   "source": [
    "#Importing Random Module\n",
    "import random\n",
    "\n",
    "print(random.randint(1,100))"
   ]
  },
  {
   "cell_type": "markdown",
   "id": "7e04b55a",
   "metadata": {},
   "source": [
    "Assessment 3: Program to perform Linear Search."
   ]
  },
  {
   "cell_type": "code",
   "execution_count": 45,
   "id": "f59ced52",
   "metadata": {},
   "outputs": [
    {
     "name": "stdout",
     "output_type": "stream",
     "text": [
      "Enter Your Value:5\n",
      "5 is unavailabe!\n",
      "5 is unavailabe!\n",
      "5 is unavailabe!\n",
      "5 is unavailabe!\n",
      "5 is here!\n"
     ]
    }
   ],
   "source": [
    "num=int(input(\"Enter Your Value:\"))\n",
    "my_list=[1,2,3,4,5,6,7,8,9,10]\n",
    "i=0\n",
    "for i in range(len(my_list)):\n",
    "    if my_list[i]==num:\n",
    "        print(num, \"is here!\")\n",
    "        break\n",
    "    else:\n",
    "        print(num, \"is unavailabe!\")"
   ]
  },
  {
   "cell_type": "code",
   "execution_count": null,
   "id": "5601dc3f",
   "metadata": {},
   "outputs": [],
   "source": []
  },
  {
   "cell_type": "code",
   "execution_count": null,
   "id": "d42a2fe6",
   "metadata": {},
   "outputs": [],
   "source": []
  }
 ],
 "metadata": {
  "kernelspec": {
   "display_name": "Python 3 (ipykernel)",
   "language": "python",
   "name": "python3"
  },
  "language_info": {
   "codemirror_mode": {
    "name": "ipython",
    "version": 3
   },
   "file_extension": ".py",
   "mimetype": "text/x-python",
   "name": "python",
   "nbconvert_exporter": "python",
   "pygments_lexer": "ipython3",
   "version": "3.10.9"
  }
 },
 "nbformat": 4,
 "nbformat_minor": 5
}
