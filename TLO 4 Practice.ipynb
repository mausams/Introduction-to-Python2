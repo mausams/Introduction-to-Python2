{
 "cells": [
  {
   "cell_type": "markdown",
   "id": "458d9f44",
   "metadata": {},
   "source": [
    "Q1. Create a script that reads the entire content of a file named \"example.txt\" and prints the content."
   ]
  },
  {
   "cell_type": "code",
   "execution_count": 13,
   "id": "a64b1f8b",
   "metadata": {},
   "outputs": [
    {
     "name": "stdout",
     "output_type": "stream",
     "text": [
      ",mkk,\n"
     ]
    }
   ],
   "source": [
    "with open(\"example.txt\", \"r\") as file:\n",
    "    content = file.read()\n",
    "    print(content)\n"
   ]
  },
  {
   "cell_type": "markdown",
   "id": "29077e29",
   "metadata": {},
   "source": [
    "Q2.Create a script that reads the first line of a file named \"example.txt\" and prints it."
   ]
  },
  {
   "cell_type": "code",
   "execution_count": 14,
   "id": "173efde8",
   "metadata": {},
   "outputs": [
    {
     "name": "stdout",
     "output_type": "stream",
     "text": [
      ",mkk,\n"
     ]
    }
   ],
   "source": [
    "with open(\"example.txt\", \"r\") as file:\n",
    "    first_line = file.readline()\n",
    "    print(first_line)\n"
   ]
  },
  {
   "cell_type": "markdown",
   "id": "6efd751c",
   "metadata": {},
   "source": [
    "Q3. Create a script that creates a new file named \"empty.txt\" and writes the string \"This is an empty file.\" to it."
   ]
  },
  {
   "cell_type": "code",
   "execution_count": 17,
   "id": "2c48b597",
   "metadata": {},
   "outputs": [],
   "source": [
    "with open(\"empty.txt\", \"w\") as file:\n",
    "    file.write(\"This is an empty file.\")\n"
   ]
  },
  {
   "cell_type": "markdown",
   "id": "3ba5dd7b",
   "metadata": {},
   "source": [
    "Q4. Create a script that appends a new line with the text \"Appended line.\" to an existing file named \"append_example.txt\"."
   ]
  },
  {
   "cell_type": "code",
   "execution_count": 19,
   "id": "2fb49478",
   "metadata": {},
   "outputs": [],
   "source": [
    "with open(\"append_example.txt\", \"a\") as file:\n",
    "    file.write(\"\\nAppended line.\")\n",
    "    \n",
    "\n"
   ]
  },
  {
   "cell_type": "markdown",
   "id": "16ede478",
   "metadata": {},
   "source": [
    "Q5. Create a script that reads the content of a file named \"example.txt\" and prints the number of characters in the file."
   ]
  },
  {
   "cell_type": "code",
   "execution_count": 1,
   "id": "7b2fc894",
   "metadata": {},
   "outputs": [
    {
     "name": "stdout",
     "output_type": "stream",
     "text": [
      "5\n"
     ]
    }
   ],
   "source": [
    "with open(\"example.txt\", \"r\") as file:\n",
    "    content = file.read()\n",
    "    print(len(content))\n"
   ]
  },
  {
   "cell_type": "markdown",
   "id": "f4a559bc",
   "metadata": {},
   "source": [
    "Q6. Create a script that reads the content of a file named \"example.txt\" and prints the number of words in the file."
   ]
  },
  {
   "cell_type": "code",
   "execution_count": 2,
   "id": "03432756",
   "metadata": {},
   "outputs": [
    {
     "name": "stdout",
     "output_type": "stream",
     "text": [
      "1\n"
     ]
    }
   ],
   "source": [
    "with open(\"example.txt\", \"r\") as file:\n",
    "    content = file.read()\n",
    "    words = content.split()\n",
    "    print(len(words))\n"
   ]
  },
  {
   "cell_type": "markdown",
   "id": "a3b3e95d",
   "metadata": {},
   "source": [
    "Q7. Create a script that checks if the variable num is an even number between 10 and 20 (inclusive) and prints the result."
   ]
  },
  {
   "cell_type": "code",
   "execution_count": 3,
   "id": "d42a0d61",
   "metadata": {},
   "outputs": [
    {
     "name": "stdout",
     "output_type": "stream",
     "text": [
      "True\n"
     ]
    }
   ],
   "source": [
    "num = 14\n",
    "result = 10 <= num <= 20 and num % 2 == 0\n",
    "print(result)\n"
   ]
  },
  {
   "cell_type": "markdown",
   "id": "21444443",
   "metadata": {},
   "source": [
    "Q8. Create a script that checks if the length of the string text is between 5 and 10 characters (inclusive) and contains the letter \"a\". Print the result."
   ]
  },
  {
   "cell_type": "code",
   "execution_count": 4,
   "id": "a5f6acc8",
   "metadata": {},
   "outputs": [
    {
     "name": "stdout",
     "output_type": "stream",
     "text": [
      "True\n"
     ]
    }
   ],
   "source": [
    "text = \"banana\"\n",
    "result = 5 <= len(text) <= 10 and 'a' in text\n",
    "print(result)\n"
   ]
  },
  {
   "cell_type": "markdown",
   "id": "e8b12c94",
   "metadata": {},
   "source": [
    "Q9. Create a script that checks if the variable temperature is between 15 and 25 degrees Celsius (inclusive) or if the variable humidity is less than 30%. Print the result."
   ]
  },
  {
   "cell_type": "code",
   "execution_count": 5,
   "id": "b8fee283",
   "metadata": {},
   "outputs": [
    {
     "name": "stdout",
     "output_type": "stream",
     "text": [
      "True\n"
     ]
    }
   ],
   "source": [
    "temperature = 20\n",
    "humidity = 40\n",
    "result = 15 <= temperature <= 25 or humidity < 30\n",
    "print(result)\n"
   ]
  },
  {
   "cell_type": "markdown",
   "id": "f885866a",
   "metadata": {},
   "source": [
    "Q10. Create a script that checks if the variable x is not equal to the variable y and if the variable z is greater than both x and y. Print the result."
   ]
  },
  {
   "cell_type": "code",
   "execution_count": 6,
   "id": "73c9c397",
   "metadata": {},
   "outputs": [
    {
     "name": "stdout",
     "output_type": "stream",
     "text": [
      "True\n"
     ]
    }
   ],
   "source": [
    "x = 5\n",
    "y = 7\n",
    "z = 10\n",
    "result = x != y and z > x and z > y\n",
    "print(result)\n"
   ]
  },
  {
   "cell_type": "markdown",
   "id": "96c8c8b1",
   "metadata": {},
   "source": [
    "Q11. Create a script that checks if the variable a is equal to the variable b or if the variable c is equal to the variable d. Print the result."
   ]
  },
  {
   "cell_type": "code",
   "execution_count": 7,
   "id": "289620de",
   "metadata": {},
   "outputs": [
    {
     "name": "stdout",
     "output_type": "stream",
     "text": [
      "True\n"
     ]
    }
   ],
   "source": [
    "a = 3\n",
    "b = 3\n",
    "c = 6\n",
    "d = 7\n",
    "result = a == b or c == d\n",
    "print(result)\n"
   ]
  },
  {
   "cell_type": "markdown",
   "id": "908121ce",
   "metadata": {},
   "source": [
    "Q12. Create a script that checks if the variable num1 is an odd number and if the variable num2 is an even number. Print the result."
   ]
  },
  {
   "cell_type": "code",
   "execution_count": 10,
   "id": "fc3fde23",
   "metadata": {},
   "outputs": [
    {
     "name": "stdout",
     "output_type": "stream",
     "text": [
      "True\n"
     ]
    }
   ],
   "source": [
    "num1 = 9\n",
    "num2 = 8\n",
    "result = num1 % 2 != 0 and num2 % 2 == 0\n",
    "print(result)\n"
   ]
  },
  {
   "cell_type": "markdown",
   "id": "8ddbb37d",
   "metadata": {},
   "source": [
    "Q13. Create a script that checks if the variable age is between 13 and 19 (inclusive) or if the variable grade is between 7 and 12 (inclusive). Print the result."
   ]
  },
  {
   "cell_type": "code",
   "execution_count": 11,
   "id": "e7bc0f94",
   "metadata": {},
   "outputs": [
    {
     "name": "stdout",
     "output_type": "stream",
     "text": [
      "True\n"
     ]
    }
   ],
   "source": [
    "age = 15\n",
    "grade = 8\n",
    "result = 13 <= age <= 19 or 7 <= grade <= 12\n",
    "print(result)\n"
   ]
  },
  {
   "cell_type": "markdown",
   "id": "9f1301a8",
   "metadata": {},
   "source": [
    "Q14.Create a script that checks if the variable score is not between 30 and 60 (inclusive). Print the result."
   ]
  },
  {
   "cell_type": "code",
   "execution_count": 12,
   "id": "4c531fdf",
   "metadata": {},
   "outputs": [
    {
     "name": "stdout",
     "output_type": "stream",
     "text": [
      "True\n"
     ]
    }
   ],
   "source": [
    "score = 25\n",
    "result = not (30 <= score <= 60)\n",
    "print(result)\n"
   ]
  },
  {
   "cell_type": "code",
   "execution_count": null,
   "id": "8b845f38",
   "metadata": {},
   "outputs": [],
   "source": []
  }
 ],
 "metadata": {
  "kernelspec": {
   "display_name": "Python 3 (ipykernel)",
   "language": "python",
   "name": "python3"
  },
  "language_info": {
   "codemirror_mode": {
    "name": "ipython",
    "version": 3
   },
   "file_extension": ".py",
   "mimetype": "text/x-python",
   "name": "python",
   "nbconvert_exporter": "python",
   "pygments_lexer": "ipython3",
   "version": "3.9.12"
  }
 },
 "nbformat": 4,
 "nbformat_minor": 5
}
