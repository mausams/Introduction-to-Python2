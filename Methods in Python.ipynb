{
 "cells": [
  {
   "cell_type": "code",
   "execution_count": 9,
   "id": "fc5f6aa3",
   "metadata": {},
   "outputs": [],
   "source": [
    "#Methods in Python\n"
   ]
  },
  {
   "cell_type": "code",
   "execution_count": 5,
   "id": "d2aaed12",
   "metadata": {},
   "outputs": [],
   "source": [
    "mylist=[1,2,3,]\n",
    "mylist.append(4)\n"
   ]
  },
  {
   "cell_type": "code",
   "execution_count": 6,
   "id": "61696aee",
   "metadata": {},
   "outputs": [
    {
     "data": {
      "text/plain": [
       "[1, 2, 3, 4]"
      ]
     },
     "execution_count": 6,
     "metadata": {},
     "output_type": "execute_result"
    }
   ],
   "source": [
    "mylist"
   ]
  },
  {
   "cell_type": "code",
   "execution_count": 7,
   "id": "0d8b5980",
   "metadata": {},
   "outputs": [
    {
     "data": {
      "text/plain": [
       "4"
      ]
     },
     "execution_count": 7,
     "metadata": {},
     "output_type": "execute_result"
    }
   ],
   "source": [
    "mylist.pop()"
   ]
  },
  {
   "cell_type": "code",
   "execution_count": 8,
   "id": "3cfecef6",
   "metadata": {},
   "outputs": [
    {
     "data": {
      "text/plain": [
       "[1, 2, 3]"
      ]
     },
     "execution_count": 8,
     "metadata": {},
     "output_type": "execute_result"
    }
   ],
   "source": [
    "mylist"
   ]
  },
  {
   "cell_type": "code",
   "execution_count": null,
   "id": "cdd17984",
   "metadata": {},
   "outputs": [],
   "source": [
    "help(mylist.insert)"
   ]
  },
  {
   "cell_type": "code",
   "execution_count": 1,
   "id": "8998d610",
   "metadata": {},
   "outputs": [],
   "source": [
    "#Def Keyword"
   ]
  },
  {
   "cell_type": "code",
   "execution_count": 3,
   "id": "57b28926",
   "metadata": {},
   "outputs": [],
   "source": [
    "def name_of_function():\n",
    "    '''\n",
    "    docs strings explains functions\n",
    "    '''\n",
    "    print('Hello Bca')\n"
   ]
  },
  {
   "cell_type": "code",
   "execution_count": 5,
   "id": "70199d49",
   "metadata": {},
   "outputs": [
    {
     "name": "stdout",
     "output_type": "stream",
     "text": [
      "Hello Bca\n"
     ]
    }
   ],
   "source": [
    "name_of_function()"
   ]
  },
  {
   "cell_type": "code",
   "execution_count": 6,
   "id": "cd265498",
   "metadata": {},
   "outputs": [],
   "source": [
    "def arg_name (name):\n",
    "    print(f'hello my name is [name]')"
   ]
  },
  {
   "cell_type": "code",
   "execution_count": 10,
   "id": "8449a3dd",
   "metadata": {},
   "outputs": [
    {
     "name": "stdout",
     "output_type": "stream",
     "text": [
      "hello my name is [name]\n"
     ]
    }
   ],
   "source": [
    "arg_name ('Mausam')"
   ]
  },
  {
   "cell_type": "code",
   "execution_count": 12,
   "id": "363aa843",
   "metadata": {},
   "outputs": [],
   "source": [
    "def add_function(num1,num2):\n",
    "    return num1+num2"
   ]
  },
  {
   "cell_type": "code",
   "execution_count": 13,
   "id": "dbb086fe",
   "metadata": {},
   "outputs": [
    {
     "data": {
      "text/plain": [
       "50"
      ]
     },
     "execution_count": 13,
     "metadata": {},
     "output_type": "execute_result"
    }
   ],
   "source": [
    "add_function(30,20\n",
    "            )"
   ]
  },
  {
   "cell_type": "code",
   "execution_count": 15,
   "id": "6c0ba9ed",
   "metadata": {},
   "outputs": [],
   "source": [
    "def say_hello():\n",
    "    print('hello')"
   ]
  },
  {
   "cell_type": "code",
   "execution_count": 17,
   "id": "b1dfabed",
   "metadata": {},
   "outputs": [
    {
     "name": "stdout",
     "output_type": "stream",
     "text": [
      "hello\n"
     ]
    }
   ],
   "source": [
    "say_hello()"
   ]
  },
  {
   "cell_type": "code",
   "execution_count": 18,
   "id": "a1d68b1e",
   "metadata": {},
   "outputs": [],
   "source": [
    "def say_hello():\n",
    "    print('how')\n",
    "    print('are')\n",
    "    print('you')\n",
    "    "
   ]
  },
  {
   "cell_type": "code",
   "execution_count": 19,
   "id": "fdbb1ef4",
   "metadata": {},
   "outputs": [
    {
     "name": "stdout",
     "output_type": "stream",
     "text": [
      "how\n",
      "are\n",
      "you\n"
     ]
    }
   ],
   "source": [
    "say_hello()\n"
   ]
  },
  {
   "cell_type": "code",
   "execution_count": 21,
   "id": "b33cbd55",
   "metadata": {},
   "outputs": [],
   "source": [
    "def said_hello (name = 'men of steel'):\n",
    "    print(f'hello world{name}')\n"
   ]
  },
  {
   "cell_type": "code",
   "execution_count": 22,
   "id": "10546322",
   "metadata": {},
   "outputs": [
    {
     "name": "stdout",
     "output_type": "stream",
     "text": [
      "hello worldmen of steel\n"
     ]
    }
   ],
   "source": [
    "said_hello()"
   ]
  },
  {
   "cell_type": "code",
   "execution_count": 23,
   "id": "8594ade0",
   "metadata": {},
   "outputs": [],
   "source": [
    "def add_number(num1,num2):\n",
    "    return num1+num2"
   ]
  },
  {
   "cell_type": "code",
   "execution_count": 27,
   "id": "d4639992",
   "metadata": {},
   "outputs": [
    {
     "data": {
      "text/plain": [
       "'hye 234fie 000'"
      ]
     },
     "execution_count": 27,
     "metadata": {},
     "output_type": "execute_result"
    }
   ],
   "source": [
    "add_number('hye 234','fie 000')"
   ]
  },
  {
   "cell_type": "code",
   "execution_count": null,
   "id": "d5c2c4c2",
   "metadata": {},
   "outputs": [],
   "source": []
  }
 ],
 "metadata": {
  "kernelspec": {
   "display_name": "Python 3 (ipykernel)",
   "language": "python",
   "name": "python3"
  },
  "language_info": {
   "codemirror_mode": {
    "name": "ipython",
    "version": 3
   },
   "file_extension": ".py",
   "mimetype": "text/x-python",
   "name": "python",
   "nbconvert_exporter": "python",
   "pygments_lexer": "ipython3",
   "version": "3.9.12"
  }
 },
 "nbformat": 4,
 "nbformat_minor": 5
}
