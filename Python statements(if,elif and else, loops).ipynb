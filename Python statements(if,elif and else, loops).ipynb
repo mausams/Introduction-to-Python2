{
 "cells": [
  {
   "cell_type": "code",
   "execution_count": 1,
   "id": "f056ab13",
   "metadata": {},
   "outputs": [],
   "source": [
    "#if, elif, and else"
   ]
  },
  {
   "cell_type": "code",
   "execution_count": 2,
   "id": "3b9f5096",
   "metadata": {},
   "outputs": [],
   "source": [
    "#if some_condition:\n",
    "   #do_something\n",
    "#else:\n",
    "   #do_something else"
   ]
  },
  {
   "cell_type": "code",
   "execution_count": 3,
   "id": "8f423e8b",
   "metadata": {},
   "outputs": [
    {
     "name": "stdout",
     "output_type": "stream",
     "text": [
      "Its True\n"
     ]
    }
   ],
   "source": [
    "if True:\n",
    "    print(\"Its True\")"
   ]
  },
  {
   "cell_type": "code",
   "execution_count": 4,
   "id": "f32c8f95",
   "metadata": {},
   "outputs": [],
   "source": [
    "if 3<2:\n",
    "    print(\"Its True\")"
   ]
  },
  {
   "cell_type": "code",
   "execution_count": 5,
   "id": "b19800dd",
   "metadata": {},
   "outputs": [
    {
     "name": "stdout",
     "output_type": "stream",
     "text": [
      "Im not hungry\n"
     ]
    }
   ],
   "source": [
    "hungry =False\n",
    "if hungry:\n",
    "    print('FEED ME!')\n",
    "else:\n",
    "    print('Im not hungry')"
   ]
  },
  {
   "cell_type": "code",
   "execution_count": 6,
   "id": "eff87388",
   "metadata": {},
   "outputs": [
    {
     "name": "stdout",
     "output_type": "stream",
     "text": [
      "I do not know much!\n"
     ]
    }
   ],
   "source": [
    "loc ='abcd'\n",
    "if loc =='Auto Shop':\n",
    "    print('Cars are cool')\n",
    "elif loc =='Bank':\n",
    "    print('Money is cool')\n",
    "elif loc=='store':\n",
    "    print('Welcome to the store')\n",
    "else:\n",
    "    print('I do not know much!')"
   ]
  },
  {
   "cell_type": "code",
   "execution_count": 7,
   "id": "2dc5a7be",
   "metadata": {},
   "outputs": [
    {
     "name": "stdout",
     "output_type": "stream",
     "text": [
      "Practice prog everyday\n"
     ]
    }
   ],
   "source": [
    "name ='Lakpa'\n",
    "if name =='Lakpa':\n",
    "    print('Practice prog everyday')\n",
    "elif name =='Pavas':\n",
    "    print('concentrete more')\n",
    "elif name=='superman':\n",
    "    print('He can fly')\n",
    "else:\n",
    "    print('We have nothing to say')"
   ]
  },
  {
   "cell_type": "code",
   "execution_count": 8,
   "id": "f54fd273",
   "metadata": {},
   "outputs": [],
   "source": [
    "#For loops"
   ]
  },
  {
   "cell_type": "code",
   "execution_count": 9,
   "id": "1c341c2c",
   "metadata": {},
   "outputs": [
    {
     "name": "stdout",
     "output_type": "stream",
     "text": [
      "1\n",
      "2\n",
      "3\n"
     ]
    }
   ],
   "source": [
    "#Syntax of a far loop\n",
    "my_iterable = [1,2,3]\n",
    "for item in my_iterable:\n",
    "     print(item)"
   ]
  },
  {
   "cell_type": "code",
   "execution_count": 10,
   "id": "650e9f40",
   "metadata": {},
   "outputs": [
    {
     "name": "stdout",
     "output_type": "stream",
     "text": [
      "I am Handsome\n",
      "I am Handsome\n",
      "I am Handsome\n",
      "I am Handsome\n",
      "I am Handsome\n",
      "I am Handsome\n",
      "I am Handsome\n",
      "I am Handsome\n",
      "I am Handsome\n",
      "I am Handsome\n"
     ]
    }
   ],
   "source": [
    "mylist=[1,2,3,4,5,6,7,8,9,10]\n",
    "for num in mylist:\n",
    "    print('I am Handsome')"
   ]
  },
  {
   "cell_type": "code",
   "execution_count": 11,
   "id": "106fab4a",
   "metadata": {},
   "outputs": [
    {
     "name": "stdout",
     "output_type": "stream",
     "text": [
      "Odd number:1\n",
      "2\n",
      "Odd number:3\n",
      "4\n",
      "Odd number:5\n",
      "6\n",
      "Odd number:7\n",
      "8\n",
      "Odd number:9\n",
      "10\n"
     ]
    }
   ],
   "source": [
    "mylist=[1,2,3,4,5,6,7,8,9,10]\n",
    "for num in mylist:\n",
    "    if num%2==0:\n",
    "        print(num)\n",
    "    else:\n",
    "        print(f'Odd number:{num}')"
   ]
  },
  {
   "cell_type": "code",
   "execution_count": 12,
   "id": "749e1256",
   "metadata": {},
   "outputs": [
    {
     "name": "stdout",
     "output_type": "stream",
     "text": [
      "1\n",
      "3\n",
      "6\n",
      "10\n",
      "15\n",
      "21\n",
      "28\n",
      "36\n",
      "45\n",
      "55\n"
     ]
    }
   ],
   "source": [
    "mylist=[1,2,3,4,5,6,7,8,9,10]\n",
    "list_sum=0\n",
    "for num in mylist:\n",
    "    list_sum = list_sum+num\n",
    "    print(list_sum)"
   ]
  },
  {
   "cell_type": "code",
   "execution_count": 13,
   "id": "50e3d794",
   "metadata": {},
   "outputs": [
    {
     "name": "stdout",
     "output_type": "stream",
     "text": [
      "H\n",
      "e\n",
      "l\n",
      "l\n",
      "o\n",
      " \n",
      "W\n",
      "o\n",
      "r\n",
      "l\n",
      "d\n"
     ]
    }
   ],
   "source": [
    "mystring='Hello World'\n",
    "for letter in mystring:\n",
    "    print(letter)"
   ]
  },
  {
   "cell_type": "code",
   "execution_count": 14,
   "id": "97800e49",
   "metadata": {},
   "outputs": [
    {
     "name": "stdout",
     "output_type": "stream",
     "text": [
      "Happy\n",
      "Happy\n",
      "Happy\n",
      "Happy\n",
      "Happy\n",
      "Happy\n",
      "Happy\n"
     ]
    }
   ],
   "source": [
    "for item in 'Medhavi':\n",
    "    print('Happy')"
   ]
  },
  {
   "cell_type": "code",
   "execution_count": 15,
   "id": "728f4947",
   "metadata": {},
   "outputs": [
    {
     "name": "stdout",
     "output_type": "stream",
     "text": [
      "1\n",
      "2\n",
      "3\n"
     ]
    }
   ],
   "source": [
    "tup=(1,2,3)\n",
    "for item in tup:\n",
    "    print(item)"
   ]
  },
  {
   "cell_type": "code",
   "execution_count": 16,
   "id": "6b966b85",
   "metadata": {},
   "outputs": [
    {
     "name": "stdout",
     "output_type": "stream",
     "text": [
      "(1, 2)\n",
      "(3, 4)\n",
      "(5, 6)\n",
      "(7, 9)\n",
      "(10, 11)\n"
     ]
    }
   ],
   "source": [
    "mylist=[(1,2),(3,4),(5,6),(7,9),(10,11)]\n",
    "for item in mylist:\n",
    "    print(item)"
   ]
  },
  {
   "cell_type": "code",
   "execution_count": 17,
   "id": "8be02dd3",
   "metadata": {
    "scrolled": true
   },
   "outputs": [
    {
     "name": "stdout",
     "output_type": "stream",
     "text": [
      "1\n",
      "2\n",
      "3\n",
      "4\n",
      "5\n",
      "6\n",
      "7\n",
      "9\n",
      "10\n",
      "11\n"
     ]
    }
   ],
   "source": [
    "mylist=[(1,2),(3,4),(5,6),(7,9),(10,11)]\n",
    "for (a,b) in mylist:\n",
    "    print(a)\n",
    "    print(b)"
   ]
  },
  {
   "cell_type": "code",
   "execution_count": 18,
   "id": "ece6267c",
   "metadata": {},
   "outputs": [
    {
     "name": "stdout",
     "output_type": "stream",
     "text": [
      "2\n",
      "1\n",
      "4\n",
      "3\n",
      "6\n",
      "5\n",
      "9\n",
      "7\n",
      "11\n",
      "10\n"
     ]
    }
   ],
   "source": [
    "mylist=[(1,2),(3,4),(5,6),(7,9),(10,11)]\n",
    "for b,a in mylist:\n",
    "    print(a)\n",
    "    print(b)"
   ]
  },
  {
   "cell_type": "code",
   "execution_count": 19,
   "id": "d65ec3e3",
   "metadata": {},
   "outputs": [
    {
     "name": "stdout",
     "output_type": "stream",
     "text": [
      "2\n",
      "4\n",
      "6\n",
      "9\n",
      "11\n"
     ]
    }
   ],
   "source": [
    "mylist=[(1,2),(3,4),(5,6),(7,9),(10,11)]\n",
    "for b,a in mylist:\n",
    "    print(a)\n",
    "    #print(b)"
   ]
  },
  {
   "cell_type": "code",
   "execution_count": 20,
   "id": "7e1cbd47",
   "metadata": {},
   "outputs": [
    {
     "name": "stdout",
     "output_type": "stream",
     "text": [
      "1\n",
      "2\n",
      "4\n",
      "6\n",
      "7\n",
      "9\n",
      "10\n",
      "11\n",
      "13\n"
     ]
    }
   ],
   "source": [
    "mylist=[(1,2,4),(6,7,9),(10,11,13)]\n",
    "for fv1, fv2, fv3 in mylist:\n",
    "    print(fv1)\n",
    "    print(fv2)\n",
    "    print(fv3)"
   ]
  },
  {
   "cell_type": "code",
   "execution_count": 21,
   "id": "f6bc66ef",
   "metadata": {},
   "outputs": [
    {
     "name": "stdout",
     "output_type": "stream",
     "text": [
      "k1\n",
      "k2\n",
      "k3\n"
     ]
    }
   ],
   "source": [
    "d = {'k1':1, 'k2':2, 'k3':3}\n",
    "for item in d.keys():\n",
    "    print(item)"
   ]
  },
  {
   "cell_type": "code",
   "execution_count": 22,
   "id": "28987d70",
   "metadata": {},
   "outputs": [
    {
     "name": "stdout",
     "output_type": "stream",
     "text": [
      "1\n",
      "2\n",
      "3\n"
     ]
    }
   ],
   "source": [
    "d= {'k1':1,'k2':2,'k3':3,}\n",
    "for item in d.values():\n",
    "    print(item)"
   ]
  },
  {
   "cell_type": "code",
   "execution_count": 23,
   "id": "3fbd175e",
   "metadata": {},
   "outputs": [
    {
     "name": "stdout",
     "output_type": "stream",
     "text": [
      "3\n",
      "3\n",
      "3\n"
     ]
    }
   ],
   "source": [
    "d= {'k1':1,'k2':2,'k3':3,}\n",
    "for key,value in d:\n",
    "    print(item)"
   ]
  },
  {
   "cell_type": "code",
   "execution_count": 24,
   "id": "02ce1219",
   "metadata": {},
   "outputs": [
    {
     "name": "stdout",
     "output_type": "stream",
     "text": [
      "3\n",
      "3\n",
      "3\n"
     ]
    }
   ],
   "source": [
    "d = {'k1':1,'k2':2,'k3':3}\n",
    "for values in d.values():\n",
    "    print(item)"
   ]
  },
  {
   "cell_type": "code",
   "execution_count": 25,
   "id": "24e3a2f6",
   "metadata": {},
   "outputs": [],
   "source": [
    "#While Loops in Python"
   ]
  },
  {
   "cell_type": "code",
   "execution_count": 26,
   "id": "fb9689f1",
   "metadata": {},
   "outputs": [],
   "source": [
    "#While bollean_condition:\n",
    "  #do Something\n",
    "#elase:\n",
    "  #do something else"
   ]
  },
  {
   "cell_type": "code",
   "execution_count": 27,
   "id": "0a3db894",
   "metadata": {},
   "outputs": [
    {
     "name": "stdout",
     "output_type": "stream",
     "text": [
      "The current value of x is 0\n",
      "The current value of x is 1\n",
      "The current value of x is 2\n",
      "The current value of x is 3\n",
      "The current value of x is 4\n",
      " x is not less than 5\n"
     ]
    }
   ],
   "source": [
    "x =0\n",
    "while x<5:\n",
    "    print(f'The current value of x is {x}')\n",
    "    #x = x +1\n",
    "    x+= 1\n",
    "else:\n",
    "    print(' x is not less than 5')"
   ]
  },
  {
   "cell_type": "code",
   "execution_count": 28,
   "id": "810f09a5",
   "metadata": {},
   "outputs": [],
   "source": [
    "#Break, Continue, Pass"
   ]
  },
  {
   "cell_type": "code",
   "execution_count": 29,
   "id": "25881a51",
   "metadata": {},
   "outputs": [],
   "source": [
    "#Break: Breaks out of the closest enclosing loop\n",
    "#Continue: Goes to the top of the closests enclosing loop\n",
    "#Pass: does nothing at all"
   ]
  },
  {
   "cell_type": "code",
   "execution_count": 30,
   "id": "22ccf1fa",
   "metadata": {},
   "outputs": [
    {
     "name": "stdout",
     "output_type": "stream",
     "text": [
      "The end of my script\n"
     ]
    }
   ],
   "source": [
    "x = [1,2,3]\n",
    "for item in x:\n",
    "    #hgjg\n",
    "    pass\n",
    "print('The end of my script')"
   ]
  },
  {
   "cell_type": "code",
   "execution_count": 31,
   "id": "0fb50264",
   "metadata": {},
   "outputs": [
    {
     "name": "stdout",
     "output_type": "stream",
     "text": [
      "D\n",
      "n\n",
      "n\n",
      "y\n"
     ]
    }
   ],
   "source": [
    "mystring='Danny'\n",
    "for letter in mystring:\n",
    "    if letter =='a':\n",
    "        continue\n",
    "    print(letter)"
   ]
  },
  {
   "cell_type": "code",
   "execution_count": 32,
   "id": "dd2abc67",
   "metadata": {
    "scrolled": false
   },
   "outputs": [
    {
     "name": "stdout",
     "output_type": "stream",
     "text": [
      "A\n",
      "p\n",
      "r\n"
     ]
    }
   ],
   "source": [
    "mystring ='April'\n",
    "for letter in mystring:\n",
    "    if letter =='i':\n",
    "        break\n",
    "    print(letter)"
   ]
  },
  {
   "cell_type": "code",
   "execution_count": null,
   "id": "0785f269",
   "metadata": {},
   "outputs": [],
   "source": []
  }
 ],
 "metadata": {
  "kernelspec": {
   "display_name": "Python 3 (ipykernel)",
   "language": "python",
   "name": "python3"
  },
  "language_info": {
   "codemirror_mode": {
    "name": "ipython",
    "version": 3
   },
   "file_extension": ".py",
   "mimetype": "text/x-python",
   "name": "python",
   "nbconvert_exporter": "python",
   "pygments_lexer": "ipython3",
   "version": "3.10.9"
  }
 },
 "nbformat": 4,
 "nbformat_minor": 5
}
