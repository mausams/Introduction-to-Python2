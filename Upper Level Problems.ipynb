{
 "cells": [
  {
   "cell_type": "markdown",
   "id": "14285df9",
   "metadata": {},
   "source": [
    "# Linear Search Practice\n"
   ]
  },
  {
   "cell_type": "code",
   "execution_count": 18,
   "id": "c08b2710",
   "metadata": {},
   "outputs": [
    {
     "name": "stdout",
     "output_type": "stream",
     "text": [
      "Enter your target: 5\n"
     ]
    }
   ],
   "source": [
    "#Practice\n",
    "def linear_search(arry,num):\n",
    "    i = 0\n",
    "    for i in range(len(arry)):\n",
    "        if arry [i]==num:\n",
    "            print(num, 'is found here!')\n",
    "            break\n",
    "        else:\n",
    "            print(num, 'is not here!')\n",
    "arry = [1,2,3,4,5,6,7,8,9]\n",
    "num = int(input('Enter your target: '))"
   ]
  },
  {
   "cell_type": "code",
   "execution_count": 19,
   "id": "bc04b1a3",
   "metadata": {},
   "outputs": [
    {
     "name": "stdout",
     "output_type": "stream",
     "text": [
      "5 is not here!\n",
      "5 is not here!\n",
      "5 is not here!\n",
      "5 is not here!\n",
      "5 is found here!\n"
     ]
    }
   ],
   "source": [
    "linear_search(arry, num)"
   ]
  },
  {
   "cell_type": "markdown",
   "id": "170ed364",
   "metadata": {},
   "source": [
    "# Algorithm\n",
    "\n"
   ]
  },
  {
   "attachments": {},
   "cell_type": "markdown",
   "id": "46ffe82f",
   "metadata": {},
   "source": [
    "Linear search is a simple search algorithm that checks every element in the list sequentially until it finds the target value.\n",
    "1. Assigning a function called linear_search and implementing parameters arry and num.\n",
    "2. Implementing for loop, as for i in range(len(arry)).\n",
    "3. Using if function inside the loop. If arry's [i] is equal to num or target the it is printing as string \"num is found here!\" and breaking or stopping there.\n",
    "4. Otherwise in else it is going to print \"num is not here!\".\n",
    "5. And after assigning arry= \"[1,2,3,4,5,6,7,8,9]\" and keeping num in input format.\n",
    "6. At last when I call the function as linear_search(arry, num) its giving the output as given above."
   ]
  },
  {
   "cell_type": "markdown",
   "id": "ccb1034f",
   "metadata": {},
   "source": [
    "# Binary Search\n"
   ]
  },
  {
   "cell_type": "code",
   "execution_count": 10,
   "id": "833122f4",
   "metadata": {
    "scrolled": true
   },
   "outputs": [
    {
     "name": "stdout",
     "output_type": "stream",
     "text": [
      "Enter your target: 7\n",
      "Target is inside the array in 6 line:\n"
     ]
    }
   ],
   "source": [
    "#Practice \n",
    "def binary_search(arr,low, high, target):\n",
    "    if high >= low:\n",
    "        mid = (high+low)//2\n",
    "        if arr [mid]==target:\n",
    "            return mid\n",
    "        elif arr[mid]> target:\n",
    "            return binary_search(arr, low, mid - 1, target)\n",
    "        else:\n",
    "            return binary_search(arr,  mid + 1, high, target)\n",
    "    else:\n",
    "        return -1   \n",
    "arr = [1,2,3,4,5,6,7,8,9]\n",
    "target = int(input('Enter your target: '))\n",
    "output = binary_search(arr, 0, len(arr)-1, target)\n",
    "if output != -1:\n",
    "    print( 'Target is inside the array in', output, 'line:')\n",
    "else: \n",
    "    print('Unavailabe inside the array: ')"
   ]
  },
  {
   "cell_type": "markdown",
   "id": "a28e7e99",
   "metadata": {},
   "source": [
    "# Algorithm"
   ]
  },
  {
   "cell_type": "markdown",
   "id": "e0e2fe29",
   "metadata": {},
   "source": [
    "Binary search is an efficient algorithm that finds the position of a target value within a sorted array. It compares the target value to the middle element of the array and eliminates half of the array in each step.\n",
    "1. I created a function called binary_search with implementing parameters arr, low, high and target.\n",
    "2. Applying If function  where, if high is greater than low, then output of mid should be the addition of high and low which is devided by 2.Else it will return -1. \n",
    "3. Again using if function inside previous if function. if mid of arr is equals to target, it will return mid. Elif mid of arr greater then target, it will return the function binary_search(arr, low, mid - 1, target). Else it will return only binary_search(arr,  mid + 1, high, target).\n",
    "4. Assigning arr as [1,2,3,4,5,6,7,8,9], target as input and output as binary_search(arr, 0, len(arr)-1, target).\n",
    "5. At the last again implementing if function with, if output is not equals to -1, then it will print ( 'Target is inside the array in', output, 'line:'). Else it is going to print ('Unavailabe inside the array: ').\n"
   ]
  },
  {
   "cell_type": "markdown",
   "id": "f448d3fd",
   "metadata": {},
   "source": [
    "# Merge sort "
   ]
  },
  {
   "cell_type": "code",
   "execution_count": 6,
   "id": "b1a888c5",
   "metadata": {},
   "outputs": [
    {
     "name": "stdout",
     "output_type": "stream",
     "text": [
      "Given array is: \n",
      "90 78 54 33 9 12 67 \n",
      "Sorted array is: \n",
      "9 12 33 54 67 78 90 \n"
     ]
    }
   ],
   "source": [
    "#Practice\n",
    "def mergeSort(arr):\n",
    "    if len(arr) > 1:\n",
    "        mid = len(arr)//2\n",
    "        Left = arr[:mid]\n",
    "        Right = arr[mid:]\n",
    "        mergeSort(Left)\n",
    "        mergeSort(Right)\n",
    "        i = j = k = 0\n",
    "        while i < len(Left) and j < len(Right):\n",
    "            if Left[i] <= Right[j]:\n",
    "                arr[k] = Left[i]\n",
    "                i += 1\n",
    "            else:\n",
    "                arr[k] = Right[j]\n",
    "                j += 1\n",
    "            k += 1\n",
    "        while i < len(Left):\n",
    "            arr[k] = Left[i]\n",
    "            i += 1\n",
    "            k += 1\n",
    "        while j < len(Right):\n",
    "            arr[k] = Right[j]\n",
    "            j += 1\n",
    "            k += 1\n",
    "def printList(arr):\n",
    "    for i in range(len(arr)):\n",
    "        print(arr[i], end=\" \")\n",
    "    print()\n",
    "if __name__ == '__main__':\n",
    "    arr = [90, 78, 54, 33, 9, 12, 67]\n",
    "    print(\"Given array is: \")\n",
    "    printList(arr)\n",
    "    mergeSort(arr)\n",
    "    print(\"Sorted array is: \")\n",
    "    printList(arr)"
   ]
  },
  {
   "cell_type": "markdown",
   "id": "475da9a9",
   "metadata": {},
   "source": [
    "# Quick Sort"
   ]
  },
  {
   "cell_type": "code",
   "execution_count": 11,
   "id": "54c1fa68",
   "metadata": {},
   "outputs": [
    {
     "name": "stdout",
     "output_type": "stream",
     "text": [
      "Sorted array:\n",
      "1 5 7 8 9 10 "
     ]
    }
   ],
   "source": [
    "def partition(array, low, high):\n",
    "    pivot = array[high]\n",
    "    i = low - 1\n",
    "    for j in range(low, high):\n",
    "        if array[j] <= pivot:\n",
    "            i = i + 1\n",
    "            (array[i], array[j]) = (array[j], array[i])\n",
    "    (array[i + 1], array[high]) = (array[high], array[i + 1])\n",
    "    return i + 1\n",
    "def quicksort(array, low, high):\n",
    "    if low < high:\n",
    "        pi = partition(array, low, high)\n",
    "        quicksort(array, low, pi - 1)\n",
    "        quicksort(array, pi + 1, high)\n",
    "if __name__ == '__main__':\n",
    "    array = [10, 7, 8, 9, 1, 5]\n",
    "    N = len(array)\n",
    "    quicksort(array, 0, N - 1)\n",
    "    print('Sorted array:')\n",
    "    for x in array:\n",
    "        print(x, end=\" \")"
   ]
  },
  {
   "cell_type": "code",
   "execution_count": null,
   "id": "bca6a977",
   "metadata": {},
   "outputs": [],
   "source": []
  }
 ],
 "metadata": {
  "kernelspec": {
   "display_name": "Python 3 (ipykernel)",
   "language": "python",
   "name": "python3"
  },
  "language_info": {
   "codemirror_mode": {
    "name": "ipython",
    "version": 3
   },
   "file_extension": ".py",
   "mimetype": "text/x-python",
   "name": "python",
   "nbconvert_exporter": "python",
   "pygments_lexer": "ipython3",
   "version": "3.10.9"
  }
 },
 "nbformat": 4,
 "nbformat_minor": 5
}
