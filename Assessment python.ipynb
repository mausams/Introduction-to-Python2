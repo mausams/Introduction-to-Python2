{
 "cells": [
  {
   "cell_type": "markdown",
   "id": "ad6cc324",
   "metadata": {},
   "source": [
    "Question 1: File Reading and Writing - 5 Marks\n",
    "\n",
    "Your task is to create a Python program that reads a text file and writes its content to a new file but in reverse order."
   ]
  },
  {
   "cell_type": "code",
   "execution_count": 7,
   "id": "2d86d240",
   "metadata": {},
   "outputs": [
    {
     "name": "stdout",
     "output_type": "stream",
     "text": [
      "Enter File Name: Hello World it's a beautiful day!.txt\n",
      "!doom hserf dna ygrene wen htiW\n",
      "!yad lufituaeb a s'ti dlroW olleH\n"
     ]
    }
   ],
   "source": [
    "fileName = input((\"Enter File Name: \"))\n",
    "\n",
    "file = open(fileName, \"r\")\n",
    "fileContent = \"\"\n",
    "for content in file:\n",
    "    fileContent = fileContent+content\n",
    "\n",
    "fileContent = fileContent[::-1]\n",
    "print(fileContent)"
   ]
  },
  {
   "cell_type": "markdown",
   "id": "21b132f6",
   "metadata": {},
   "source": [
    "Question 2: Object-Oriented Programming - 5 Marks\n",
    "\n",
    "Write a Python program using Object-Oriented Programming principles."
   ]
  },
  {
   "cell_type": "code",
   "execution_count": 5,
   "id": "5c0e24f5",
   "metadata": {},
   "outputs": [
    {
     "name": "stdout",
     "output_type": "stream",
     "text": [
      "Enter the value:4\n"
     ]
    }
   ],
   "source": [
    "class Circle:\n",
    "    def __init__(self,radius = int(input(\"Enter the value:\")),pi = 3.14):\n",
    "        self.radius = radius\n",
    "        self.pi = pi\n",
    "    def circle_area(self):\n",
    "        return self.pi * self.radius * self.radius\n",
    "    def circumference(self):\n",
    "        return self.pi + self.pi* self.radius"
   ]
  },
  {
   "cell_type": "code",
   "execution_count": 6,
   "id": "646870df",
   "metadata": {},
   "outputs": [],
   "source": [
    "c = Circle()"
   ]
  },
  {
   "cell_type": "code",
   "execution_count": 7,
   "id": "ce64ca24",
   "metadata": {},
   "outputs": [
    {
     "data": {
      "text/plain": [
       "50.24"
      ]
     },
     "execution_count": 7,
     "metadata": {},
     "output_type": "execute_result"
    }
   ],
   "source": [
    "c.circle_area()"
   ]
  },
  {
   "cell_type": "code",
   "execution_count": 8,
   "id": "c35345ef",
   "metadata": {},
   "outputs": [
    {
     "data": {
      "text/plain": [
       "15.700000000000001"
      ]
     },
     "execution_count": 8,
     "metadata": {},
     "output_type": "execute_result"
    }
   ],
   "source": [
    "c.circumference()"
   ]
  },
  {
   "cell_type": "code",
   "execution_count": null,
   "id": "650f7c77",
   "metadata": {},
   "outputs": [],
   "source": []
  },
  {
   "cell_type": "code",
   "execution_count": null,
   "id": "e5aa5334",
   "metadata": {},
   "outputs": [],
   "source": []
  }
 ],
 "metadata": {
  "kernelspec": {
   "display_name": "Python 3 (ipykernel)",
   "language": "python",
   "name": "python3"
  },
  "language_info": {
   "codemirror_mode": {
    "name": "ipython",
    "version": 3
   },
   "file_extension": ".py",
   "mimetype": "text/x-python",
   "name": "python",
   "nbconvert_exporter": "python",
   "pygments_lexer": "ipython3",
   "version": "3.10.9"
  }
 },
 "nbformat": 4,
 "nbformat_minor": 5
}
